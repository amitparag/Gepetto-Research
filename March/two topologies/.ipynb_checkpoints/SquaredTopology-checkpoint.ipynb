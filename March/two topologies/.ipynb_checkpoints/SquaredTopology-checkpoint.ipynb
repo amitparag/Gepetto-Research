{
 "cells": [
  {
   "cell_type": "code",
   "execution_count": 1,
   "metadata": {},
   "outputs": [],
   "source": [
    "%load_ext autoreload\n",
    "%autoreload 2"
   ]
  },
  {
   "cell_type": "code",
   "execution_count": 2,
   "metadata": {},
   "outputs": [],
   "source": [
    "import torch\n",
    "import torch.nn as nn\n",
    "import torch.nn.functional as F\n",
    "import torch.optim as optim\n",
    "import numpy as np\n",
    "import numdifftools as nd\n",
    "import matplotlib.pyplot as plt\n",
    "from tqdm import tqdm\n",
    "%matplotlib inline\n"
   ]
  },
  {
   "cell_type": "code",
   "execution_count": 3,
   "metadata": {},
   "outputs": [],
   "source": [
    "def loss(x):\n",
    "    return x[0]**2 + x[1]**2 + x[2]**2"
   ]
  },
  {
   "cell_type": "code",
   "execution_count": null,
   "metadata": {},
   "outputs": [],
   "source": [
    "class SquaredNet(nn.Module):\n",
    "    def __init__(self, input_features, output_features):\n",
    "        super().__init__()\n",
    "        \n",
    "        self.input_features = input_features\n",
    "        self.output_features = output_features\n",
    "\n",
    "        self.fc1 = nn.Linear(self.input_features, 8)\n",
    "        f1 = 1 / np.sqrt(self.fc1.weight.data.size()[0])\n",
    "        torch.nn.init.normal_(self.fc1.weight.data, -f1, f1)\n",
    "        torch.nn.init.uniform_(self.fc1.bias, -f1, f1)        \n",
    "        \n",
    "\n",
    "        self.fc2 = nn.Linear(8, 8)\n",
    "        f2 = 1 / np.sqrt(self.fc2.weight.data.size()[0])\n",
    "        torch.nn.init.normal_(self.fc2.weight.data, -f2, f2)\n",
    "        torch.nn.init.uniform_(self.fc2.bias, -f2, f2)        \n",
    "        \n",
    "                \n",
    "        self.fc3 = nn.Linear(8, 3)\n",
    "        f3 = 1 / np.sqrt(self.fc3.weight.data.size()[0])\n",
    "        torch.nn.init.normal_(self.fc3.weight.data, -f3, f3)\n",
    "        torch.nn.init.uniform_(self.fc3.bias, -f3, f3)   \n",
    "        \n",
    "        self.fc4 = nn.Linear(3, self.output_features)        \n",
    "        self.device = torch.device('cpu' if torch.cuda.is_available() else 'cpu')\n",
    "        self.to(self.device)\n",
    "\n",
    "    def forward(self, x):\n",
    "        \n",
    "        x = torch.tanh(self.fc1(x)) \n",
    "        x = torch.tanh(self.fc2(x))\n",
    "        x = (self.fc3(x))\n",
    "        x = self.fc4(x)**2\n",
    "        return x"
   ]
  }
 ],
 "metadata": {
  "kernelspec": {
   "display_name": "Python 3",
   "language": "python",
   "name": "python3"
  },
  "language_info": {
   "codemirror_mode": {
    "name": "ipython",
    "version": 3
   },
   "file_extension": ".py",
   "mimetype": "text/x-python",
   "name": "python",
   "nbconvert_exporter": "python",
   "pygments_lexer": "ipython3",
   "version": "3.6.9"
  }
 },
 "nbformat": 4,
 "nbformat_minor": 2
}
