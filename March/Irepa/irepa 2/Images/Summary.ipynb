{
 "cells": [
  {
   "cell_type": "markdown",
   "metadata": {},
   "source": [
    "#### The Setup\n",
    "\n",
    "The Images on the left are the result of neural net trained on ||Vref - V||**2\n",
    "\n",
    "The images on the right are the result of neural net trained on ||Xref - X|| **2"
   ]
  },
  {
   "cell_type": "markdown",
   "metadata": {},
   "source": [
    "### Irepa 1\n",
    "\n",
    "###### Cost Comparision                                                        ||Vref - V||**2  vs |Xref - X|| **2\n",
    "\n",
    "<table>\n",
    "<tr><td><img src=\"./../../Irepa/Images/Cost1.png\"></td><td><img src=\"Cost1.png\"></td></tr>\n",
    "</table>\n",
    "\n",
    "###### The corresponding ddp.iter comparision\n",
    "\n",
    "<table>\n",
    "<tr><td><img src=\"./../../Irepa/Images/ddp_iters1.png\"></td><td><img src=\"ddp_iters1.png\"></td></tr>\n",
    "</table>"
   ]
  },
  {
   "cell_type": "markdown",
   "metadata": {},
   "source": [
    "### Irepa 10\n",
    "\n",
    "###### Cost Comparision\n",
    "\n",
    "<table>\n",
    "<tr><td><img src=\"./../../Irepa/Images/Cost10.png\"></td><td><img src=\"Cost10.png\"></td></tr>\n",
    "</table>\n",
    "\n",
    "###### ddp.iter comparision\n",
    "\n",
    "<table>\n",
    "<tr><td><img src=\"./../../Irepa/Images/ddp_iters10.png\"></td><td><img src=\"ddp_iters10.png\"></td></tr>\n",
    "</table>"
   ]
  },
  {
   "cell_type": "markdown",
   "metadata": {},
   "source": [
    "### Irepa 20\n",
    "\n",
    "###### Cost Comparision\n",
    "\n",
    "<table>\n",
    "<tr><td><img src=\"./../../Irepa/Images/Cost20.png\"></td><td><img src=\"Cost20.png\"></td></tr>\n",
    "</table>\n",
    "\n",
    "###### ddp.iter comparision\n",
    "\n",
    "<table>\n",
    "<tr><td><img src=\"./../../Irepa/Images/ddp_iters20.png\"></td><td><img src=\"ddp_iters20.png\"></td></tr>\n",
    "</table>"
   ]
  },
  {
   "cell_type": "code",
   "execution_count": null,
   "metadata": {},
   "outputs": [],
   "source": []
  }
 ],
 "metadata": {
  "kernelspec": {
   "display_name": "Python 3",
   "language": "python",
   "name": "python3"
  },
  "language_info": {
   "codemirror_mode": {
    "name": "ipython",
    "version": 3
   },
   "file_extension": ".py",
   "mimetype": "text/x-python",
   "name": "python",
   "nbconvert_exporter": "python",
   "pygments_lexer": "ipython3",
   "version": "3.6.9"
  }
 },
 "nbformat": 4,
 "nbformat_minor": 2
}
