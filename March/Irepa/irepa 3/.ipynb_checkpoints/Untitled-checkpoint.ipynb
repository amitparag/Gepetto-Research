{
 "cells": [
  {
   "cell_type": "code",
   "execution_count": 17,
   "metadata": {},
   "outputs": [
    {
     "name": "stdout",
     "output_type": "stream",
     "text": [
      "The autoreload extension is already loaded. To reload it, use:\n",
      "  %reload_ext autoreload\n"
     ]
    }
   ],
   "source": [
    "%load_ext autoreload\n",
    "%autoreload 2"
   ]
  },
  {
   "cell_type": "code",
   "execution_count": 18,
   "metadata": {},
   "outputs": [],
   "source": [
    "import torch\n",
    "import numpy as np\n",
    "import matplotlib.pyplot as plt\n",
    "from scipy.interpolate import griddata\n",
    "from xRefNet import *\n",
    "from terminal_data import *\n",
    "from base_data import *\n",
    "%matplotlib inline"
   ]
  },
  {
   "cell_type": "code",
   "execution_count": 3,
   "metadata": {},
   "outputs": [
    {
     "name": "stdout",
     "output_type": "stream",
     "text": [
      "(1000, 3) (1000, 3)\n"
     ]
    }
   ],
   "source": [
    "# get base data:\n",
    "base_position, base_x_ref = base_data()\n",
    "print(base_position.shape, base_x_ref.shape)"
   ]
  },
  {
   "cell_type": "code",
   "execution_count": 4,
   "metadata": {},
   "outputs": [],
   "source": [
    "net0 = xRefNet(3, 3)"
   ]
  },
  {
   "cell_type": "code",
   "execution_count": 5,
   "metadata": {},
   "outputs": [
    {
     "name": "stderr",
     "output_type": "stream",
     "text": [
      "100%|██████████| 100/100 [03:49<00:00,  2.30s/it]\n"
     ]
    }
   ],
   "source": [
    "net0 = train_xRefNet(net0, base_position, base_x_ref)"
   ]
  },
  {
   "cell_type": "code",
   "execution_count": 8,
   "metadata": {},
   "outputs": [
    {
     "ename": "ArgumentError",
     "evalue": "Python argument types in\n    None.None(ActionDataAbstract, Tensor)\ndid not match C++ signature:\n    None(crocoddyl::ActionDataAbstract {lvalue}, double)",
     "output_type": "error",
     "traceback": [
      "\u001b[0;31m---------------------------------------------------------------------------\u001b[0m",
      "\u001b[0;31mArgumentError\u001b[0m                             Traceback (most recent call last)",
      "\u001b[0;32m<ipython-input-8-e1b34583751e>\u001b[0m in \u001b[0;36m<module>\u001b[0;34m()\u001b[0m\n\u001b[0;32m----> 1\u001b[0;31m \u001b[0mposition\u001b[0m \u001b[0;34m,\u001b[0m \u001b[0mx_ref\u001b[0m \u001b[0;34m=\u001b[0m \u001b[0mterminalData\u001b[0m\u001b[0;34m(\u001b[0m\u001b[0mnet0\u001b[0m\u001b[0;34m)\u001b[0m\u001b[0;34m\u001b[0m\u001b[0;34m\u001b[0m\u001b[0m\n\u001b[0m",
      "\u001b[0;32m/home/amit/LAAS_CNRS/Gepetto-Research/irepa 3/terminal_data.py\u001b[0m in \u001b[0;36mterminalData\u001b[0;34m(net)\u001b[0m\n\u001b[1;32m     15\u001b[0m         \u001b[0mproblem\u001b[0m \u001b[0;34m=\u001b[0m \u001b[0mc\u001b[0m\u001b[0;34m.\u001b[0m\u001b[0mShootingProblem\u001b[0m\u001b[0;34m(\u001b[0m\u001b[0mx0\u001b[0m\u001b[0;34m.\u001b[0m\u001b[0mT\u001b[0m\u001b[0;34m,\u001b[0m \u001b[0;34m[\u001b[0m \u001b[0mmodel\u001b[0m \u001b[0;34m]\u001b[0m \u001b[0;34m*\u001b[0m \u001b[0mT\u001b[0m\u001b[0;34m,\u001b[0m \u001b[0mterminal\u001b[0m\u001b[0;34m)\u001b[0m\u001b[0;34m\u001b[0m\u001b[0;34m\u001b[0m\u001b[0m\n\u001b[1;32m     16\u001b[0m         \u001b[0mddp\u001b[0m \u001b[0;34m=\u001b[0m \u001b[0mc\u001b[0m\u001b[0;34m.\u001b[0m\u001b[0mSolverDDP\u001b[0m\u001b[0;34m(\u001b[0m\u001b[0mproblem\u001b[0m\u001b[0;34m)\u001b[0m\u001b[0;34m\u001b[0m\u001b[0;34m\u001b[0m\u001b[0m\n\u001b[0;32m---> 17\u001b[0;31m         \u001b[0mddp\u001b[0m\u001b[0;34m.\u001b[0m\u001b[0msolve\u001b[0m\u001b[0;34m(\u001b[0m\u001b[0;34m)\u001b[0m\u001b[0;34m\u001b[0m\u001b[0;34m\u001b[0m\u001b[0m\n\u001b[0m\u001b[1;32m     18\u001b[0m         \u001b[0mpositions\u001b[0m\u001b[0;34m.\u001b[0m\u001b[0mappend\u001b[0m\u001b[0;34m(\u001b[0m\u001b[0mx0\u001b[0m\u001b[0;34m)\u001b[0m\u001b[0;34m\u001b[0m\u001b[0;34m\u001b[0m\u001b[0m\n\u001b[1;32m     19\u001b[0m         \u001b[0mx_ref\u001b[0m\u001b[0;34m.\u001b[0m\u001b[0mappend\u001b[0m\u001b[0;34m(\u001b[0m\u001b[0mddp\u001b[0m\u001b[0;34m.\u001b[0m\u001b[0mxs\u001b[0m\u001b[0;34m[\u001b[0m\u001b[0;34m-\u001b[0m\u001b[0;36m1\u001b[0m\u001b[0;34m]\u001b[0m\u001b[0;34m.\u001b[0m\u001b[0mtolist\u001b[0m\u001b[0;34m(\u001b[0m\u001b[0;34m)\u001b[0m\u001b[0;34m)\u001b[0m\u001b[0;34m\u001b[0m\u001b[0;34m\u001b[0m\u001b[0m\n",
      "\u001b[0;32m/home/amit/LAAS_CNRS/Gepetto-Research/irepa 3/terminal_model.py\u001b[0m in \u001b[0;36mcalcDiff\u001b[0;34m(self, data, x, u, recalc)\u001b[0m\n\u001b[1;32m     46\u001b[0m             \u001b[0mu\u001b[0m \u001b[0;34m=\u001b[0m \u001b[0mself\u001b[0m\u001b[0;34m.\u001b[0m\u001b[0munone\u001b[0m\u001b[0;34m\u001b[0m\u001b[0;34m\u001b[0m\u001b[0m\n\u001b[1;32m     47\u001b[0m         \u001b[0;32mif\u001b[0m \u001b[0mrecalc\u001b[0m\u001b[0;34m:\u001b[0m\u001b[0;34m\u001b[0m\u001b[0;34m\u001b[0m\u001b[0m\n\u001b[0;32m---> 48\u001b[0;31m             \u001b[0mself\u001b[0m\u001b[0;34m.\u001b[0m\u001b[0mcalc\u001b[0m\u001b[0;34m(\u001b[0m\u001b[0mdata\u001b[0m\u001b[0;34m,\u001b[0m \u001b[0mx\u001b[0m\u001b[0;34m,\u001b[0m \u001b[0mu\u001b[0m\u001b[0;34m)\u001b[0m\u001b[0;34m\u001b[0m\u001b[0;34m\u001b[0m\u001b[0m\n\u001b[0m\u001b[1;32m     49\u001b[0m \u001b[0;34m\u001b[0m\u001b[0m\n\u001b[1;32m     50\u001b[0m         \u001b[0mx0\u001b[0m \u001b[0;34m=\u001b[0m \u001b[0mtorch\u001b[0m\u001b[0;34m.\u001b[0m\u001b[0mas_tensor\u001b[0m\u001b[0;34m(\u001b[0m\u001b[0mm2a\u001b[0m\u001b[0;34m(\u001b[0m\u001b[0mx\u001b[0m\u001b[0;34m.\u001b[0m\u001b[0mT\u001b[0m\u001b[0;34m)\u001b[0m\u001b[0;34m,\u001b[0m \u001b[0mdevice\u001b[0m \u001b[0;34m=\u001b[0m \u001b[0mdevice\u001b[0m\u001b[0;34m,\u001b[0m \u001b[0mdtype\u001b[0m \u001b[0;34m=\u001b[0m \u001b[0mtorch\u001b[0m\u001b[0;34m.\u001b[0m\u001b[0mfloat32\u001b[0m\u001b[0;34m)\u001b[0m\u001b[0;34m.\u001b[0m\u001b[0mresize_\u001b[0m\u001b[0;34m(\u001b[0m\u001b[0;36m1\u001b[0m\u001b[0;34m,\u001b[0m \u001b[0;36m3\u001b[0m\u001b[0;34m)\u001b[0m\u001b[0;34m\u001b[0m\u001b[0;34m\u001b[0m\u001b[0m\n",
      "\u001b[0;32m/home/amit/LAAS_CNRS/Gepetto-Research/irepa 3/terminal_model.py\u001b[0m in \u001b[0;36mcalc\u001b[0;34m(self, data, x, u)\u001b[0m\n\u001b[1;32m     40\u001b[0m         \u001b[0mx0\u001b[0m \u001b[0;34m=\u001b[0m \u001b[0mtorch\u001b[0m\u001b[0;34m.\u001b[0m\u001b[0mas_tensor\u001b[0m\u001b[0;34m(\u001b[0m\u001b[0mm2a\u001b[0m\u001b[0;34m(\u001b[0m\u001b[0mx\u001b[0m\u001b[0;34m.\u001b[0m\u001b[0mT\u001b[0m\u001b[0;34m)\u001b[0m\u001b[0;34m,\u001b[0m \u001b[0mdevice\u001b[0m \u001b[0;34m=\u001b[0m \u001b[0mdevice\u001b[0m\u001b[0;34m,\u001b[0m \u001b[0mdtype\u001b[0m \u001b[0;34m=\u001b[0m \u001b[0mtorch\u001b[0m\u001b[0;34m.\u001b[0m\u001b[0mfloat32\u001b[0m\u001b[0;34m)\u001b[0m\u001b[0;34m.\u001b[0m\u001b[0mresize_\u001b[0m\u001b[0;34m(\u001b[0m\u001b[0;36m1\u001b[0m\u001b[0;34m,\u001b[0m \u001b[0;36m3\u001b[0m\u001b[0;34m)\u001b[0m\u001b[0;34m\u001b[0m\u001b[0;34m\u001b[0m\u001b[0m\n\u001b[1;32m     41\u001b[0m         \u001b[0mvalue\u001b[0m \u001b[0;34m=\u001b[0m \u001b[0;36m0.5\u001b[0m \u001b[0;34m*\u001b[0m \u001b[0mtorch\u001b[0m\u001b[0;34m.\u001b[0m\u001b[0mabs\u001b[0m\u001b[0;34m(\u001b[0m\u001b[0mx0\u001b[0m \u001b[0;34m-\u001b[0m \u001b[0mself\u001b[0m\u001b[0;34m.\u001b[0m\u001b[0mnet\u001b[0m\u001b[0;34m(\u001b[0m\u001b[0mx0\u001b[0m\u001b[0;34m)\u001b[0m\u001b[0;34m)\u001b[0m \u001b[0;34m**\u001b[0m \u001b[0;36m2\u001b[0m\u001b[0;34m\u001b[0m\u001b[0;34m\u001b[0m\u001b[0m\n\u001b[0;32m---> 42\u001b[0;31m         \u001b[0mdata\u001b[0m\u001b[0;34m.\u001b[0m\u001b[0mcost\u001b[0m \u001b[0;34m=\u001b[0m \u001b[0mvalue\u001b[0m\u001b[0;34m\u001b[0m\u001b[0;34m\u001b[0m\u001b[0m\n\u001b[0m\u001b[1;32m     43\u001b[0m \u001b[0;34m\u001b[0m\u001b[0m\n\u001b[1;32m     44\u001b[0m     \u001b[0;32mdef\u001b[0m \u001b[0mcalcDiff\u001b[0m\u001b[0;34m(\u001b[0m\u001b[0mself\u001b[0m\u001b[0;34m,\u001b[0m \u001b[0mdata\u001b[0m\u001b[0;34m,\u001b[0m \u001b[0mx\u001b[0m\u001b[0;34m,\u001b[0m \u001b[0mu\u001b[0m\u001b[0;34m=\u001b[0m\u001b[0;32mNone\u001b[0m\u001b[0;34m,\u001b[0m \u001b[0mrecalc\u001b[0m\u001b[0;34m=\u001b[0m\u001b[0;32mTrue\u001b[0m\u001b[0;34m)\u001b[0m\u001b[0;34m:\u001b[0m\u001b[0;34m\u001b[0m\u001b[0;34m\u001b[0m\u001b[0m\n",
      "\u001b[0;31mArgumentError\u001b[0m: Python argument types in\n    None.None(ActionDataAbstract, Tensor)\ndid not match C++ signature:\n    None(crocoddyl::ActionDataAbstract {lvalue}, double)"
     ]
    }
   ],
   "source": [
    "position , x_ref = terminalData(net0)"
   ]
  },
  {
   "cell_type": "code",
   "execution_count": 25,
   "metadata": {},
   "outputs": [],
   "source": [
    "from terminal_model import UnicycleTerminal"
   ]
  },
  {
   "cell_type": "code",
   "execution_count": 26,
   "metadata": {},
   "outputs": [
    {
     "name": "stdout",
     "output_type": "stream",
     "text": [
      "0.000456509500509128\n",
      "3.5463836193084717\n",
      "0.18647903203964233\n",
      "0.18093478679656982\n",
      "0.08116050809621811\n",
      "0.03810196742415428\n",
      "0.007736055180430412\n",
      "0.0014886293793097138\n",
      "0.00039252766873687506\n",
      "0.0002569755306467414\n",
      "0.0001991361059481278\n",
      "0.00020139443222433329\n",
      "0.0001918585621751845\n",
      "0.0001952273742062971\n",
      "0.00019246459123678505\n",
      "0.00019392318790778518\n",
      "0.00019297034305054694\n",
      "0.0001935472246259451\n",
      "0.00019319292914588004\n",
      "0.00019340950530022383\n",
      "0.00019327248446643353\n",
      "0.00019335678371135145\n",
      "0.0001933086896315217\n",
      "0.00019334242097102106\n",
      "0.00019332574447616935\n",
      "0.00019333764794282615\n",
      "0.00019332316878717393\n",
      "0.000193336745724082\n",
      "0.00019333088130224496\n",
      "0.00019333296222612262\n",
      "0.0001933322928380221\n",
      "0.0001933310995809734\n",
      "0.00019333258387632668\n",
      "0.0001933322928380221\n",
      "0.0001933262828970328\n",
      "0.00019333277305122465\n",
      "0.00019333238014951348\n",
      "0.0001933322346303612\n",
      "0.0001933322346303612\n",
      "0.0001933322346303612\n",
      "0.0001933262828970328\n",
      "0.00019333277305122465\n",
      "0.00019333238014951348\n",
      "0.00019333230738993734\n",
      "0.0001933322346303612\n",
      "0.0001933322346303612\n",
      "0.0001933322346303612\n",
      "0.0001933322346303612\n",
      "0.0001933262828970328\n",
      "0.00019333277305122465\n",
      "0.00019333238014951348\n",
      "0.00019333230738993734\n",
      "0.0001933322346303612\n",
      "0.0001933322346303612\n",
      "0.0001933322346303612\n",
      "0.0001933322346303612\n",
      "0.0001933322346303612\n",
      "0.0001933262828970328\n",
      "0.00019333277305122465\n",
      "0.00019333238014951348\n",
      "0.00019333230738993734\n",
      "0.0001933322346303612\n",
      "0.0001933322346303612\n",
      "0.0001933322346303612\n",
      "0.0001933322346303612\n",
      "0.0001933322346303612\n",
      "0.0001933322346303612\n",
      "0.0001933262828970328\n",
      "0.00019333277305122465\n",
      "0.00019333238014951348\n",
      "0.00019333230738993734\n",
      "0.0001933322346303612\n",
      "0.0001933322346303612\n",
      "0.0001933322346303612\n",
      "0.0001933322346303612\n",
      "0.0001933322346303612\n",
      "0.0001933322346303612\n",
      "0.0001933322346303612\n",
      "0.00019333277305122465\n",
      "0.00019333238014951348\n",
      "0.00019333230738993734\n",
      "0.0001933322346303612\n",
      "0.0001933322346303612\n",
      "0.0001933322346303612\n",
      "0.0001933322346303612\n",
      "0.0001933322346303612\n",
      "0.0001933322346303612\n",
      "0.0001933322346303612\n",
      "0.00019333277305122465\n",
      "0.00019333238014951348\n",
      "0.00019333230738993734\n",
      "0.0001933322346303612\n",
      "0.0001933322346303612\n",
      "0.0001933322346303612\n",
      "0.0001933322346303612\n",
      "0.0001933322346303612\n",
      "0.0001933322346303612\n",
      "0.0001933322346303612\n",
      "0.00019333277305122465\n",
      "0.00019333238014951348\n",
      "0.00019333230738993734\n",
      "0.0001933322346303612\n",
      "0.0001933322346303612\n",
      "0.0001933322346303612\n",
      "0.0001933322346303612\n",
      "0.0001933322346303612\n",
      "0.0001933322346303612\n",
      "0.0001933322346303612\n",
      "0.00019333277305122465\n",
      "0.00019333238014951348\n",
      "0.00019333230738993734\n",
      "0.0001933322346303612\n",
      "0.0001933322346303612\n",
      "0.0001933322346303612\n",
      "0.0001933322346303612\n",
      "0.0001933322346303612\n",
      "0.0001933322346303612\n",
      "0.0001933322346303612\n",
      "0.00019333277305122465\n",
      "0.00019333238014951348\n",
      "0.00019333230738993734\n",
      "0.0001933322346303612\n",
      "0.0001933322346303612\n",
      "0.0001933322346303612\n",
      "0.0001933322346303612\n",
      "0.0001933322346303612\n",
      "0.0001933322346303612\n",
      "0.0001933322346303612\n",
      "0.00019333262753207237\n",
      "0.00019333238014951348\n",
      "0.00019333230738993734\n",
      "0.0001933322346303612\n",
      "0.0001933322346303612\n",
      "0.0001933322346303612\n",
      "0.0001933322346303612\n",
      "0.0001933322346303612\n",
      "0.0001933322346303612\n",
      "0.0001933322346303612\n",
      "0.0001933327002916485\n",
      "0.00019333230738993734\n",
      "0.0001933322346303612\n",
      "0.0001933322346303612\n",
      "0.0001933322346303612\n",
      "0.0001933322346303612\n",
      "0.0001933322346303612\n",
      "0.0001933322346303612\n",
      "0.0001933322346303612\n",
      "0.0001933322346303612\n",
      "0.0001933322928380221\n",
      "0.00019333222007844597\n",
      "0.00019333222007844597\n",
      "0.0001933322346303612\n",
      "0.0001933322346303612\n",
      "0.0001933322346303612\n",
      "0.0001933322346303612\n",
      "0.0001933322346303612\n",
      "0.0001933262828970328\n"
     ]
    },
    {
     "ename": "NameError",
     "evalue": "name 'positions' is not defined",
     "output_type": "error",
     "traceback": [
      "\u001b[0;31m---------------------------------------------------------------------------\u001b[0m",
      "\u001b[0;31mNameError\u001b[0m                                 Traceback (most recent call last)",
      "\u001b[0;32m<ipython-input-26-f85497bb27bf>\u001b[0m in \u001b[0;36m<module>\u001b[0;34m()\u001b[0m\n\u001b[1;32m      6\u001b[0m \u001b[0mddp\u001b[0m \u001b[0;34m=\u001b[0m \u001b[0mc\u001b[0m\u001b[0;34m.\u001b[0m\u001b[0mSolverDDP\u001b[0m\u001b[0;34m(\u001b[0m\u001b[0mproblem\u001b[0m\u001b[0;34m)\u001b[0m\u001b[0;34m\u001b[0m\u001b[0;34m\u001b[0m\u001b[0m\n\u001b[1;32m      7\u001b[0m \u001b[0mddp\u001b[0m\u001b[0;34m.\u001b[0m\u001b[0msolve\u001b[0m\u001b[0;34m(\u001b[0m\u001b[0;34m)\u001b[0m\u001b[0;34m\u001b[0m\u001b[0;34m\u001b[0m\u001b[0m\n\u001b[0;32m----> 8\u001b[0;31m \u001b[0mpositions\u001b[0m\u001b[0;34m.\u001b[0m\u001b[0mappend\u001b[0m\u001b[0;34m(\u001b[0m\u001b[0mx0\u001b[0m\u001b[0;34m)\u001b[0m\u001b[0;34m\u001b[0m\u001b[0;34m\u001b[0m\u001b[0m\n\u001b[0m\u001b[1;32m      9\u001b[0m \u001b[0mx_ref\u001b[0m\u001b[0;34m.\u001b[0m\u001b[0mappend\u001b[0m\u001b[0;34m(\u001b[0m\u001b[0mddp\u001b[0m\u001b[0;34m.\u001b[0m\u001b[0mxs\u001b[0m\u001b[0;34m[\u001b[0m\u001b[0;34m-\u001b[0m\u001b[0;36m1\u001b[0m\u001b[0;34m]\u001b[0m\u001b[0;34m.\u001b[0m\u001b[0mtolist\u001b[0m\u001b[0;34m(\u001b[0m\u001b[0;34m)\u001b[0m\u001b[0;34m)\u001b[0m\u001b[0;34m\u001b[0m\u001b[0;34m\u001b[0m\u001b[0m\n",
      "\u001b[0;31mNameError\u001b[0m: name 'positions' is not defined"
     ]
    }
   ],
   "source": [
    "model = c.ActionModelUnicycle()\n",
    "terminal = UnicycleTerminal(net0)\n",
    "x0 = np.array([np.random.uniform(-2.1, 2.1), np.random.uniform(-2.1, 2.1), np.random.uniform(0,1)])\n",
    "T = 30\n",
    "problem = c.ShootingProblem(x0.T, [ model ] * T, terminal)\n",
    "ddp = c.SolverDDP(problem)\n",
    "ddp.solve()\n",
    "positions.append(x0)\n",
    "x_ref.append(ddp.xs[-1].tolist())"
   ]
  },
  {
   "cell_type": "code",
   "execution_count": 27,
   "metadata": {},
   "outputs": [
    {
     "data": {
      "text/plain": [
       "922.5296470159905"
      ]
     },
     "execution_count": 27,
     "metadata": {},
     "output_type": "execute_result"
    }
   ],
   "source": [
    "ddp.cost"
   ]
  },
  {
   "cell_type": "code",
   "execution_count": null,
   "metadata": {},
   "outputs": [],
   "source": []
  }
 ],
 "metadata": {
  "kernelspec": {
   "display_name": "Python 3",
   "language": "python",
   "name": "python3"
  },
  "language_info": {
   "codemirror_mode": {
    "name": "ipython",
    "version": 3
   },
   "file_extension": ".py",
   "mimetype": "text/x-python",
   "name": "python",
   "nbconvert_exporter": "python",
   "pygments_lexer": "ipython3",
   "version": "3.6.9"
  }
 },
 "nbformat": 4,
 "nbformat_minor": 2
}
