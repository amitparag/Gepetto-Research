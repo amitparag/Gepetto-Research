{
 "cells": [
  {
   "cell_type": "code",
   "execution_count": 1,
   "metadata": {},
   "outputs": [],
   "source": [
    "%load_ext autoreload\n",
    "%autoreload 2"
   ]
  },
  {
   "cell_type": "code",
   "execution_count": 2,
   "metadata": {},
   "outputs": [],
   "source": [
    "import torch\n",
    "import numpy as np\n",
    "torch.set_default_dtype(torch.float64)\n",
    "import numdifftools as nd"
   ]
  },
  {
   "cell_type": "code",
   "execution_count": 3,
   "metadata": {},
   "outputs": [],
   "source": [
    "def generateData(size = 1000):\n",
    "    def mse(x,y):\n",
    "        x.requires_grad_(True)\n",
    "        y.requires_grad_(True)\n",
    "        mse = torch.sum((torch.abs(x - y))**2)\n",
    "        mse.requires_grad_(True)\n",
    "        return mse\n",
    "    reference = torch.FloatTensor([1e-9, 1e-9, 1e-9])\n",
    "    xy = torch.FloatTensor(size, 2).uniform_(-2.1, 2.1)\n",
    "    z = torch.FloatTensor(size, 1).uniform_(0., 1)\n",
    "    xtrain = torch.cat((xy, z), dim=-1) #VSTACK\n",
    "    ytrain = torch.stack([mse(x, reference) for x in xtrain], 0).reshape(size, 1) ## Append to torch tensor\n",
    "\n",
    "    return xtrain, ytrain\n",
    "xTrain, yTrain = generateData(size = 1000)\n",
    "xTest, yTest = generateData(1000)"
   ]
  },
  {
   "cell_type": "code",
   "execution_count": 17,
   "metadata": {},
   "outputs": [],
   "source": [
    "import torch\n",
    "import torch.nn as nn\n",
    "import torch.nn.functional as F\n",
    "from torch.autograd import Variable\n",
    "import torch.optim as optim\n",
    "import numpy as np\n",
    "import torch.utils.data as data_utils\n",
    "torch.set_default_dtype(torch.float64)\n",
    "\n",
    "\n",
    "class SquaredNet(nn.Module):\n",
    "    def __init__(self, input_features, output_features):\n",
    "        super().__init__()\n",
    "        \n",
    "        self.input_features = input_features\n",
    "        self.output_features = output_features\n",
    "\n",
    "        self.fc1 = nn.Linear(self.input_features, 8)\n",
    "        f1 = 1 / np.sqrt(self.fc1.weight.data.size()[0])\n",
    "        torch.nn.init.normal_(self.fc1.weight.data, -f1, f1)\n",
    "        torch.nn.init.uniform_(self.fc1.bias, -f1, f1)        \n",
    "        \n",
    "\n",
    "        self.fc2 = nn.Linear(8, 8)\n",
    "        f2 = 1 / np.sqrt(self.fc2.weight.data.size()[0])\n",
    "        torch.nn.init.normal_(self.fc2.weight.data, -f2, f2)\n",
    "        torch.nn.init.uniform_(self.fc2.bias, -f2, f2)        \n",
    "        \n",
    "                \n",
    "        self.fc3 = nn.Linear(8, 3)\n",
    "        f3 = 1 / np.sqrt(self.fc3.weight.data.size()[0])\n",
    "        torch.nn.init.normal_(self.fc3.weight.data, -f3, f3)\n",
    "        torch.nn.init.uniform_(self.fc3.bias, -f3, f3)   \n",
    "        \n",
    "        self.fc4 = nn.Linear(3, self.output_features)        \n",
    "        self.device = torch.device('cpu' if torch.cuda.is_available() else 'cpu')\n",
    "        self.to(self.device)\n",
    "\n",
    "    def forward(self, x):\n",
    "        \n",
    "        x = torch.tanh(self.fc1(x)) \n",
    "\n",
    "        x = torch.tanh(self.fc2(x))\n",
    "\n",
    "        x = torch.tanh(self.fc3(x))\n",
    "        \n",
    "        x4 = self.fc4(x)**2\n",
    "        print(x4)\n",
    "        return x4\n",
    "    \n",
    "    \n",
    "def mse_loss(x, y):\n",
    "    return torch.sum((torch.abs(x - y))**2)\n",
    "    \n",
    "def trainNetwork(net, start, cost, epochs = 3):\n",
    "    from tqdm import tqdm\n",
    "    \n",
    "    net = net.float()\n",
    "    net.train()\n",
    "    optimizer = optim.Adam(net.parameters(), lr=0.001)\n",
    "    n_epochs = epochs\n",
    "    criterion = nn.CrossEntropyLoss()\n",
    "    for epoch in tqdm(range(n_epochs)):\n",
    "        for x, y in zip(start, cost):\n",
    "            x.to('cpu')\n",
    "            y.to('cpu')\n",
    "            x.requires_grad_=True\n",
    "            y_ = net(x)\n",
    "            \n",
    "            \n",
    "            loss = F.mse_loss(y_, y)\n",
    "            optimizer.zero_grad()\n",
    "            \n",
    "            loss.backward(retain_graph=True)\n",
    "            optimizer.step()  \n",
    "    del start, cost        \n",
    "    return net\n",
    "    "
   ]
  },
  {
   "cell_type": "code",
   "execution_count": 18,
   "metadata": {},
   "outputs": [],
   "source": [
    "n = SquaredNet(3, 1)"
   ]
  },
  {
   "cell_type": "code",
   "execution_count": 19,
   "metadata": {},
   "outputs": [],
   "source": [
    "x = np.random.rand(1, 3)\n"
   ]
  },
  {
   "cell_type": "code",
   "execution_count": 20,
   "metadata": {},
   "outputs": [],
   "source": [
    "def get_jacobian(net, x, noutputs):\n",
    "    x = x.squeeze()\n",
    "    n = x.size()[0]\n",
    "    x = x.repeat(noutputs, 1)\n",
    "    x.requires_grad_(True)\n",
    "    y = net(x)\n",
    "    y.backward(torch.eye(noutputs))\n",
    "    return x.grad.data                                           \n"
   ]
  },
  {
   "cell_type": "code",
   "execution_count": 21,
   "metadata": {},
   "outputs": [],
   "source": [
    "a1 = torch.as_tensor(x, dtype = torch.float64)\n"
   ]
  },
  {
   "cell_type": "code",
   "execution_count": 22,
   "metadata": {},
   "outputs": [
    {
     "name": "stdout",
     "output_type": "stream",
     "text": [
      "tensor([[0.0015]], grad_fn=<PowBackward0>)\n"
     ]
    },
    {
     "data": {
      "text/plain": [
       "tensor([[0.0015]], grad_fn=<PowBackward0>)"
      ]
     },
     "execution_count": 22,
     "metadata": {},
     "output_type": "execute_result"
    }
   ],
   "source": [
    "n(a1)"
   ]
  },
  {
   "cell_type": "code",
   "execution_count": 23,
   "metadata": {},
   "outputs": [
    {
     "name": "stdout",
     "output_type": "stream",
     "text": [
      "tensor([[0.0015]], grad_fn=<PowBackward0>)\n"
     ]
    },
    {
     "data": {
      "text/plain": [
       "tensor([[-0.0004, -0.0004, -0.0003]])"
      ]
     },
     "execution_count": 23,
     "metadata": {},
     "output_type": "execute_result"
    }
   ],
   "source": [
    "get_jacobian(n, a1, 1)"
   ]
  },
  {
   "cell_type": "code",
   "execution_count": null,
   "metadata": {},
   "outputs": [],
   "source": []
  }
 ],
 "metadata": {
  "kernelspec": {
   "display_name": "Python 3",
   "language": "python",
   "name": "python3"
  },
  "language_info": {
   "codemirror_mode": {
    "name": "ipython",
    "version": 3
   },
   "file_extension": ".py",
   "mimetype": "text/x-python",
   "name": "python",
   "nbconvert_exporter": "python",
   "pygments_lexer": "ipython3",
   "version": "3.6.9"
  }
 },
 "nbformat": 4,
 "nbformat_minor": 2
}
