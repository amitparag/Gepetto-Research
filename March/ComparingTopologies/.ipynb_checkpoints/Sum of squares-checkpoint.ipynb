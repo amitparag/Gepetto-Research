{
 "cells": [
  {
   "cell_type": "code",
   "execution_count": 2,
   "metadata": {},
   "outputs": [],
   "source": [
    "%load_ext autoreload\n",
    "%autoreload 2"
   ]
  },
  {
   "cell_type": "code",
   "execution_count": 17,
   "metadata": {},
   "outputs": [],
   "source": [
    "import torch\n",
    "import numpy as np\n",
    "from squaredTopology import *\n",
    "from feedForward import *\n",
    "torch.set_default_dtype(torch.float64)\n",
    "import numdifftools as nd"
   ]
  },
  {
   "cell_type": "code",
   "execution_count": 36,
   "metadata": {},
   "outputs": [],
   "source": [
    "xref = np.array([1e-9, 1e-9, 1e-9])\n",
    "\n",
    "def mse(x,y):\n",
    "    x.requires_grad_(True)\n",
    "    y.requires_grad_(True)\n",
    "    mse = torch.sum((torch.abs(x - y))**2)\n",
    "    mse.requires_grad_(True)\n",
    "    return mse\n",
    "\n",
    "def mseXREF(x):\n",
    "    return np.sum((np.abs(x - xref))**2)\n",
    "\n",
    "def eval_mse(net, xtest, ytest):\n",
    "    net.eval()\n",
    "    cumulative_mse = 0.\n",
    "    for x, L in zip(xtest, ytest):\n",
    "        N = net(x)\n",
    "        cumulative_mse += mse(L, N)\n",
    "    return cumulative_mse / xtest.shape[0] \n",
    "\n",
    "def jacobian(y, x, create_graph=False):                                                               \n",
    "    jac = []                                                                                          \n",
    "    flat_y = y.reshape(-1)                                                                            \n",
    "    grad_y = torch.zeros_like(flat_y)                                                                 \n",
    "    for i in range(len(flat_y)):                                                                      \n",
    "        grad_y[i] = 1.                                                                                \n",
    "        grad_x, = torch.autograd.grad(flat_y, x, grad_y, \n",
    "                                      retain_graph=True,\n",
    "                                      create_graph=create_graph )\n",
    "        jac.append(grad_x.reshape(x.shape))                                                           \n",
    "        grad_y[i] = 0.                                                                                \n",
    "    return torch.stack(jac).reshape(y.shape + x.shape)                                                \n",
    "                                                                                                      \n",
    "def hessian(y, x):                                                                                    \n",
    "    return jacobian(jacobian(y, x, create_graph=True), x)"
   ]
  },
  {
   "cell_type": "code",
   "execution_count": null,
   "metadata": {},
   "outputs": [],
   "source": []
  },
  {
   "cell_type": "code",
   "execution_count": 5,
   "metadata": {},
   "outputs": [],
   "source": [
    "def generateData(size = 1000):\n",
    "\n",
    "    xy = torch.FloatTensor(size, 2).uniform_(-2.1, 2.1)\n",
    "    z = torch.FloatTensor(size, 1).uniform_(0., 1)\n",
    "    xtrain = torch.cat((xy, z), dim=-1) #VSTACK\n",
    "        \n",
    "    ytrain = torch.stack([mse(x, xref) for x in xtrain], 0).resize_(size, 1) ## Append to torch tensor\n",
    "      \n",
    "    print(xtrain.shape)\n",
    "    print(ytrain.size())\n",
    "\n",
    "    return xtrain, ytrain\n",
    "    "
   ]
  },
  {
   "cell_type": "code",
   "execution_count": 6,
   "metadata": {},
   "outputs": [
    {
     "name": "stdout",
     "output_type": "stream",
     "text": [
      "torch.Size([1000, 3])\n",
      "torch.Size([1000, 1])\n",
      "torch.Size([10000, 3])\n",
      "torch.Size([10000, 1])\n"
     ]
    }
   ],
   "source": [
    "xTrain, yTrain = generateData(size = 1000)\n",
    "xTest, yTest = generateData(10000)"
   ]
  },
  {
   "cell_type": "code",
   "execution_count": 7,
   "metadata": {},
   "outputs": [
    {
     "name": "stderr",
     "output_type": "stream",
     "text": [
      "100%|██████████| 5/5 [00:02<00:00,  2.22it/s]\n"
     ]
    },
    {
     "name": "stdout",
     "output_type": "stream",
     "text": [
      "Evaluted MSE for Squared Topology :  tensor(3.6222, grad_fn=<DivBackward0>)\n"
     ]
    }
   ],
   "source": [
    "sNet = trainNetwork(SquaredNet(3, 1), xTrain, yTrain, epochs=5)\n",
    "print(\"Evaluted MSE for Squared Topology : \", eval_mse(sNet, xTest, yTest))"
   ]
  },
  {
   "cell_type": "code",
   "execution_count": null,
   "metadata": {},
   "outputs": [],
   "source": []
  }
 ],
 "metadata": {
  "kernelspec": {
   "display_name": "Python 3",
   "language": "python",
   "name": "python3"
  },
  "language_info": {
   "codemirror_mode": {
    "name": "ipython",
    "version": 3
   },
   "file_extension": ".py",
   "mimetype": "text/x-python",
   "name": "python",
   "nbconvert_exporter": "python",
   "pygments_lexer": "ipython3",
   "version": "3.6.9"
  }
 },
 "nbformat": 4,
 "nbformat_minor": 2
}
