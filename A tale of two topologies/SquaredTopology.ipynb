{
 "cells": [
  {
   "cell_type": "code",
   "execution_count": 1,
   "metadata": {},
   "outputs": [],
   "source": [
    "%load_ext autoreload\n",
    "%autoreload 2"
   ]
  },
  {
   "cell_type": "code",
   "execution_count": 2,
   "metadata": {},
   "outputs": [],
   "source": [
    "import torch\n",
    "import torch.nn as nn\n",
    "import torch.nn.functional as F\n",
    "import torch.optim as optim\n",
    "import numpy as np\n",
    "import numdifftools as nd\n",
    "import matplotlib.pyplot as plt\n",
    "from tqdm import tqdm\n",
    "%matplotlib inline\n"
   ]
  },
  {
   "cell_type": "code",
   "execution_count": 3,
   "metadata": {},
   "outputs": [],
   "source": [
    "def loss(x):\n",
    "    return x[0]**2 + x[1]**2 + x[2]**2"
   ]
  },
  {
   "cell_type": "code",
   "execution_count": 4,
   "metadata": {},
   "outputs": [],
   "source": [
    "class SquaredNet(nn.Module):\n",
    "    def __init__(self, input_features, output_features):\n",
    "        super().__init__()\n",
    "        \n",
    "        self.input_features = input_features\n",
    "        self.output_features = output_features\n",
    "\n",
    "        self.fc1 = nn.Linear(self.input_features, 8)\n",
    "        f1 = 1 / np.sqrt(self.fc1.weight.data.size()[0])\n",
    "        torch.nn.init.normal_(self.fc1.weight.data, -f1, f1)\n",
    "        torch.nn.init.uniform_(self.fc1.bias, -f1, f1)        \n",
    "        \n",
    "\n",
    "        self.fc2 = nn.Linear(8, 8)\n",
    "        f2 = 1 / np.sqrt(self.fc2.weight.data.size()[0])\n",
    "        torch.nn.init.normal_(self.fc2.weight.data, -f2, f2)\n",
    "        torch.nn.init.uniform_(self.fc2.bias, -f2, f2)        \n",
    "        \n",
    "                \n",
    "        self.fc3 = nn.Linear(8, 3)\n",
    "        f3 = 1 / np.sqrt(self.fc3.weight.data.size()[0])\n",
    "        torch.nn.init.normal_(self.fc3.weight.data, -f3, f3)\n",
    "        torch.nn.init.uniform_(self.fc3.bias, -f3, f3)   \n",
    "        \n",
    "        self.fc4 = nn.Linear(3, self.output_features)        \n",
    "        self.device = torch.device('cpu' if torch.cuda.is_available() else 'cpu')\n",
    "        self.to(self.device)\n",
    "\n",
    "    def forward(self, x):\n",
    "        \n",
    "        x = torch.tanh(self.fc1(x)) \n",
    "        x = torch.tanh(self.fc2(x))\n",
    "        x = self.fc3(x)\n",
    "        y = self.fc4(x) @ self.fc4(x).T\n",
    "        return y\n",
    "    \n",
    "def _jacobian(net, x, noutputs):\n",
    "    \"\"\"\n",
    "    Returns: d(N_W) / d(x)\n",
    "    \n",
    "    \"\"\"\n",
    "    \n",
    "    x = x.squeeze()\n",
    "    n = x.size()[0]\n",
    "    x = x.repeat(noutputs, 1)\n",
    "    x.requires_grad_(True)\n",
    "    y = net(x)\n",
    "    y.backward(torch.eye(noutputs))\n",
    "    return x.grad.data"
   ]
  },
  {
   "cell_type": "code",
   "execution_count": 5,
   "metadata": {},
   "outputs": [],
   "source": [
    "def _data(size=1000):\n",
    "    \"\"\"\n",
    "    Returns data in the form of x --> L(x)\n",
    "    where x = x, y, theta = 0\n",
    "    \n",
    "    \"\"\"\n",
    "    _xtrain = []\n",
    "    _ytrain = []\n",
    "    for _ in range(size):\n",
    "        xyz = [np.random.uniform(-2.1, 2.1), \n",
    "               np.random.uniform(-2.1, 2.1),\n",
    "               0]\n",
    "        \n",
    "        cost = loss(xyz)\n",
    "        \n",
    "        _xtrain.append(xyz)\n",
    "        _ytrain.append([cost])\n",
    "        \n",
    "    xtrain = torch.tensor(_xtrain, dtype = torch.float32)\n",
    "    ytrain = torch.tensor(_ytrain, dtype = torch.float32)\n",
    "        \n",
    "    return xtrain, ytrain\n",
    "    "
   ]
  },
  {
   "cell_type": "code",
   "execution_count": 6,
   "metadata": {},
   "outputs": [],
   "source": [
    "def _train(epochs=200):\n",
    "    \"\"\"\n",
    "    Returns a trained neural network\n",
    "    \n",
    "    \"\"\"\n",
    "    \n",
    "    \n",
    "    # Generate data\n",
    "    xtrain, ytrain = _data(1000)\n",
    "    \n",
    "    \n",
    "    # Generate a Neural Net\n",
    "    net = SquaredNet(xtrain.shape[1], ytrain.shape[1])\n",
    "    net = net.float()\n",
    "    net.train()\n",
    "    optimizer = optim.Adam(net.parameters(), lr=0.001)\n",
    "    \n",
    "        \n",
    "    # Training    \n",
    "    for epoch in tqdm(range(epochs)):\n",
    "        for x, y in zip(xtrain, ytrain):\n",
    "                       \n",
    "            optimizer.zero_grad()\n",
    "            y_ = net(x)          \n",
    "            loss = (y_ - y)**2\n",
    "            loss.backward()\n",
    "            optimizer.step()  \n",
    "    \n",
    "    del xtrain, ytrain        \n",
    "    return net\n",
    "    "
   ]
  },
  {
   "cell_type": "code",
   "execution_count": 7,
   "metadata": {},
   "outputs": [],
   "source": [
    "# Calculate MSE for test\n",
    "def evaluationMSE(net, size  = 10000):\n",
    "    \n",
    "    x, lx = _data(size)\n",
    "    \n",
    "    net.eval()\n",
    "    \n",
    "    totalLoss = 0.\n",
    "    \n",
    "    with torch.no_grad():\n",
    "        for test, target in zip(x, lx):\n",
    "            \n",
    "            prediction = net(test)\n",
    "            \n",
    "            totalLoss += (prediction.item() - target.item()) ** 2\n",
    "            \n",
    "    return totalLoss / size"
   ]
  },
  {
   "cell_type": "code",
   "execution_count": 8,
   "metadata": {},
   "outputs": [
    {
     "name": "stderr",
     "output_type": "stream",
     "text": [
      "100%|██████████| 200/200 [03:07<00:00,  1.07it/s]\n"
     ]
    }
   ],
   "source": [
    "sqn = _train()"
   ]
  },
  {
   "cell_type": "code",
   "execution_count": 9,
   "metadata": {},
   "outputs": [
    {
     "name": "stdout",
     "output_type": "stream",
     "text": [
      "MSE for Squared Network is : 0.11761996548979177\n"
     ]
    }
   ],
   "source": [
    "print(f\"MSE for Squared Network is : {evaluationMSE(sqn, 1000)}\")"
   ]
  },
  {
   "cell_type": "code",
   "execution_count": 10,
   "metadata": {},
   "outputs": [],
   "source": [
    "# Calculate MSDE\n",
    "\n",
    "def evalMSDE(net, npoints=1000):\n",
    "    \n",
    "    jacobianLossFunction = nd.Jacobian(loss)\n",
    "    \n",
    "    net.eval()\n",
    "    \n",
    "    mean_squared_derivative_error = 0.\n",
    "    \n",
    "    for _ in range(npoints):\n",
    "        xyz = [np.random.uniform(-2.1, 2.1), \n",
    "               np.random.uniform(-2.1, 2.1),\n",
    "               0]\n",
    "        \n",
    "        # calculate the derivative of loss with respect to x, del L\n",
    "        delLf = jacobianLossFunction(xyz).squeeze().tolist()\n",
    "        \n",
    "        # convert input to tensor\n",
    "        test = torch.tensor(xyz, dtype = torch.float32)\n",
    "        # Get derivative of net prediction\n",
    "        delNw = _jacobian(net, test, 1).numpy().squeeze().tolist()\n",
    "        \n",
    "\n",
    "        \n",
    "        # Calculate the sum of squared errors for the two arrays\n",
    "        error = (delLf[0] - delNw[0])**2 + (delLf[1] - delNw[1])**2 + (delLf[2] - delNw[2])**2\n",
    "        mean_squared_derivative_error += error\n",
    "        \n",
    "    return mean_squared_derivative_error / npoints\n"
   ]
  },
  {
   "cell_type": "code",
   "execution_count": 11,
   "metadata": {},
   "outputs": [
    {
     "name": "stdout",
     "output_type": "stream",
     "text": [
      "MSDE for Squared Network is : 77.48354486356762\n"
     ]
    }
   ],
   "source": [
    "print(f\"MSDE for Squared Network is : {evalMSDE(sqn, 1000)}\")    "
   ]
  },
  {
   "cell_type": "code",
   "execution_count": 12,
   "metadata": {},
   "outputs": [],
   "source": [
    "def scatterNeuralNetwork(net,npoints = 1000):\n",
    "    \"\"\"\n",
    "    Scatter plot of L(x) w.r.t x1, x2\n",
    "        \n",
    "    \"\"\"\n",
    "    net.eval()\n",
    "    \n",
    "    min_x, max_x, dim_x = (-2, 2, npoints)\n",
    "    min_y, max_y, dim_y = (-2, 2, npoints)\n",
    "    x = np.linspace(min_x, max_x, dim_x)\n",
    "    y = np.linspace(min_y, max_y, dim_y)\n",
    "\n",
    "    X,Y = np.meshgrid(x,y)\n",
    "\n",
    "    def z_function(x,y):\n",
    "        theta = 0\n",
    "        _sample = [x, y, theta]\n",
    "        sample = torch.tensor(_sample, dtype = torch.float32)\n",
    "        with torch.no_grad():\n",
    "            prediction = net(sample)\n",
    "        return prediction.detach().numpy().squeeze().tolist()\n",
    "\n",
    "    z = np.array([z_function(x,y) for (x,y) in zip(np.ravel(X), np.ravel(Y))])\n",
    "    Z = z.reshape(X.shape)\n",
    "\n",
    "    plt.pcolormesh(X,Y,Z)\n",
    "    plt.xlim(-2.2, 2.2)\n",
    "    plt.ylim(-2.2,2.2)\n",
    "    plt.xticks(np.arange(-2.5, 2.6, step=1))\n",
    "    plt.yticks(np.arange(-2.5, 2.6, step=1))\n",
    "    plt.title(\"Squared Network\")\n",
    "    cbar = plt.colorbar()\n",
    "    cbar.set_label('Cost')\n",
    "    plt.savefig(\"Squared Network.png\")\n",
    "\n",
    "    plt.show()"
   ]
  },
  {
   "cell_type": "code",
   "execution_count": 13,
   "metadata": {},
   "outputs": [
    {
     "data": {
      "image/png": "[encoded data removed]",
      "text/plain": [
       "<Figure size 432x288 with 2 Axes>"
      ]
     },
     "metadata": {},
     "output_type": "display_data"
    }
   ],
   "source": [
    "scatterNeuralNetwork(sqn)"
   ]
  },
  {
   "cell_type": "code",
   "execution_count": 14,
   "metadata": {},
   "outputs": [],
   "source": [
    "def scatterMSE(net, npoints=1000):\n",
    "    net.eval()\n",
    "    \n",
    "    min_x, max_x, dim_x = (-2, 2, npoints)\n",
    "    min_y, max_y, dim_y = (-2, 2, npoints)\n",
    "    x = np.linspace(min_x, max_x, dim_x)\n",
    "    y = np.linspace(min_y, max_y, dim_y)\n",
    "    X,Y = np.meshgrid(x,y)\n",
    "    \n",
    "    def z_function(x, y):\n",
    "        \"\"\"\n",
    "        Generate L(x) - N(w)\n",
    "        \"\"\"\n",
    "        theta = 0\n",
    "        _sample = [x, y, theta]\n",
    "        sample = torch.tensor(_sample, dtype = torch.float32)\n",
    "        \n",
    "        # Get L(w)\n",
    "        lx = loss(_sample)\n",
    "        \n",
    "        # Get N(w)\n",
    "        with torch.no_grad():\n",
    "            prediction = net(sample)\n",
    "        nw = prediction.item()\n",
    "        \n",
    "        return lx - nw\n",
    "    \n",
    "    z = np.array([z_function(x,y) for (x,y) in zip(np.ravel(X), np.ravel(Y))])\n",
    "    Z = z.reshape(X.shape)\n",
    "\n",
    "    plt.pcolormesh(X,Y,Z)\n",
    "    plt.xlim(-2.2, 2.2)\n",
    "    plt.ylim(-2.2,2.2)\n",
    "    plt.xticks(np.arange(-2.5, 2.6, step=1))\n",
    "    plt.yticks(np.arange(-2.5, 2.6, step=1))\n",
    "    plt.title(\"Squared Net: |L(x) - N(w)|\")\n",
    "    cbar = plt.colorbar()\n",
    "    cbar.set_label('error')\n",
    "    plt.savefig(\"SQmse.png\")\n",
    "\n",
    "    plt.show()\n",
    "    "
   ]
  },
  {
   "cell_type": "code",
   "execution_count": 15,
   "metadata": {},
   "outputs": [
    {
     "data": {
      "image/png": "[encoded data removed]",
      "text/plain": [
       "<Figure size 432x288 with 2 Axes>"
      ]
     },
     "metadata": {},
     "output_type": "display_data"
    }
   ],
   "source": [
    "scatterMSE(sqn)"
   ]
  },
  {
   "cell_type": "code",
   "execution_count": null,
   "metadata": {},
   "outputs": [],
   "source": [
    "def scatterMSDE(net, npoints=1000):\n",
    "    \n",
    "    jacobianLossFunction = nd.Jacobian(loss)\n",
    "    net.eval()\n",
    "    \n",
    "    \n",
    "    min_x, max_x, dim_x = (-2, 2, npoints)\n",
    "    min_y, max_y, dim_y = (-2, 2, npoints)\n",
    "    x = np.linspace(min_x, max_x, dim_x)\n",
    "    y = np.linspace(min_y, max_y, dim_y)\n",
    "    X,Y = np.meshgrid(x,y)\n",
    "    \n",
    "    def z_function(x,y):\n",
    "        theta = 0\n",
    "        _sample = [x, y, theta]\n",
    "        sample = torch.tensor(_sample, dtype = torch.float32)\n",
    "        # calculate the derivative of loss with respect to x, del L\n",
    "        delLf = jacobianLossFunction(_sample).squeeze().tolist()\n",
    "        # Get derivative of net prediction\n",
    "        delNw = _jacobian(net, sample, 1).numpy().squeeze().tolist()\n",
    "        # Calculate the sum of squared errors for the two arrays\n",
    "        error = (delLf[0] - delNw[0])**2 + (delLf[1] - delNw[1])**2 + (delLf[2] - delNw[2])**2\n",
    "        return error\n",
    "    \n",
    "    z = np.array([z_function(x,y) for (x,y) in zip(np.ravel(X), np.ravel(Y))])\n",
    "    Z = z.reshape(X.shape)\n",
    "\n",
    "    plt.pcolormesh(X,Y,Z)\n",
    "    plt.xlim(-2.2, 2.2)\n",
    "    plt.ylim(-2.2,2.2)\n",
    "    plt.xticks(np.arange(-2.5, 2.6, step=1))\n",
    "    plt.yticks(np.arange(-2.5, 2.6, step=1))\n",
    "    plt.title(\"Squared net: |del L(x) - del N(w)|\")\n",
    "    cbar = plt.colorbar()\n",
    "    cbar.set_label('error')\n",
    "    plt.savefig(\"sqMSDE.png\")\n",
    "    plt.show()"
   ]
  },
  {
   "cell_type": "code",
   "execution_count": null,
   "metadata": {},
   "outputs": [],
   "source": [
    "scatterMSDE(sqn)"
   ]
  },
  {
   "cell_type": "code",
   "execution_count": null,
   "metadata": {},
   "outputs": [],
   "source": []
  },
  {
   "cell_type": "code",
   "execution_count": null,
   "metadata": {},
   "outputs": [],
   "source": []
  },
  {
   "cell_type": "code",
   "execution_count": null,
   "metadata": {},
   "outputs": [],
   "source": []
  },
  {
   "cell_type": "code",
   "execution_count": null,
   "metadata": {},
   "outputs": [],
   "source": []
  },
  {
   "cell_type": "code",
   "execution_count": null,
   "metadata": {},
   "outputs": [],
   "source": []
  },
  {
   "cell_type": "code",
   "execution_count": null,
   "metadata": {},
   "outputs": [],
   "source": []
  }
 ],
 "metadata": {
  "kernelspec": {
   "display_name": "Python 3",
   "language": "python",
   "name": "python3"
  },
  "language_info": {
   "codemirror_mode": {
    "name": "ipython",
    "version": 3
   },
   "file_extension": ".py",
   "mimetype": "text/x-python",
   "name": "python",
   "nbconvert_exporter": "python",
   "pygments_lexer": "ipython3",
   "version": "3.6.9"
  }
 },
 "nbformat": 4,
 "nbformat_minor": 2
}
