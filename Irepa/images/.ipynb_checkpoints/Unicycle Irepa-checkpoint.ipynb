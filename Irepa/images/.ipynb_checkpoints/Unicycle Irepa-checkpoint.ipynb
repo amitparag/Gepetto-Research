{
 "cells": [
  {
   "cell_type": "markdown",
   "metadata": {},
   "source": [
    "##### These are the results of Irepa on Unicycle.\n",
    "\n",
    "The neural net has 2 Hidden llayers of 8 units each with tanh activation. \n",
    "\n",
    "The steps followed were:\n",
    "\n",
    "    1: Generate data from plain crocoddyl of the form: [starting positions], [cost] \n",
    "    \n",
    "    2: Train the neural net\n",
    "    \n",
    "        Starting position ----> NEURAL NET ----> Cost\n",
    "    \n",
    "    3: Repeat 20 Times:\n",
    "    \n",
    "        1. Generate data from new crocoddyl, \n",
    "        \n",
    "            i.e Crocoddyl = crocoddyl + terminal_model(neural net)\n",
    "            \n",
    "        2. Train the NEURAL NET \n",
    "        \n",
    "NB. 1: The terminal_model contains the neural network which predicts the cost and jacobian and hessian.\n",
    "    \n",
    "    2: The dataset provided to Neural net is always of the shape (1000, 3)"
   ]
  },
  {
   "cell_type": "markdown",
   "metadata": {},
   "source": [
    "### The images are displayed according to runs of irepa. Two images are shows for each run: ddp.cost, ddp.iter\n",
    "\n",
    "######  Irepa after 0 iterations, ie the data displayed here come from just Crocoddyl( no Neural Net)                 \n",
    "\n",
    "           This corresponds to step 1  \n",
    "           \n",
    "   ![alt-text-1](Irepa 0th run cost.png \"Cost\") ![alt-text-2](Irepa 0th run iterations.png \"DDP.Iter\")\n",
    "\n",
    "    "
   ]
  },
  {
   "cell_type": "markdown",
   "metadata": {},
   "source": [
    "###### Irepa after 1 iterations,  Crocoddyl = crocoddyl + terminal(Net1)                 \n",
    "\n",
    "           \n",
    "           \n",
    "   ![alt-text-1](Irepa 1th run cost.png \"Cost\") ![alt-text-2](Irepa 1th run iterations.png \"DDP.Iter\")\n",
    "   \n",
    "   \n",
    "###### Irepa after 4 iterations,  Crocoddyl = crocoddyl + terminal(Net4)                 \n",
    "\n",
    "           \n",
    "           \n",
    "   ![alt-text-1](Irepa 4th run cost.png \"Cost\") ![alt-text-2](Irepa 4th run iterations.png \"DDP.Iter\")\n",
    "   \n",
    "   \n",
    "######  Irepa after 10 iterations,  Crocoddyl = crocoddyl + terminal(Net10)                 \n",
    "\n",
    "           \n",
    "           \n",
    "   ![alt-text-1](Irepa 10th run cost.png \"Cost\") ![alt-text-2](Irepa 10th run iterations.png \"DDP.Iter\")\n",
    "   \n",
    "   \n",
    "   \n",
    "   \n",
    "######  Irepa after 15 iterations,  Crocoddyl = crocoddyl + terminal(Net15)                 \n",
    "\n",
    "           \n",
    "           \n",
    "   ![alt-text-1](Irepa 15th run cost.png \"Cost\") ![alt-text-2](Irepa 15th run iterations.png \"DDP.Iter\")\n",
    "   \n",
    "   \n",
    "######  Irepa after 20 iterations,  Crocoddyl = crocoddyl + terminal(Net20)                 \n",
    "\n",
    "           \n",
    "           \n",
    "   ![alt-text-1](Irepa 20th run cost.png \"Cost\") ![alt-text-2](Irepa 20th run iterations.png \"DDP.Iter\")\n"
   ]
  },
  {
   "cell_type": "markdown",
   "metadata": {},
   "source": [
    "Things to note: \n",
    "     \n",
    "        1: The increase in cost as the number of iterations increase\n",
    "        2: The increase in the number of iterations it takes Crocoddyl to converge when cost is provided by \n",
    "           a neural net\n",
    "           \n",
    "        3: It takes about 4.5 hours for 20 iterations of Irepa.   "
   ]
  },
  {
   "cell_type": "code",
   "execution_count": null,
   "metadata": {},
   "outputs": [],
   "source": []
  }
 ],
 "metadata": {
  "kernelspec": {
   "display_name": "Python 3",
   "language": "python",
   "name": "python3"
  },
  "language_info": {
   "codemirror_mode": {
    "name": "ipython",
    "version": 3
   },
   "file_extension": ".py",
   "mimetype": "text/x-python",
   "name": "python",
   "nbconvert_exporter": "python",
   "pygments_lexer": "ipython3",
   "version": "3.6.9"
  }
 },
 "nbformat": 4,
 "nbformat_minor": 2
}
