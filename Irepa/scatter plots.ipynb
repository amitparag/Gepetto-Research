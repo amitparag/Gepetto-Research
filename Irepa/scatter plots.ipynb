{
 "cells": [
  {
   "cell_type": "code",
   "execution_count": 1,
   "metadata": {},
   "outputs": [],
   "source": [
    "%load_ext autoreload\n",
    "%autoreload 2\n"
   ]
  },
  {
   "cell_type": "code",
   "execution_count": 2,
   "metadata": {},
   "outputs": [],
   "source": [
    "import os\n",
    "import numpy as np\n",
    "import crocoddyl as c\n",
    "import numdifftools as nd\n",
    "from time import perf_counter\n",
    "c.switchToNumpyArray()\n",
    "\n",
    "import matplotlib.pyplot as plt\n",
    "from scipy.interpolate import griddata\n",
    "from scipy.stats import kde\n",
    "import torch\n",
    "from irepa import *"
   ]
  },
  {
   "cell_type": "code",
   "execution_count": 3,
   "metadata": {},
   "outputs": [],
   "source": [
    "p1 = np.loadtxt('irepa_run1.out', delimiter = \",\")\n",
    "p5 = np.loadtxt('irepa_run4.out', delimiter = \",\")\n",
    "p10 = np.loadtxt('irepa_run10.out', delimiter = \",\")\n",
    "p15 = np.loadtxt('irepa_run15.out', delimiter = \",\")\n",
    "p20 = np.loadtxt('irepa_run20.out', delimiter = \",\")\n"
   ]
  },
  {
   "cell_type": "code",
   "execution_count": 4,
   "metadata": {},
   "outputs": [],
   "source": [
    "def plot_cost(x, y, z, n = 1):\n",
    "\n",
    "    extent = (min(x), max(x), min(y), max(y))\n",
    "    xs,ys = np.mgrid[extent[0]:extent[1]:100j, extent[2]:extent[3]:200j] #2D x,y\n",
    "    z_resampled = griddata((x, y), z, (xs, ys)) #2D z\n",
    "    plt.imshow(z_resampled, interpolation=\"none\", extent=extent, origin=\"lower\")\n",
    "    plt.xticks(np.arange(-3, 3.1, step=1))\n",
    "    plt.yticks(np.arange(-3, 3.1, step=1))\n",
    "    clb = plt.colorbar()\n",
    "    clb.set_label('Cost', labelpad=-40, y=1.10, rotation=0)\n",
    "    plt.savefig(f\"./Images/Cost{n}.png\")\n",
    "    plt.close()\n",
    "\n",
    "    \n",
    "def plot_iters(x, y, z, n = 1):\n",
    " \n",
    "    extent = (min(x), max(x), min(y), max(y))\n",
    "    xs,ys = np.mgrid[extent[0]:extent[1]:100j, extent[2]:extent[3]:200j] #2D x,y\n",
    "    z_resampled = griddata((x, y), z, (xs, ys)) #2D z\n",
    "    plt.imshow(z_resampled, interpolation=\"none\", extent=extent, origin=\"lower\")\n",
    "    plt.xticks(np.arange(-3, 3.1, step=1))\n",
    "    plt.yticks(np.arange(-3, 3.1, step=1))\n",
    "    clb = plt.colorbar()\n",
    "    clb.set_label('Iterations', labelpad=-40, y=1.10, rotation=0)\n",
    "    plt.savefig(f\"./Images/ddp_iters{n}.png\")\n",
    "    plt.close()"
   ]
  },
  {
   "cell_type": "code",
   "execution_count": 5,
   "metadata": {},
   "outputs": [],
   "source": [
    "x1, y1, cost1, iters1 = p1[:,0], p1[:,1], p1[:,2], p1[:,3] \n",
    "\n",
    "x5, y5, cost5, iters5 = p5[:,0], p5[:,1], p5[:,2], p5[:,3] \n",
    "\n",
    "x10, y10, cost10, iters10 = p10[:,0], p10[:,1], p10[:,2], p10[:,3] \n",
    "\n",
    "x15, y15, cost15, iters15 = p15[:,0], p15[:,1], p15[:,2], p15[:,3] \n",
    "\n",
    "x20, y20, cost20, iters20 = p20[:,0], p20[:,1], p20[:,2], p20[:,3] "
   ]
  },
  {
   "cell_type": "code",
   "execution_count": 6,
   "metadata": {},
   "outputs": [],
   "source": [
    "plot_cost(x20, y20, cost20, n=20)\n",
    "plot_iters(x20, y20, iters20, n=20)\n",
    "\n",
    "\n",
    "plot_cost(x10, y10, cost10, n=10)\n",
    "plot_iters(x10, y10, iters10, n= 10)\n",
    "\n",
    "plot_cost(x15, y15, cost15, n=15)\n",
    "plot_iters(x15, y15, iters15, n=15)\n",
    "\n",
    "plot_cost(x5, y5, cost5, n = 15)\n",
    "plot_iters(x5, y5, iters5, n = 15)\n",
    "\n",
    "plot_cost(x1, y1, cost1, n = 1)\n",
    "plot_iters(x1, y1, iters1, n =1)"
   ]
  },
  {
   "cell_type": "code",
   "execution_count": null,
   "metadata": {},
   "outputs": [],
   "source": []
  },
  {
   "cell_type": "code",
   "execution_count": null,
   "metadata": {},
   "outputs": [],
   "source": []
  },
  {
   "cell_type": "code",
   "execution_count": null,
   "metadata": {},
   "outputs": [],
   "source": []
  },
  {
   "cell_type": "code",
   "execution_count": null,
   "metadata": {},
   "outputs": [],
   "source": [
    "\n",
    "    \n",
    "def croc():\n",
    "    # get the cost\n",
    "    # X, Y, cost, iters \n",
    "    data = []\n",
    "    model = c.ActionModelUnicycle()\n",
    "    for _ in range(1000):\n",
    "\n",
    "        x0 = np.array([np.random.uniform(-2.1, 2.1), np.random.uniform(-2.1, 2.1), np.random.uniform(0,1)])\n",
    "        T = 30\n",
    "        problem = c.ShootingProblem(x0.T, [ model ] * T, model)\n",
    "        ddp = c.SolverDDP(problem)\n",
    "        ddp.solve([], [], 1000)\n",
    "        data.append([float(x0[0]), float(x0[1]), ddp.cost, ddp.iter])\n",
    "    return np.asarray(data)\n",
    "\n",
    "def scatter_cost(data, n = 0, cmap = 'viridis'):\n",
    "    plt.figure(figsize=(4,4))\n",
    "    plt.scatter(data[:,0], data[:,1], c = data[:,2], cmap = cmap)\n",
    "    clb = plt.colorbar()\n",
    "    plt.grid()\n",
    "\n",
    "    clb.set_label('Cost',  y=-0.01, rotation=0)\n",
    "    plt.title(f\"Irepa {n}th iteration\")\n",
    "    #plt.savefig(f\"./images/Irepa {n}th run cost.png\")\n",
    "\n",
    "\n",
    "def scatter_iters(data, n= 0, cmap = \"viridis\"):\n",
    "\n",
    "    plt.figure(figsize=(4,4))\n",
    "    plt.scatter(data[:,0], data[:,1], c = data[:,3], cmap = cmap)\n",
    "    clb = plt.colorbar()\n",
    "    plt.grid()\n",
    "\n",
    "    clb.set_label('Iterations',  y=-0.01, rotation=0)\n",
    "    plt.title(f\"Irepa {n}th iteration\")\n",
    "    #plt.savefig(f\"./images/Irepa {n}th run iterations.png\")\n"
   ]
  },
  {
   "cell_type": "code",
   "execution_count": null,
   "metadata": {},
   "outputs": [],
   "source": [
    "data = croc()"
   ]
  },
  {
   "cell_type": "code",
   "execution_count": null,
   "metadata": {},
   "outputs": [],
   "source": [
    "scatter_cost(data, n = 0)\n",
    "scatter_iters(data, n = 0)\n",
    "\n",
    "scatter_cost(run1, n = 1)\n",
    "scatter_iters(run1, n = 1)\n",
    "\n",
    "scatter_cost(run4, n = 4)\n",
    "scatter_iters(run4, n = 4)\n",
    "\n",
    "scatter_cost(run10, n = 10)\n",
    "scatter_iters(run10, n = 10)\n",
    "\n",
    "scatter_cost(run15, n = 15)\n",
    "scatter_iters(run15, n = 15)\n",
    "\n",
    "scatter_cost(run20, n = 20)\n",
    "scatter_iters(run20, n = 20)"
   ]
  }
 ],
 "metadata": {
  "kernelspec": {
   "display_name": "Python 3",
   "language": "python",
   "name": "python3"
  },
  "language_info": {
   "codemirror_mode": {
    "name": "ipython",
    "version": 3
   },
   "file_extension": ".py",
   "mimetype": "text/x-python",
   "name": "python",
   "nbconvert_exporter": "python",
   "pygments_lexer": "ipython3",
   "version": "3.6.9"
  }
 },
 "nbformat": 4,
 "nbformat_minor": 2
}
