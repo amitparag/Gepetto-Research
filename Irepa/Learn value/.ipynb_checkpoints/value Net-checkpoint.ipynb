{
 "cells": [
  {
   "cell_type": "code",
   "execution_count": null,
   "metadata": {},
   "outputs": [],
   "source": [
    "%load_ext autoreload\n",
    "%autoreload 2"
   ]
  },
  {
   "cell_type": "code",
   "execution_count": null,
   "metadata": {},
   "outputs": [],
   "source": [
    "import torch\n",
    "from crocValueData import *\n",
    "from termData import *\n",
    "from termModel import *\n",
    "from ValueNetwork import *"
   ]
  },
  {
   "cell_type": "code",
   "execution_count": null,
   "metadata": {},
   "outputs": [],
   "source": [
    "p, v = base_data()"
   ]
  },
  {
   "cell_type": "code",
   "execution_count": null,
   "metadata": {},
   "outputs": [],
   "source": [
    "# Generate a neural network\n",
    "costNet = ValueNet(p.shape[1], v.shape[1])"
   ]
  },
  {
   "cell_type": "code",
   "execution_count": null,
   "metadata": {},
   "outputs": [],
   "source": [
    "costNet = trainValueNet(costNet, p, v)"
   ]
  },
  {
   "cell_type": "code",
   "execution_count": null,
   "metadata": {},
   "outputs": [],
   "source": [
    "states, values = terminalData(costNet)"
   ]
  },
  {
   "cell_type": "code",
   "execution_count": null,
   "metadata": {},
   "outputs": [],
   "source": [
    "costNet2 = trainValueNet(costNet, states, values)"
   ]
  },
  {
   "cell_type": "code",
   "execution_count": null,
   "metadata": {},
   "outputs": [],
   "source": [
    "import crocoddyl\n",
    "import numpy as np\n",
    "from termModel import *\n",
    "from tqdm import tqdm\n",
    "\n",
    "model = crocoddyl.ActionModelUnicycle()\n",
    "model.costWeights = np.matrix([1,1]).T\n",
    "costNet2.eval()\n",
    "terminalModel = UnicycleTerminal(costNet2)\n",
    "    \n",
    "\n",
    "\n",
    "positions = []\n",
    "croc_xs = []\n",
    "croc_cost = []\n",
    "croc_iters = []\n",
    "\n",
    "torch_predictions = []\n",
    "\n",
    "\n",
    "ddp_with_net_xs = []\n",
    "ddp_with_net_cost = []\n",
    "ddp_with_net_iters = []\n",
    "\n",
    "for _ in tqdm(range(1000)):\n",
    "    x0 = np.array([np.random.uniform(-2.1, 2.1), np.random.uniform(-2.1, 2.1), np.random.uniform(0,1)])\n",
    "    T = 30\n",
    "    positions.append(x0)\n",
    "    problem = crocoddyl.ShootingProblem(x0.T, [ model ] * T, model)\n",
    "    ddp = crocoddyl.SolverDDP(problem)\n",
    "    ddp.solve()\n",
    "    croc_xs.append(ddp.xs[-1].tolist())\n",
    "    croc_cost.append(np.array([ddp.cost]))\n",
    "    croc_iters.append(np.array([ddp.iter]))\n",
    "    \n",
    "    test = torch.as_tensor(x0, device = device, dtype = torch.float32).resize_(1, 3)\n",
    "    prediction = costNet2(test)\n",
    "    torch_predictions.append(prediction)\n",
    "    \n",
    "    \n",
    "    problem2 = crocoddyl.ShootingProblem(x0.T, [ model ] * T, terminalModel)\n",
    "    ddp2 = crocoddyl.SolverDDP(problem2)\n",
    "    ddp2.solve()\n",
    "    ddp_with_net_xs.append(ddp2.xs[-1].tolist())\n",
    "    ddp_with_net_cost.append(np.array([ddp2.cost]))\n",
    "    ddp_with_net_iters.append(np.array([ddp2.iter]))"
   ]
  },
  {
   "cell_type": "code",
   "execution_count": null,
   "metadata": {},
   "outputs": [],
   "source": [
    "    \n",
    "positions = np.array(positions)\n",
    "croc_xs = np.array(croc_xs).squeeze()\n",
    "croc_cost = np.array(croc_cost)\n",
    "croc_iters = np.array(croc_iters)\n",
    "\n",
    "\n",
    "ddp_with_net_xs = np.array(ddp_with_net_xs).squeeze()\n",
    "ddp_with_net_cost = np.array(ddp_with_net_cost)\n",
    "ddp_with_net_iters = np.array(ddp_with_net_iters)    "
   ]
  },
  {
   "cell_type": "code",
   "execution_count": null,
   "metadata": {},
   "outputs": [],
   "source": [
    "torch_predicted_cost = []\n",
    "for a in torch_predictions:\n",
    "    b = a.cpu().detach().numpy()\n",
    "    torch_predicted_cost.append(b)\n",
    "torch_predicted_cost = np.array(torch_predicted_cost).squeeze().reshape(1000, 1)"
   ]
  },
  {
   "cell_type": "code",
   "execution_count": null,
   "metadata": {},
   "outputs": [],
   "source": [
    "from sklearn.metrics import mean_absolute_error, mean_squared_error, r2_score"
   ]
  },
  {
   "cell_type": "code",
   "execution_count": null,
   "metadata": {},
   "outputs": [],
   "source": [
    "c_xs_VS_t_p_cost_mse = mean_squared_error(croc_cost, torch_predicted_cost)\n",
    "c_xs_VS_t_p_cost_mae = mean_absolute_error(croc_cost, torch_predicted_cost)\n",
    "c_xs_VS_t_p_cost_r2 = r2_score(croc_cost, torch_predicted_cost)\n",
    "\n",
    "\n",
    "c_xs_VS_ddp_net_cost_mse = mean_squared_error(croc_cost, ddp_with_net_cost)\n",
    "c_xs_VS_ddp_net_cost_mae = mean_absolute_error(croc_cost, ddp_with_net_cost)\n",
    "c_xs_VS_ddp_net_cost_r2 = r2_score(croc_cost, ddp_with_net_cost)\n",
    "\n",
    "\n",
    "\n",
    "c_xs_VS_ddp_xs_mse = mean_squared_error(croc_xs, ddp_with_net_xs)\n",
    "c_xs_VS_ddp_xs_mae = mean_absolute_error(croc_xs, ddp_with_net_xs)\n",
    "c_xs_VS_ddp_xs_r2 = r2_score(croc_xs, ddp_with_net_xs)\n",
    "\n",
    "c_iters_VS_ddp_net_iters_mae = mean_absolute_error(croc_iters, ddp_with_net_iters)\n",
    "c_iters_VS_ddp_net_iters_mse = mean_squared_error(croc_iters, ddp_with_net_iters)\n",
    "c_iters_VS_ddp_net_iters_r2 = r2_score(croc_iters, ddp_with_net_iters)"
   ]
  },
  {
   "cell_type": "code",
   "execution_count": null,
   "metadata": {},
   "outputs": [],
   "source": []
  },
  {
   "cell_type": "code",
   "execution_count": null,
   "metadata": {},
   "outputs": [],
   "source": []
  },
  {
   "cell_type": "code",
   "execution_count": null,
   "metadata": {},
   "outputs": [],
   "source": []
  },
  {
   "cell_type": "code",
   "execution_count": null,
   "metadata": {},
   "outputs": [],
   "source": [
    "import matplotlib.pyplot as plt\n",
    "from scipy.interpolate import griddata\n",
    "%matplotlib inline\n",
    "\n",
    "def plot_cost(x, y, z, n = 1):\n",
    "\n",
    "    extent = (min(x), max(x), min(y), max(y))\n",
    "    xs,ys = np.mgrid[extent[0]:extent[1]:100j, extent[2]:extent[3]:200j] #2D x,y\n",
    "    z_resampled = griddata((x, y), z, (xs, ys)) #2D z\n",
    "    plt.imshow(z_resampled, interpolation=\"none\", extent=extent, origin=\"lower\")\n",
    "    plt.xticks(np.arange(-3, 3.1, step=1))\n",
    "    plt.yticks(np.arange(-3, 3.1, step=1))\n",
    "    clb = plt.colorbar()\n",
    "    clb.set_label('Cost', labelpad=-40, y=1.10, rotation=0)\n",
    "    #plt.savefig(f\"./Images/Cost{n}.png\")\n",
    "    plt.show()"
   ]
  },
  {
   "cell_type": "code",
   "execution_count": null,
   "metadata": {},
   "outputs": [],
   "source": [
    "# Calculate regression scores of torch predictions of cost \n"
   ]
  },
  {
   "cell_type": "code",
   "execution_count": null,
   "metadata": {},
   "outputs": [],
   "source": []
  },
  {
   "cell_type": "code",
   "execution_count": null,
   "metadata": {},
   "outputs": [],
   "source": []
  }
 ],
 "metadata": {
  "kernelspec": {
   "display_name": "Python 3",
   "language": "python",
   "name": "python3"
  },
  "language_info": {
   "codemirror_mode": {
    "name": "ipython",
    "version": 3
   },
   "file_extension": ".py",
   "mimetype": "text/x-python",
   "name": "python",
   "nbconvert_exporter": "python",
   "pygments_lexer": "ipython3",
   "version": "3.6.9"
  }
 },
 "nbformat": 4,
 "nbformat_minor": 2
}
