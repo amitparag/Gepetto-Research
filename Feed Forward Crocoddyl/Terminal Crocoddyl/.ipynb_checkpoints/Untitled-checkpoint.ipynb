{
 "cells": [
  {
   "cell_type": "code",
   "execution_count": 1,
   "metadata": {},
   "outputs": [],
   "source": [
    "%load_ext autoreload\n",
    "%autoreload 2"
   ]
  },
  {
   "cell_type": "code",
   "execution_count": null,
   "metadata": {},
   "outputs": [],
   "source": [
    "def state_data(size:int = 1000, theta:float = 0.):\n",
    "    \"\"\"\n",
    "    @params:\n",
    "        1: size  = size of the dataset\n",
    "        2: theta = float, between 0, 1\n",
    "    \n",
    "    Returns xtrain, ytrain.\n",
    "    Returns data in the form of x --> V(x)\n",
    "    \n",
    "    \"\"\"\n",
    "\n",
    "    _xtrain = []\n",
    "    _ytrain = []\n",
    "\n",
    "    \n",
    "    for _ in range(size):\n",
    "        # Generate random starting configuration\n",
    "        xyz = [np.random.uniform(-2.1, 2.1), \n",
    "               np.random.uniform(-2.1, 2.1),\n",
    "               theta]\n",
    "        \n",
    "        \n",
    "        model = crocoddyl.ActionModelUnicycle()\n",
    "        T = 30\n",
    "        model.costWeights = np.matrix([1,1]).T\n",
    "        \n",
    "        problem = crocoddyl.ShootingProblem(m2a(xyz).T, [ model ] * T, model)\n",
    "        ddp = crocoddyl.SolverDDP(problem)\n",
    "        ddp.solve([], [], 1000)\n",
    "        \n",
    "        xs_ = np.array(ddp.xs)\n",
    "        ddp_xs = xs_[:,0:2]\n",
    "        _ytrain.append(ddp_xs)        \n",
    "        _xtrain.append(xyz)\n",
    "        \n",
    "    xtrain = torch.tensor(_xtrain, dtype = torch.float32)\n",
    "    ytrain = torch.tensor(_ytrain, dtype = torch.float32)\n",
    "        \n",
    "    return xtrain, ytrain"
   ]
  }
 ],
 "metadata": {
  "kernelspec": {
   "display_name": "Python 3",
   "language": "python",
   "name": "python3"
  },
  "language_info": {
   "codemirror_mode": {
    "name": "ipython",
    "version": 3
   },
   "file_extension": ".py",
   "mimetype": "text/x-python",
   "name": "python",
   "nbconvert_exporter": "python",
   "pygments_lexer": "ipython3",
   "version": "3.6.9"
  }
 },
 "nbformat": 4,
 "nbformat_minor": 2
}
