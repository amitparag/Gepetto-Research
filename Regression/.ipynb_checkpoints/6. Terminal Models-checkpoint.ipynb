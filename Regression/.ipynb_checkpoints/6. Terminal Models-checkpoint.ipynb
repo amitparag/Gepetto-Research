{
 "cells": [
  {
   "cell_type": "code",
   "execution_count": 1,
   "metadata": {},
   "outputs": [],
   "source": [
    "%load_ext autoreload\n",
    "%autoreload 2\n"
   ]
  },
  {
   "cell_type": "code",
   "execution_count": 2,
   "metadata": {},
   "outputs": [],
   "source": [
    "import numpy as np\n",
    "import crocoddyl\n",
    "import torch\n",
    "from finite_differences import a2m, m2a, SQTerminal, HessianTerminal\n",
    "from utils import griddata, circular\n",
    "\n",
    "import matplotlib.pyplot as plt\n",
    "%matplotlib inline"
   ]
  },
  {
   "cell_type": "code",
   "execution_count": 3,
   "metadata": {},
   "outputs": [],
   "source": [
    "sqnet = torch.load('sqnet.pth')\n"
   ]
  },
  {
   "cell_type": "code",
   "execution_count": null,
   "metadata": {},
   "outputs": [
    {
     "name": "stdout",
     "output_type": "stream",
     "text": [
      "(100, 3)\n"
     ]
    }
   ],
   "source": [
    "xtest = circular()\n",
    "print(xtest.shape)"
   ]
  },
  {
   "cell_type": "code",
   "execution_count": null,
   "metadata": {},
   "outputs": [],
   "source": [
    "regular_cost  = []\n",
    "regular_iters = []\n",
    "regular_traj  = []\n",
    "\n",
    "#ffn_cost  = []\n",
    "#ffn_iters = []\n",
    "#ffn_traj  = []\n",
    "\n",
    "sqn_cost  = []\n",
    "sqn_iters = []\n",
    "sqn_traj  = []\n",
    "\n",
    "for xyz in xtest:\n",
    "\n",
    "    model3 = crocoddyl.ActionModelUnicycle()\n",
    "    sqn_model = SQTerminal(sqnet)\n",
    "    model3.costWeights = np.matrix([1,1]).T\n",
    "    # SQN\n",
    "    T = 30\n",
    "    problem3 = crocoddyl.ShootingProblem(m2a(xyz).T, [ model3 ] * T, sqn_model)\n",
    "    ddp3 = crocoddyl.SolverDDP(problem3)\n",
    "    ddp3.solve([], [], 1000)\n",
    "    sqn_cost.append(ddp3.cost)\n",
    "    sqn_iters.append(ddp3.iter)\n",
    "    xs3_ = np.array(ddp3.xs)\n",
    "    xs3 = xs3_[:,0:2]\n",
    "    sqn_traj.append(xs3)\n",
    "    \n",
    "    "
   ]
  },
  {
   "cell_type": "code",
   "execution_count": null,
   "metadata": {},
   "outputs": [],
   "source": []
  },
  {
   "cell_type": "code",
   "execution_count": null,
   "metadata": {},
   "outputs": [],
   "source": [
    "\n",
    "def plot_trajectories(cost, trajectories, name = \"Cost\", savename=None, title=None ):\n",
    "    \"\"\"\n",
    "    \n",
    "    @params:\n",
    "        cost           = list of keys for cmap\n",
    "        trajectories   = list of corresponding trajectories\n",
    "        name           = str, to distinguish between cost and iterations\n",
    "        \n",
    "    @ returns plot of trajectories colored according to keys.    \n",
    "    \n",
    "    \"\"\"\n",
    "\n",
    "    import matplotlib as mpl\n",
    "    import matplotlib.pyplot as plt\n",
    "    mpl.rcParams['figure.dpi'] = 80\n",
    "    fig = plt.figure(figsize=(8, 6))\n",
    "\n",
    "    norm = mpl.colors.Normalize(vmin=min(cost), vmax=max(cost))\n",
    "    cmap = mpl.cm.ScalarMappable(norm = norm, cmap=mpl.cm.plasma)\n",
    "    cmap.set_array([])\n",
    "\n",
    "\n",
    "    for key, trajectory in zip(cost, trajectories):\n",
    "        plt.scatter(trajectory[:, 0], trajectory[:, 1], \n",
    "                    marker = '',\n",
    "                    zorder=2, \n",
    "                    s=50,\n",
    "                    linewidths=0.2,\n",
    "                    alpha=.8, \n",
    "                    cmap = cmap )\n",
    "        plt.plot(trajectory[:, 0], trajectory[:, 1], c=cmap.to_rgba(key))\n",
    "\n",
    "    plt.xlabel(\"X Coordinates\", fontsize = 20)\n",
    "    plt.ylabel(\"Y Coordinates\", fontsize = 20)\n",
    "    if title:\n",
    "        plt.title(title)\n",
    "    plt.colorbar(cmap).set_label(name, labelpad=2, size=15)\n",
    "    if savename is not None:\n",
    "        plt.savefig(\"./images/\"+savename+\".png\")\n",
    "    plt.show()"
   ]
  },
  {
   "cell_type": "code",
   "execution_count": null,
   "metadata": {
    "scrolled": true
   },
   "outputs": [],
   "source": [
    "plot_trajectories(sqn_cost, sqn_traj, name = \"Cost\", title= \"True Hessian\")\n",
    "plot_trajectories(sqn_iters, sqn_traj, name = \"Iters\", title= \"True Hessian\")"
   ]
  },
  {
   "cell_type": "code",
   "execution_count": null,
   "metadata": {},
   "outputs": [],
   "source": [
    "\n",
    "\n",
    "\n"
   ]
  }
 ],
 "metadata": {
  "kernelspec": {
   "display_name": "Python 3",
   "language": "python",
   "name": "python3"
  },
  "language_info": {
   "codemirror_mode": {
    "name": "ipython",
    "version": 3
   },
   "file_extension": ".py",
   "mimetype": "text/x-python",
   "name": "python",
   "nbconvert_exporter": "python",
   "pygments_lexer": "ipython3",
   "version": "3.6.9"
  }
 },
 "nbformat": 4,
 "nbformat_minor": 2
}
