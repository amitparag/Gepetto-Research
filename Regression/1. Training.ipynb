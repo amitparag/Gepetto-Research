{
 "cells": [
  {
   "cell_type": "code",
   "execution_count": 1,
   "metadata": {},
   "outputs": [],
   "source": [
    "%load_ext autoreload\n",
    "%autoreload 2 "
   ]
  },
  {
   "cell_type": "code",
   "execution_count": 8,
   "metadata": {},
   "outputs": [],
   "source": [
    "#%%file train.py\n",
    "import torch\n",
    "import numpy as np\n",
    "import torch.optim as optim\n",
    "from torch.utils import data\n",
    "from neuralnet import SQNet\n",
    "from data import dataGen\n",
    "from tqdm import tqdm\n",
    "import time\n",
    "import crocoddyl\n",
    "from jacobian import JacobianReg\n",
    "\n",
    "\n",
    "\n",
    "def _sq_net():\n",
    "    \n",
    "    # Tensor data for training\n",
    "    positions, costs, grad1, grad2 = dataGen(size = 1000)\n",
    "\n",
    "    # Torch dataloader\n",
    "    dataset = torch.utils.data.TensorDataset(positions,costs, grad1, grad2)\n",
    "    dataloader = torch.utils.data.DataLoader(dataset, batch_size = 100) \n",
    "\n",
    "    \n",
    "    # Generate a Neural Net\n",
    "    net = SQNet(hiddenUnits = 16)\n",
    "    print(net)\n",
    "    \n",
    "    # Initialize loss and optimizer\n",
    "    criterion = torch.nn.MSELoss(reduction='sum')\n",
    "    optimizer = optim.Adam(net.parameters(), lr= 1e-3)   \n",
    "\n",
    "    # Jacobian regularization\n",
    "    reg = JacobianReg() \n",
    "    lambda_JR = 0.01 \n",
    "\n",
    "\n",
    "    t0 = time.time()    \n",
    "    # Training    \n",
    "    for epoch in tqdm(range(1000)):        \n",
    "        for i, (data, target, target1, target2) in enumerate(dataloader):   \n",
    "            net.train()\n",
    "            output = net(data)\n",
    "            j      = net.jacobian(data)\n",
    "            h      = net.hessian(data)\n",
    "            loss1 = criterion(output, target)\n",
    "            loss2 = torch.sum((j - target1)**2)\n",
    "            loss3 = torch.sum((h - target2)**2)\n",
    "            loss2.requires_grad=True\n",
    "            loss3.requires_grad=True\n",
    "            #print(j, target1)\n",
    "            #print(h, target2)\n",
    "            loss = loss1 + loss2 + loss3\n",
    "            print(loss)\n",
    "            # Backward and optimize\n",
    "            optimizer.zero_grad()\n",
    "            loss.backward()\n",
    "            optimizer.step()\n",
    "\n",
    "\n",
    "\n",
    "    print('Training lasted = %.0f seconds' % (time.time()-t0))        \n",
    "\n",
    "\n",
    "\n",
    "\n",
    "\n",
    "    #torch.save(net, \"sqnet.pth\")\n",
    "\n",
    "\n",
    "\n"
   ]
  },
  {
   "cell_type": "code",
   "execution_count": null,
   "metadata": {},
   "outputs": [
    {
     "name": "stderr",
     "output_type": "stream",
     "text": [
      "\r",
      "  0%|          | 0/1000 [00:00<?, ?it/s]"
     ]
    },
    {
     "name": "stdout",
     "output_type": "stream",
     "text": [
      "SQNet(\n",
      "  (fc1): Linear(in_features=3, out_features=16, bias=True)\n",
      "  (fc2): Linear(in_features=16, out_features=3, bias=True)\n",
      "  (fc3): Linear(in_features=3, out_features=3, bias=True)\n",
      "  (fc4): Linear(in_features=3, out_features=3, bias=True)\n",
      "  (fc5): Linear(in_features=1, out_features=1, bias=True)\n",
      ")\n",
      "tensor(376369.7812, grad_fn=<AddBackward0>)\n",
      "tensor(392125.3750, grad_fn=<AddBackward0>)\n",
      "tensor(358978.8125, grad_fn=<AddBackward0>)\n",
      "tensor(391290., grad_fn=<AddBackward0>)\n",
      "tensor(392509.2188, grad_fn=<AddBackward0>)\n",
      "tensor(366473.9375, grad_fn=<AddBackward0>)\n",
      "tensor(394649., grad_fn=<AddBackward0>)\n",
      "tensor(375729.1875, grad_fn=<AddBackward0>)\n"
     ]
    },
    {
     "name": "stderr",
     "output_type": "stream",
     "text": [
      "\r",
      "  0%|          | 1/1000 [00:02<40:18,  2.42s/it]"
     ]
    },
    {
     "name": "stdout",
     "output_type": "stream",
     "text": [
      "tensor(344550., grad_fn=<AddBackward0>)\n",
      "tensor(361011.3125, grad_fn=<AddBackward0>)\n",
      "tensor(376369.7812, grad_fn=<AddBackward0>)\n",
      "tensor(392125.3750, grad_fn=<AddBackward0>)\n",
      "tensor(358978.8125, grad_fn=<AddBackward0>)\n",
      "tensor(391290., grad_fn=<AddBackward0>)\n",
      "tensor(392509.2188, grad_fn=<AddBackward0>)\n",
      "tensor(366473.9375, grad_fn=<AddBackward0>)\n",
      "tensor(394649., grad_fn=<AddBackward0>)\n",
      "tensor(375729.1875, grad_fn=<AddBackward0>)\n",
      "tensor(344550., grad_fn=<AddBackward0>)\n"
     ]
    },
    {
     "name": "stderr",
     "output_type": "stream",
     "text": [
      "\r",
      "  0%|          | 2/1000 [00:04<40:10,  2.42s/it]"
     ]
    },
    {
     "name": "stdout",
     "output_type": "stream",
     "text": [
      "tensor(361011.3125, grad_fn=<AddBackward0>)\n",
      "tensor(376369.7812, grad_fn=<AddBackward0>)\n",
      "tensor(392125.3750, grad_fn=<AddBackward0>)\n",
      "tensor(358978.8125, grad_fn=<AddBackward0>)\n",
      "tensor(391290., grad_fn=<AddBackward0>)\n",
      "tensor(392509.2188, grad_fn=<AddBackward0>)\n",
      "tensor(366473.9375, grad_fn=<AddBackward0>)\n",
      "tensor(394649., grad_fn=<AddBackward0>)\n",
      "tensor(375729.1875, grad_fn=<AddBackward0>)\n",
      "tensor(344550., grad_fn=<AddBackward0>)\n"
     ]
    },
    {
     "name": "stderr",
     "output_type": "stream",
     "text": [
      "\r",
      "  0%|          | 3/1000 [00:07<40:17,  2.42s/it]"
     ]
    },
    {
     "name": "stdout",
     "output_type": "stream",
     "text": [
      "tensor(361011.3125, grad_fn=<AddBackward0>)\n",
      "tensor(376369.7812, grad_fn=<AddBackward0>)\n",
      "tensor(392125.3750, grad_fn=<AddBackward0>)\n",
      "tensor(358978.8125, grad_fn=<AddBackward0>)\n",
      "tensor(391290., grad_fn=<AddBackward0>)\n",
      "tensor(392509.2188, grad_fn=<AddBackward0>)\n",
      "tensor(366473.9375, grad_fn=<AddBackward0>)\n",
      "tensor(394649., grad_fn=<AddBackward0>)\n",
      "tensor(375729.1875, grad_fn=<AddBackward0>)\n",
      "tensor(344550., grad_fn=<AddBackward0>)\n"
     ]
    },
    {
     "name": "stderr",
     "output_type": "stream",
     "text": [
      "\r",
      "  0%|          | 4/1000 [00:09<40:26,  2.44s/it]"
     ]
    },
    {
     "name": "stdout",
     "output_type": "stream",
     "text": [
      "tensor(361011.3125, grad_fn=<AddBackward0>)\n",
      "tensor(376369.7812, grad_fn=<AddBackward0>)\n",
      "tensor(392125.3750, grad_fn=<AddBackward0>)\n",
      "tensor(358978.8125, grad_fn=<AddBackward0>)\n",
      "tensor(391290., grad_fn=<AddBackward0>)\n",
      "tensor(392509.2188, grad_fn=<AddBackward0>)\n",
      "tensor(366473.9375, grad_fn=<AddBackward0>)\n",
      "tensor(394649., grad_fn=<AddBackward0>)\n",
      "tensor(375729.1875, grad_fn=<AddBackward0>)\n",
      "tensor(344550., grad_fn=<AddBackward0>)\n"
     ]
    },
    {
     "name": "stderr",
     "output_type": "stream",
     "text": [
      "\r",
      "  0%|          | 5/1000 [00:12<40:24,  2.44s/it]"
     ]
    },
    {
     "name": "stdout",
     "output_type": "stream",
     "text": [
      "tensor(361011.3125, grad_fn=<AddBackward0>)\n",
      "tensor(376369.7812, grad_fn=<AddBackward0>)\n",
      "tensor(392125.3750, grad_fn=<AddBackward0>)\n",
      "tensor(358978.8125, grad_fn=<AddBackward0>)\n",
      "tensor(391290., grad_fn=<AddBackward0>)\n",
      "tensor(392509.2188, grad_fn=<AddBackward0>)\n",
      "tensor(366473.9375, grad_fn=<AddBackward0>)\n",
      "tensor(394649., grad_fn=<AddBackward0>)\n",
      "tensor(375729.1875, grad_fn=<AddBackward0>)\n",
      "tensor(344550., grad_fn=<AddBackward0>)\n"
     ]
    },
    {
     "name": "stderr",
     "output_type": "stream",
     "text": [
      "\r",
      "  1%|          | 6/1000 [00:14<40:19,  2.43s/it]"
     ]
    },
    {
     "name": "stdout",
     "output_type": "stream",
     "text": [
      "tensor(361011.3125, grad_fn=<AddBackward0>)\n",
      "tensor(376369.7812, grad_fn=<AddBackward0>)\n",
      "tensor(392125.3750, grad_fn=<AddBackward0>)\n",
      "tensor(358978.8125, grad_fn=<AddBackward0>)\n",
      "tensor(391290., grad_fn=<AddBackward0>)\n",
      "tensor(392509.2188, grad_fn=<AddBackward0>)\n",
      "tensor(366473.9375, grad_fn=<AddBackward0>)\n",
      "tensor(394649., grad_fn=<AddBackward0>)\n",
      "tensor(375729.1875, grad_fn=<AddBackward0>)\n",
      "tensor(344550., grad_fn=<AddBackward0>)\n"
     ]
    },
    {
     "name": "stderr",
     "output_type": "stream",
     "text": [
      "\r",
      "  1%|          | 7/1000 [00:17<40:18,  2.44s/it]"
     ]
    },
    {
     "name": "stdout",
     "output_type": "stream",
     "text": [
      "tensor(361011.3125, grad_fn=<AddBackward0>)\n",
      "tensor(376369.7812, grad_fn=<AddBackward0>)\n",
      "tensor(392125.3750, grad_fn=<AddBackward0>)\n",
      "tensor(358978.8125, grad_fn=<AddBackward0>)\n",
      "tensor(391290., grad_fn=<AddBackward0>)\n",
      "tensor(392509.2188, grad_fn=<AddBackward0>)\n",
      "tensor(366473.9375, grad_fn=<AddBackward0>)\n",
      "tensor(394649., grad_fn=<AddBackward0>)\n",
      "tensor(375729.1875, grad_fn=<AddBackward0>)\n",
      "tensor(344550., grad_fn=<AddBackward0>)\n"
     ]
    },
    {
     "name": "stderr",
     "output_type": "stream",
     "text": [
      "\r",
      "  1%|          | 8/1000 [00:19<40:30,  2.45s/it]"
     ]
    },
    {
     "name": "stdout",
     "output_type": "stream",
     "text": [
      "tensor(361011.3125, grad_fn=<AddBackward0>)\n",
      "tensor(376369.7812, grad_fn=<AddBackward0>)\n",
      "tensor(392125.3750, grad_fn=<AddBackward0>)\n",
      "tensor(358978.8125, grad_fn=<AddBackward0>)\n",
      "tensor(391290., grad_fn=<AddBackward0>)\n",
      "tensor(392509.2188, grad_fn=<AddBackward0>)\n",
      "tensor(366473.9375, grad_fn=<AddBackward0>)\n",
      "tensor(394649., grad_fn=<AddBackward0>)\n",
      "tensor(375729.1875, grad_fn=<AddBackward0>)\n",
      "tensor(344550., grad_fn=<AddBackward0>)\n"
     ]
    },
    {
     "name": "stderr",
     "output_type": "stream",
     "text": [
      "\r",
      "  1%|          | 9/1000 [00:21<40:16,  2.44s/it]"
     ]
    },
    {
     "name": "stdout",
     "output_type": "stream",
     "text": [
      "tensor(361011.3125, grad_fn=<AddBackward0>)\n",
      "tensor(376369.7812, grad_fn=<AddBackward0>)\n",
      "tensor(392125.3750, grad_fn=<AddBackward0>)\n",
      "tensor(358978.8125, grad_fn=<AddBackward0>)\n",
      "tensor(391290., grad_fn=<AddBackward0>)\n",
      "tensor(392509.2188, grad_fn=<AddBackward0>)\n",
      "tensor(366473.9375, grad_fn=<AddBackward0>)\n",
      "tensor(394649., grad_fn=<AddBackward0>)\n",
      "tensor(375729.1875, grad_fn=<AddBackward0>)\n",
      "tensor(344550., grad_fn=<AddBackward0>)\n"
     ]
    },
    {
     "name": "stderr",
     "output_type": "stream",
     "text": [
      "\r",
      "  1%|          | 10/1000 [00:24<40:02,  2.43s/it]"
     ]
    },
    {
     "name": "stdout",
     "output_type": "stream",
     "text": [
      "tensor(361011.3125, grad_fn=<AddBackward0>)\n",
      "tensor(376369.7812, grad_fn=<AddBackward0>)\n",
      "tensor(392125.3750, grad_fn=<AddBackward0>)\n",
      "tensor(358978.8125, grad_fn=<AddBackward0>)\n",
      "tensor(391290., grad_fn=<AddBackward0>)\n",
      "tensor(392509.2188, grad_fn=<AddBackward0>)\n",
      "tensor(366473.9375, grad_fn=<AddBackward0>)\n",
      "tensor(394649., grad_fn=<AddBackward0>)\n",
      "tensor(375729.1875, grad_fn=<AddBackward0>)\n",
      "tensor(344550., grad_fn=<AddBackward0>)\n"
     ]
    },
    {
     "name": "stderr",
     "output_type": "stream",
     "text": [
      "\r",
      "  1%|          | 11/1000 [00:26<39:54,  2.42s/it]"
     ]
    },
    {
     "name": "stdout",
     "output_type": "stream",
     "text": [
      "tensor(361011.3125, grad_fn=<AddBackward0>)\n",
      "tensor(376369.7812, grad_fn=<AddBackward0>)\n",
      "tensor(392125.3750, grad_fn=<AddBackward0>)\n",
      "tensor(358978.8125, grad_fn=<AddBackward0>)\n",
      "tensor(391290., grad_fn=<AddBackward0>)\n",
      "tensor(392509.2188, grad_fn=<AddBackward0>)\n",
      "tensor(366473.9375, grad_fn=<AddBackward0>)\n",
      "tensor(394649., grad_fn=<AddBackward0>)\n",
      "tensor(375729.1875, grad_fn=<AddBackward0>)\n",
      "tensor(344550., grad_fn=<AddBackward0>)\n"
     ]
    },
    {
     "name": "stderr",
     "output_type": "stream",
     "text": [
      "\r",
      "  1%|          | 12/1000 [00:29<39:54,  2.42s/it]"
     ]
    },
    {
     "name": "stdout",
     "output_type": "stream",
     "text": [
      "tensor(361011.3125, grad_fn=<AddBackward0>)\n",
      "tensor(376369.7812, grad_fn=<AddBackward0>)\n",
      "tensor(392125.3750, grad_fn=<AddBackward0>)\n",
      "tensor(358978.8125, grad_fn=<AddBackward0>)\n",
      "tensor(391290., grad_fn=<AddBackward0>)\n",
      "tensor(392509.2188, grad_fn=<AddBackward0>)\n",
      "tensor(366473.9375, grad_fn=<AddBackward0>)\n",
      "tensor(394649., grad_fn=<AddBackward0>)\n",
      "tensor(375729.1875, grad_fn=<AddBackward0>)\n",
      "tensor(344550., grad_fn=<AddBackward0>)\n"
     ]
    },
    {
     "name": "stderr",
     "output_type": "stream",
     "text": [
      "\r",
      "  1%|▏         | 13/1000 [00:31<40:44,  2.48s/it]"
     ]
    },
    {
     "name": "stdout",
     "output_type": "stream",
     "text": [
      "tensor(361011.3125, grad_fn=<AddBackward0>)\n",
      "tensor(376369.7812, grad_fn=<AddBackward0>)\n",
      "tensor(392125.3750, grad_fn=<AddBackward0>)\n",
      "tensor(358978.8125, grad_fn=<AddBackward0>)\n",
      "tensor(391290., grad_fn=<AddBackward0>)\n",
      "tensor(392509.2188, grad_fn=<AddBackward0>)\n",
      "tensor(366473.9375, grad_fn=<AddBackward0>)\n",
      "tensor(394649., grad_fn=<AddBackward0>)\n",
      "tensor(375729.1875, grad_fn=<AddBackward0>)\n",
      "tensor(344550., grad_fn=<AddBackward0>)\n"
     ]
    },
    {
     "name": "stderr",
     "output_type": "stream",
     "text": [
      "\r",
      "  1%|▏         | 14/1000 [00:34<40:17,  2.45s/it]"
     ]
    },
    {
     "name": "stdout",
     "output_type": "stream",
     "text": [
      "tensor(361011.3125, grad_fn=<AddBackward0>)\n",
      "tensor(376369.7812, grad_fn=<AddBackward0>)\n",
      "tensor(392125.3750, grad_fn=<AddBackward0>)\n",
      "tensor(358978.8125, grad_fn=<AddBackward0>)\n",
      "tensor(391290., grad_fn=<AddBackward0>)\n",
      "tensor(392509.2188, grad_fn=<AddBackward0>)\n",
      "tensor(366473.9375, grad_fn=<AddBackward0>)\n",
      "tensor(394649., grad_fn=<AddBackward0>)\n",
      "tensor(375729.1875, grad_fn=<AddBackward0>)\n",
      "tensor(344550., grad_fn=<AddBackward0>)\n"
     ]
    },
    {
     "name": "stderr",
     "output_type": "stream",
     "text": [
      "\r",
      "  2%|▏         | 15/1000 [00:36<40:08,  2.45s/it]"
     ]
    },
    {
     "name": "stdout",
     "output_type": "stream",
     "text": [
      "tensor(361011.3125, grad_fn=<AddBackward0>)\n",
      "tensor(376369.7812, grad_fn=<AddBackward0>)\n",
      "tensor(392125.3750, grad_fn=<AddBackward0>)\n",
      "tensor(358978.8125, grad_fn=<AddBackward0>)\n",
      "tensor(391290., grad_fn=<AddBackward0>)\n",
      "tensor(392509.2188, grad_fn=<AddBackward0>)\n",
      "tensor(366473.9375, grad_fn=<AddBackward0>)\n",
      "tensor(394649., grad_fn=<AddBackward0>)\n",
      "tensor(375729.1875, grad_fn=<AddBackward0>)\n",
      "tensor(344550., grad_fn=<AddBackward0>)\n"
     ]
    },
    {
     "name": "stderr",
     "output_type": "stream",
     "text": [
      "\r",
      "  2%|▏         | 16/1000 [00:38<39:48,  2.43s/it]"
     ]
    },
    {
     "name": "stdout",
     "output_type": "stream",
     "text": [
      "tensor(361011.3125, grad_fn=<AddBackward0>)\n",
      "tensor(376369.7812, grad_fn=<AddBackward0>)\n",
      "tensor(392125.3750, grad_fn=<AddBackward0>)\n",
      "tensor(358978.8125, grad_fn=<AddBackward0>)\n",
      "tensor(391290., grad_fn=<AddBackward0>)\n",
      "tensor(392509.2188, grad_fn=<AddBackward0>)\n",
      "tensor(366473.9375, grad_fn=<AddBackward0>)\n",
      "tensor(394649., grad_fn=<AddBackward0>)\n",
      "tensor(375729.1875, grad_fn=<AddBackward0>)\n",
      "tensor(344550., grad_fn=<AddBackward0>)\n"
     ]
    },
    {
     "name": "stderr",
     "output_type": "stream",
     "text": [
      "\r",
      "  2%|▏         | 17/1000 [00:41<39:39,  2.42s/it]"
     ]
    },
    {
     "name": "stdout",
     "output_type": "stream",
     "text": [
      "tensor(361011.3125, grad_fn=<AddBackward0>)\n",
      "tensor(376369.7812, grad_fn=<AddBackward0>)\n",
      "tensor(392125.3750, grad_fn=<AddBackward0>)\n",
      "tensor(358978.8125, grad_fn=<AddBackward0>)\n",
      "tensor(391290., grad_fn=<AddBackward0>)\n",
      "tensor(392509.2188, grad_fn=<AddBackward0>)\n",
      "tensor(366473.9375, grad_fn=<AddBackward0>)\n",
      "tensor(394649., grad_fn=<AddBackward0>)\n",
      "tensor(375729.1875, grad_fn=<AddBackward0>)\n",
      "tensor(344550., grad_fn=<AddBackward0>)\n"
     ]
    },
    {
     "name": "stderr",
     "output_type": "stream",
     "text": [
      "\r",
      "  2%|▏         | 18/1000 [00:43<39:46,  2.43s/it]"
     ]
    },
    {
     "name": "stdout",
     "output_type": "stream",
     "text": [
      "tensor(361011.3125, grad_fn=<AddBackward0>)\n",
      "tensor(376369.7812, grad_fn=<AddBackward0>)\n",
      "tensor(392125.3750, grad_fn=<AddBackward0>)\n",
      "tensor(358978.8125, grad_fn=<AddBackward0>)\n",
      "tensor(391290., grad_fn=<AddBackward0>)\n",
      "tensor(392509.2188, grad_fn=<AddBackward0>)\n",
      "tensor(366473.9375, grad_fn=<AddBackward0>)\n",
      "tensor(394649., grad_fn=<AddBackward0>)\n",
      "tensor(375729.1875, grad_fn=<AddBackward0>)\n"
     ]
    },
    {
     "name": "stderr",
     "output_type": "stream",
     "text": [
      "\r",
      "  2%|▏         | 19/1000 [00:46<39:39,  2.43s/it]"
     ]
    },
    {
     "name": "stdout",
     "output_type": "stream",
     "text": [
      "tensor(344550., grad_fn=<AddBackward0>)\n",
      "tensor(361011.3125, grad_fn=<AddBackward0>)\n",
      "tensor(376369.7812, grad_fn=<AddBackward0>)\n",
      "tensor(392125.3750, grad_fn=<AddBackward0>)\n",
      "tensor(358978.8125, grad_fn=<AddBackward0>)\n",
      "tensor(391290., grad_fn=<AddBackward0>)\n",
      "tensor(392509.2188, grad_fn=<AddBackward0>)\n",
      "tensor(366473.9375, grad_fn=<AddBackward0>)\n",
      "tensor(394649., grad_fn=<AddBackward0>)\n",
      "tensor(375729.1875, grad_fn=<AddBackward0>)\n",
      "tensor(344550., grad_fn=<AddBackward0>)\n"
     ]
    },
    {
     "name": "stderr",
     "output_type": "stream",
     "text": [
      "\r",
      "  2%|▏         | 20/1000 [00:48<39:06,  2.39s/it]"
     ]
    },
    {
     "name": "stdout",
     "output_type": "stream",
     "text": [
      "tensor(361011.3125, grad_fn=<AddBackward0>)\n",
      "tensor(376369.7812, grad_fn=<AddBackward0>)\n",
      "tensor(392125.3750, grad_fn=<AddBackward0>)\n",
      "tensor(358978.8125, grad_fn=<AddBackward0>)\n",
      "tensor(391290., grad_fn=<AddBackward0>)\n",
      "tensor(392509.2188, grad_fn=<AddBackward0>)\n",
      "tensor(366473.9375, grad_fn=<AddBackward0>)\n",
      "tensor(394649., grad_fn=<AddBackward0>)\n",
      "tensor(375729.1875, grad_fn=<AddBackward0>)\n",
      "tensor(344550., grad_fn=<AddBackward0>)\n"
     ]
    },
    {
     "name": "stderr",
     "output_type": "stream",
     "text": [
      "\r",
      "  2%|▏         | 21/1000 [00:51<39:38,  2.43s/it]"
     ]
    },
    {
     "name": "stdout",
     "output_type": "stream",
     "text": [
      "tensor(361011.3125, grad_fn=<AddBackward0>)\n",
      "tensor(376369.7812, grad_fn=<AddBackward0>)\n",
      "tensor(392125.3750, grad_fn=<AddBackward0>)\n",
      "tensor(358978.8125, grad_fn=<AddBackward0>)\n",
      "tensor(391290., grad_fn=<AddBackward0>)\n",
      "tensor(392509.2188, grad_fn=<AddBackward0>)\n",
      "tensor(366473.9375, grad_fn=<AddBackward0>)\n",
      "tensor(394649., grad_fn=<AddBackward0>)\n",
      "tensor(375729.1875, grad_fn=<AddBackward0>)\n",
      "tensor(344550., grad_fn=<AddBackward0>)\n"
     ]
    },
    {
     "name": "stderr",
     "output_type": "stream",
     "text": [
      "\r",
      "  2%|▏         | 22/1000 [00:53<40:01,  2.46s/it]"
     ]
    },
    {
     "name": "stdout",
     "output_type": "stream",
     "text": [
      "tensor(361011.3125, grad_fn=<AddBackward0>)\n",
      "tensor(376369.7812, grad_fn=<AddBackward0>)\n",
      "tensor(392125.3750, grad_fn=<AddBackward0>)\n",
      "tensor(358978.8125, grad_fn=<AddBackward0>)\n",
      "tensor(391290., grad_fn=<AddBackward0>)\n",
      "tensor(392509.2188, grad_fn=<AddBackward0>)\n",
      "tensor(366473.9375, grad_fn=<AddBackward0>)\n",
      "tensor(394649., grad_fn=<AddBackward0>)\n",
      "tensor(375729.1875, grad_fn=<AddBackward0>)\n",
      "tensor(344550., grad_fn=<AddBackward0>)\n"
     ]
    },
    {
     "name": "stderr",
     "output_type": "stream",
     "text": [
      "\r",
      "  2%|▏         | 23/1000 [00:56<40:11,  2.47s/it]"
     ]
    },
    {
     "name": "stdout",
     "output_type": "stream",
     "text": [
      "tensor(361011.3125, grad_fn=<AddBackward0>)\n",
      "tensor(376369.7812, grad_fn=<AddBackward0>)\n",
      "tensor(392125.3750, grad_fn=<AddBackward0>)\n",
      "tensor(358978.8125, grad_fn=<AddBackward0>)\n",
      "tensor(391290., grad_fn=<AddBackward0>)\n",
      "tensor(392509.2188, grad_fn=<AddBackward0>)\n",
      "tensor(366473.9375, grad_fn=<AddBackward0>)\n",
      "tensor(394649., grad_fn=<AddBackward0>)\n",
      "tensor(375729.1875, grad_fn=<AddBackward0>)\n",
      "tensor(344550., grad_fn=<AddBackward0>)\n"
     ]
    },
    {
     "name": "stderr",
     "output_type": "stream",
     "text": [
      "\r",
      "  2%|▏         | 24/1000 [00:58<39:58,  2.46s/it]"
     ]
    },
    {
     "name": "stdout",
     "output_type": "stream",
     "text": [
      "tensor(361011.3125, grad_fn=<AddBackward0>)\n",
      "tensor(376369.7812, grad_fn=<AddBackward0>)\n",
      "tensor(392125.3750, grad_fn=<AddBackward0>)\n",
      "tensor(358978.8125, grad_fn=<AddBackward0>)\n",
      "tensor(391290., grad_fn=<AddBackward0>)\n",
      "tensor(392509.2188, grad_fn=<AddBackward0>)\n",
      "tensor(366473.9375, grad_fn=<AddBackward0>)\n",
      "tensor(394649., grad_fn=<AddBackward0>)\n",
      "tensor(375729.1875, grad_fn=<AddBackward0>)\n",
      "tensor(344550., grad_fn=<AddBackward0>)\n"
     ]
    },
    {
     "name": "stderr",
     "output_type": "stream",
     "text": [
      "\r",
      "  2%|▎         | 25/1000 [01:00<39:58,  2.46s/it]"
     ]
    },
    {
     "name": "stdout",
     "output_type": "stream",
     "text": [
      "tensor(361011.3125, grad_fn=<AddBackward0>)\n",
      "tensor(376369.7812, grad_fn=<AddBackward0>)\n",
      "tensor(392125.3750, grad_fn=<AddBackward0>)\n",
      "tensor(358978.8125, grad_fn=<AddBackward0>)\n",
      "tensor(391290., grad_fn=<AddBackward0>)\n",
      "tensor(392509.2188, grad_fn=<AddBackward0>)\n",
      "tensor(366473.9375, grad_fn=<AddBackward0>)\n",
      "tensor(394649., grad_fn=<AddBackward0>)\n",
      "tensor(375729.1875, grad_fn=<AddBackward0>)\n",
      "tensor(344550., grad_fn=<AddBackward0>)\n"
     ]
    },
    {
     "name": "stderr",
     "output_type": "stream",
     "text": [
      "\r",
      "  3%|▎         | 26/1000 [01:03<40:15,  2.48s/it]"
     ]
    },
    {
     "name": "stdout",
     "output_type": "stream",
     "text": [
      "tensor(361011.3125, grad_fn=<AddBackward0>)\n",
      "tensor(376369.7812, grad_fn=<AddBackward0>)\n",
      "tensor(392125.3750, grad_fn=<AddBackward0>)\n",
      "tensor(358978.8125, grad_fn=<AddBackward0>)\n",
      "tensor(391290., grad_fn=<AddBackward0>)\n",
      "tensor(392509.2188, grad_fn=<AddBackward0>)\n",
      "tensor(366473.9375, grad_fn=<AddBackward0>)\n",
      "tensor(394649., grad_fn=<AddBackward0>)\n",
      "tensor(375729.1875, grad_fn=<AddBackward0>)\n",
      "tensor(344550., grad_fn=<AddBackward0>)\n"
     ]
    },
    {
     "name": "stderr",
     "output_type": "stream",
     "text": [
      "\r",
      "  3%|▎         | 27/1000 [01:06<40:27,  2.49s/it]"
     ]
    },
    {
     "name": "stdout",
     "output_type": "stream",
     "text": [
      "tensor(361011.3125, grad_fn=<AddBackward0>)\n",
      "tensor(376369.7812, grad_fn=<AddBackward0>)\n",
      "tensor(392125.3750, grad_fn=<AddBackward0>)\n",
      "tensor(358978.8125, grad_fn=<AddBackward0>)\n",
      "tensor(391290., grad_fn=<AddBackward0>)\n",
      "tensor(392509.2188, grad_fn=<AddBackward0>)\n",
      "tensor(366473.9375, grad_fn=<AddBackward0>)\n",
      "tensor(394649., grad_fn=<AddBackward0>)\n",
      "tensor(375729.1875, grad_fn=<AddBackward0>)\n"
     ]
    },
    {
     "name": "stderr",
     "output_type": "stream",
     "text": [
      "\r",
      "  3%|▎         | 28/1000 [01:08<40:12,  2.48s/it]"
     ]
    },
    {
     "name": "stdout",
     "output_type": "stream",
     "text": [
      "tensor(344550., grad_fn=<AddBackward0>)\n",
      "tensor(361011.3125, grad_fn=<AddBackward0>)\n",
      "tensor(376369.7812, grad_fn=<AddBackward0>)\n",
      "tensor(392125.3750, grad_fn=<AddBackward0>)\n",
      "tensor(358978.8125, grad_fn=<AddBackward0>)\n",
      "tensor(391290., grad_fn=<AddBackward0>)\n",
      "tensor(392509.2188, grad_fn=<AddBackward0>)\n",
      "tensor(366473.9375, grad_fn=<AddBackward0>)\n",
      "tensor(394649., grad_fn=<AddBackward0>)\n",
      "tensor(375729.1875, grad_fn=<AddBackward0>)\n",
      "tensor(344550., grad_fn=<AddBackward0>)\n"
     ]
    },
    {
     "name": "stderr",
     "output_type": "stream",
     "text": [
      "\r",
      "  3%|▎         | 29/1000 [01:10<40:04,  2.48s/it]"
     ]
    },
    {
     "name": "stdout",
     "output_type": "stream",
     "text": [
      "tensor(361011.3125, grad_fn=<AddBackward0>)\n",
      "tensor(376369.7812, grad_fn=<AddBackward0>)\n",
      "tensor(392125.3750, grad_fn=<AddBackward0>)\n",
      "tensor(358978.8125, grad_fn=<AddBackward0>)\n",
      "tensor(391290., grad_fn=<AddBackward0>)\n",
      "tensor(392509.2188, grad_fn=<AddBackward0>)\n",
      "tensor(366473.9375, grad_fn=<AddBackward0>)\n",
      "tensor(394649., grad_fn=<AddBackward0>)\n",
      "tensor(375729.1875, grad_fn=<AddBackward0>)\n",
      "tensor(344550., grad_fn=<AddBackward0>)\n"
     ]
    },
    {
     "name": "stderr",
     "output_type": "stream",
     "text": [
      "\r",
      "  3%|▎         | 30/1000 [01:13<40:11,  2.49s/it]"
     ]
    },
    {
     "name": "stdout",
     "output_type": "stream",
     "text": [
      "tensor(361011.3125, grad_fn=<AddBackward0>)\n",
      "tensor(376369.7812, grad_fn=<AddBackward0>)\n",
      "tensor(392125.3750, grad_fn=<AddBackward0>)\n",
      "tensor(358978.8125, grad_fn=<AddBackward0>)\n",
      "tensor(391290., grad_fn=<AddBackward0>)\n",
      "tensor(392509.2188, grad_fn=<AddBackward0>)\n",
      "tensor(366473.9375, grad_fn=<AddBackward0>)\n",
      "tensor(394649., grad_fn=<AddBackward0>)\n",
      "tensor(375729.1875, grad_fn=<AddBackward0>)\n",
      "tensor(344550., grad_fn=<AddBackward0>)\n"
     ]
    },
    {
     "name": "stderr",
     "output_type": "stream",
     "text": [
      "\r",
      "  3%|▎         | 31/1000 [01:15<40:14,  2.49s/it]"
     ]
    },
    {
     "name": "stdout",
     "output_type": "stream",
     "text": [
      "tensor(361011.3125, grad_fn=<AddBackward0>)\n",
      "tensor(376369.7812, grad_fn=<AddBackward0>)\n",
      "tensor(392125.3750, grad_fn=<AddBackward0>)\n",
      "tensor(358978.8125, grad_fn=<AddBackward0>)\n",
      "tensor(391290., grad_fn=<AddBackward0>)\n",
      "tensor(392509.2188, grad_fn=<AddBackward0>)\n",
      "tensor(366473.9375, grad_fn=<AddBackward0>)\n",
      "tensor(394649., grad_fn=<AddBackward0>)\n",
      "tensor(375729.1875, grad_fn=<AddBackward0>)\n",
      "tensor(344550., grad_fn=<AddBackward0>)\n"
     ]
    },
    {
     "name": "stderr",
     "output_type": "stream",
     "text": [
      "\r",
      "  3%|▎         | 32/1000 [01:18<40:14,  2.49s/it]"
     ]
    },
    {
     "name": "stdout",
     "output_type": "stream",
     "text": [
      "tensor(361011.3125, grad_fn=<AddBackward0>)\n",
      "tensor(376369.7812, grad_fn=<AddBackward0>)\n",
      "tensor(392125.3750, grad_fn=<AddBackward0>)\n",
      "tensor(358978.8125, grad_fn=<AddBackward0>)\n",
      "tensor(391290., grad_fn=<AddBackward0>)\n",
      "tensor(392509.2188, grad_fn=<AddBackward0>)\n",
      "tensor(366473.9375, grad_fn=<AddBackward0>)\n",
      "tensor(394649., grad_fn=<AddBackward0>)\n",
      "tensor(375729.1875, grad_fn=<AddBackward0>)\n",
      "tensor(344550., grad_fn=<AddBackward0>)\n"
     ]
    },
    {
     "name": "stderr",
     "output_type": "stream",
     "text": [
      "\r",
      "  3%|▎         | 33/1000 [01:20<39:50,  2.47s/it]"
     ]
    },
    {
     "name": "stdout",
     "output_type": "stream",
     "text": [
      "tensor(361011.3125, grad_fn=<AddBackward0>)\n",
      "tensor(376369.7812, grad_fn=<AddBackward0>)\n",
      "tensor(392125.3750, grad_fn=<AddBackward0>)\n",
      "tensor(358978.8125, grad_fn=<AddBackward0>)\n",
      "tensor(391290., grad_fn=<AddBackward0>)\n",
      "tensor(392509.2188, grad_fn=<AddBackward0>)\n",
      "tensor(366473.9375, grad_fn=<AddBackward0>)\n",
      "tensor(394649., grad_fn=<AddBackward0>)\n",
      "tensor(375729.1875, grad_fn=<AddBackward0>)\n",
      "tensor(344550., grad_fn=<AddBackward0>)\n"
     ]
    },
    {
     "name": "stderr",
     "output_type": "stream",
     "text": [
      "\r",
      "  3%|▎         | 34/1000 [01:23<39:42,  2.47s/it]"
     ]
    },
    {
     "name": "stdout",
     "output_type": "stream",
     "text": [
      "tensor(361011.3125, grad_fn=<AddBackward0>)\n",
      "tensor(376369.7812, grad_fn=<AddBackward0>)\n",
      "tensor(392125.3750, grad_fn=<AddBackward0>)\n",
      "tensor(358978.8125, grad_fn=<AddBackward0>)\n",
      "tensor(391290., grad_fn=<AddBackward0>)\n",
      "tensor(392509.2188, grad_fn=<AddBackward0>)\n",
      "tensor(366473.9375, grad_fn=<AddBackward0>)\n",
      "tensor(394649., grad_fn=<AddBackward0>)\n",
      "tensor(375729.1875, grad_fn=<AddBackward0>)\n",
      "tensor(344550., grad_fn=<AddBackward0>)\n"
     ]
    },
    {
     "name": "stderr",
     "output_type": "stream",
     "text": [
      "\r",
      "  4%|▎         | 35/1000 [01:25<40:06,  2.49s/it]"
     ]
    },
    {
     "name": "stdout",
     "output_type": "stream",
     "text": [
      "tensor(361011.3125, grad_fn=<AddBackward0>)\n",
      "tensor(376369.7812, grad_fn=<AddBackward0>)\n",
      "tensor(392125.3750, grad_fn=<AddBackward0>)\n",
      "tensor(358978.8125, grad_fn=<AddBackward0>)\n",
      "tensor(391290., grad_fn=<AddBackward0>)\n",
      "tensor(392509.2188, grad_fn=<AddBackward0>)\n",
      "tensor(366473.9375, grad_fn=<AddBackward0>)\n",
      "tensor(394649., grad_fn=<AddBackward0>)\n",
      "tensor(375729.1875, grad_fn=<AddBackward0>)\n",
      "tensor(344550., grad_fn=<AddBackward0>)\n"
     ]
    },
    {
     "name": "stderr",
     "output_type": "stream",
     "text": [
      "\r",
      "  4%|▎         | 36/1000 [01:28<39:51,  2.48s/it]"
     ]
    },
    {
     "name": "stdout",
     "output_type": "stream",
     "text": [
      "tensor(361011.3125, grad_fn=<AddBackward0>)\n",
      "tensor(376369.7812, grad_fn=<AddBackward0>)\n",
      "tensor(392125.3750, grad_fn=<AddBackward0>)\n",
      "tensor(358978.8125, grad_fn=<AddBackward0>)\n",
      "tensor(391290., grad_fn=<AddBackward0>)\n",
      "tensor(392509.2188, grad_fn=<AddBackward0>)\n",
      "tensor(366473.9375, grad_fn=<AddBackward0>)\n",
      "tensor(394649., grad_fn=<AddBackward0>)\n",
      "tensor(375729.1875, grad_fn=<AddBackward0>)\n",
      "tensor(344550., grad_fn=<AddBackward0>)\n"
     ]
    },
    {
     "name": "stderr",
     "output_type": "stream",
     "text": [
      "\r",
      "  4%|▎         | 37/1000 [01:30<40:02,  2.49s/it]"
     ]
    },
    {
     "name": "stdout",
     "output_type": "stream",
     "text": [
      "tensor(361011.3125, grad_fn=<AddBackward0>)\n",
      "tensor(376369.7812, grad_fn=<AddBackward0>)\n",
      "tensor(392125.3750, grad_fn=<AddBackward0>)\n",
      "tensor(358978.8125, grad_fn=<AddBackward0>)\n",
      "tensor(391290., grad_fn=<AddBackward0>)\n",
      "tensor(392509.2188, grad_fn=<AddBackward0>)\n",
      "tensor(366473.9375, grad_fn=<AddBackward0>)\n",
      "tensor(394649., grad_fn=<AddBackward0>)\n",
      "tensor(375729.1875, grad_fn=<AddBackward0>)\n",
      "tensor(344550., grad_fn=<AddBackward0>)\n"
     ]
    },
    {
     "name": "stderr",
     "output_type": "stream",
     "text": [
      "\r",
      "  4%|▍         | 38/1000 [01:33<40:17,  2.51s/it]"
     ]
    },
    {
     "name": "stdout",
     "output_type": "stream",
     "text": [
      "tensor(361011.3125, grad_fn=<AddBackward0>)\n",
      "tensor(376369.7812, grad_fn=<AddBackward0>)\n",
      "tensor(392125.3750, grad_fn=<AddBackward0>)\n",
      "tensor(358978.8125, grad_fn=<AddBackward0>)\n",
      "tensor(391290., grad_fn=<AddBackward0>)\n",
      "tensor(392509.2188, grad_fn=<AddBackward0>)\n",
      "tensor(366473.9375, grad_fn=<AddBackward0>)\n",
      "tensor(394649., grad_fn=<AddBackward0>)\n",
      "tensor(375729.1875, grad_fn=<AddBackward0>)\n",
      "tensor(344550., grad_fn=<AddBackward0>)\n"
     ]
    },
    {
     "name": "stderr",
     "output_type": "stream",
     "text": [
      "\r",
      "  4%|▍         | 39/1000 [01:36<41:14,  2.57s/it]"
     ]
    },
    {
     "name": "stdout",
     "output_type": "stream",
     "text": [
      "tensor(361011.3125, grad_fn=<AddBackward0>)\n",
      "tensor(376369.7812, grad_fn=<AddBackward0>)\n",
      "tensor(392125.3750, grad_fn=<AddBackward0>)\n",
      "tensor(358978.8125, grad_fn=<AddBackward0>)\n",
      "tensor(391290., grad_fn=<AddBackward0>)\n",
      "tensor(392509.2188, grad_fn=<AddBackward0>)\n",
      "tensor(366473.9375, grad_fn=<AddBackward0>)\n",
      "tensor(394649., grad_fn=<AddBackward0>)\n",
      "tensor(375729.1875, grad_fn=<AddBackward0>)\n",
      "tensor(344550., grad_fn=<AddBackward0>)\n"
     ]
    },
    {
     "name": "stderr",
     "output_type": "stream",
     "text": [
      "\r",
      "  4%|▍         | 40/1000 [01:38<40:56,  2.56s/it]"
     ]
    },
    {
     "name": "stdout",
     "output_type": "stream",
     "text": [
      "tensor(361011.3125, grad_fn=<AddBackward0>)\n",
      "tensor(376369.7812, grad_fn=<AddBackward0>)\n",
      "tensor(392125.3750, grad_fn=<AddBackward0>)\n",
      "tensor(358978.8125, grad_fn=<AddBackward0>)\n",
      "tensor(391290., grad_fn=<AddBackward0>)\n",
      "tensor(392509.2188, grad_fn=<AddBackward0>)\n",
      "tensor(366473.9375, grad_fn=<AddBackward0>)\n",
      "tensor(394649., grad_fn=<AddBackward0>)\n",
      "tensor(375729.1875, grad_fn=<AddBackward0>)\n",
      "tensor(344550., grad_fn=<AddBackward0>)\n"
     ]
    },
    {
     "name": "stderr",
     "output_type": "stream",
     "text": [
      "\r",
      "  4%|▍         | 41/1000 [01:41<41:13,  2.58s/it]"
     ]
    },
    {
     "name": "stdout",
     "output_type": "stream",
     "text": [
      "tensor(361011.3125, grad_fn=<AddBackward0>)\n",
      "tensor(376369.7812, grad_fn=<AddBackward0>)\n",
      "tensor(392125.3750, grad_fn=<AddBackward0>)\n",
      "tensor(358978.8125, grad_fn=<AddBackward0>)\n",
      "tensor(391290., grad_fn=<AddBackward0>)\n",
      "tensor(392509.2188, grad_fn=<AddBackward0>)\n",
      "tensor(366473.9375, grad_fn=<AddBackward0>)\n",
      "tensor(394649., grad_fn=<AddBackward0>)\n",
      "tensor(375729.1875, grad_fn=<AddBackward0>)\n",
      "tensor(344550., grad_fn=<AddBackward0>)\n"
     ]
    },
    {
     "name": "stderr",
     "output_type": "stream",
     "text": [
      "\r",
      "  4%|▍         | 42/1000 [01:43<41:22,  2.59s/it]"
     ]
    },
    {
     "name": "stdout",
     "output_type": "stream",
     "text": [
      "tensor(361011.3125, grad_fn=<AddBackward0>)\n",
      "tensor(376369.7812, grad_fn=<AddBackward0>)\n",
      "tensor(392125.3750, grad_fn=<AddBackward0>)\n",
      "tensor(358978.8125, grad_fn=<AddBackward0>)\n",
      "tensor(391290., grad_fn=<AddBackward0>)\n",
      "tensor(392509.2188, grad_fn=<AddBackward0>)\n",
      "tensor(366473.9375, grad_fn=<AddBackward0>)\n",
      "tensor(394649., grad_fn=<AddBackward0>)\n",
      "tensor(375729.1875, grad_fn=<AddBackward0>)\n",
      "tensor(344550., grad_fn=<AddBackward0>)\n"
     ]
    },
    {
     "name": "stderr",
     "output_type": "stream",
     "text": [
      "\r",
      "  4%|▍         | 43/1000 [01:46<40:45,  2.56s/it]"
     ]
    },
    {
     "name": "stdout",
     "output_type": "stream",
     "text": [
      "tensor(361011.3125, grad_fn=<AddBackward0>)\n",
      "tensor(376369.7812, grad_fn=<AddBackward0>)\n",
      "tensor(392125.3750, grad_fn=<AddBackward0>)\n",
      "tensor(358978.8125, grad_fn=<AddBackward0>)\n",
      "tensor(391290., grad_fn=<AddBackward0>)\n",
      "tensor(392509.2188, grad_fn=<AddBackward0>)\n",
      "tensor(366473.9375, grad_fn=<AddBackward0>)\n",
      "tensor(394649., grad_fn=<AddBackward0>)\n",
      "tensor(375729.1875, grad_fn=<AddBackward0>)\n",
      "tensor(344550., grad_fn=<AddBackward0>)\n"
     ]
    },
    {
     "name": "stderr",
     "output_type": "stream",
     "text": [
      "\r",
      "  4%|▍         | 44/1000 [01:48<40:28,  2.54s/it]"
     ]
    },
    {
     "name": "stdout",
     "output_type": "stream",
     "text": [
      "tensor(361011.3125, grad_fn=<AddBackward0>)\n",
      "tensor(376369.7812, grad_fn=<AddBackward0>)\n",
      "tensor(392125.3750, grad_fn=<AddBackward0>)\n",
      "tensor(358978.8125, grad_fn=<AddBackward0>)\n",
      "tensor(391290., grad_fn=<AddBackward0>)\n",
      "tensor(392509.2188, grad_fn=<AddBackward0>)\n",
      "tensor(366473.9375, grad_fn=<AddBackward0>)\n",
      "tensor(394649., grad_fn=<AddBackward0>)\n",
      "tensor(375729.1875, grad_fn=<AddBackward0>)\n",
      "tensor(344550., grad_fn=<AddBackward0>)\n"
     ]
    },
    {
     "name": "stderr",
     "output_type": "stream",
     "text": [
      "\r",
      "  4%|▍         | 45/1000 [01:51<39:57,  2.51s/it]"
     ]
    },
    {
     "name": "stdout",
     "output_type": "stream",
     "text": [
      "tensor(361011.3125, grad_fn=<AddBackward0>)\n",
      "tensor(376369.7812, grad_fn=<AddBackward0>)\n",
      "tensor(392125.3750, grad_fn=<AddBackward0>)\n",
      "tensor(358978.8125, grad_fn=<AddBackward0>)\n",
      "tensor(391290., grad_fn=<AddBackward0>)\n",
      "tensor(392509.2188, grad_fn=<AddBackward0>)\n",
      "tensor(366473.9375, grad_fn=<AddBackward0>)\n",
      "tensor(394649., grad_fn=<AddBackward0>)\n",
      "tensor(375729.1875, grad_fn=<AddBackward0>)\n",
      "tensor(344550., grad_fn=<AddBackward0>)\n"
     ]
    },
    {
     "name": "stderr",
     "output_type": "stream",
     "text": [
      "\r",
      "  5%|▍         | 46/1000 [01:53<39:09,  2.46s/it]"
     ]
    },
    {
     "name": "stdout",
     "output_type": "stream",
     "text": [
      "tensor(361011.3125, grad_fn=<AddBackward0>)\n",
      "tensor(376369.7812, grad_fn=<AddBackward0>)\n",
      "tensor(392125.3750, grad_fn=<AddBackward0>)\n",
      "tensor(358978.8125, grad_fn=<AddBackward0>)\n",
      "tensor(391290., grad_fn=<AddBackward0>)\n",
      "tensor(392509.2188, grad_fn=<AddBackward0>)\n",
      "tensor(366473.9375, grad_fn=<AddBackward0>)\n",
      "tensor(394649., grad_fn=<AddBackward0>)\n",
      "tensor(375729.1875, grad_fn=<AddBackward0>)\n",
      "tensor(344550., grad_fn=<AddBackward0>)\n"
     ]
    },
    {
     "name": "stderr",
     "output_type": "stream",
     "text": [
      "\r",
      "  5%|▍         | 47/1000 [01:56<38:21,  2.41s/it]"
     ]
    },
    {
     "name": "stdout",
     "output_type": "stream",
     "text": [
      "tensor(361011.3125, grad_fn=<AddBackward0>)\n",
      "tensor(376369.7812, grad_fn=<AddBackward0>)\n",
      "tensor(392125.3750, grad_fn=<AddBackward0>)\n",
      "tensor(358978.8125, grad_fn=<AddBackward0>)\n",
      "tensor(391290., grad_fn=<AddBackward0>)\n",
      "tensor(392509.2188, grad_fn=<AddBackward0>)\n",
      "tensor(366473.9375, grad_fn=<AddBackward0>)\n",
      "tensor(394649., grad_fn=<AddBackward0>)\n",
      "tensor(375729.1875, grad_fn=<AddBackward0>)\n",
      "tensor(344550., grad_fn=<AddBackward0>)\n"
     ]
    },
    {
     "name": "stderr",
     "output_type": "stream",
     "text": [
      "\r",
      "  5%|▍         | 48/1000 [01:58<38:36,  2.43s/it]"
     ]
    },
    {
     "name": "stdout",
     "output_type": "stream",
     "text": [
      "tensor(361011.3125, grad_fn=<AddBackward0>)\n",
      "tensor(376369.7812, grad_fn=<AddBackward0>)\n",
      "tensor(392125.3750, grad_fn=<AddBackward0>)\n",
      "tensor(358978.8125, grad_fn=<AddBackward0>)\n",
      "tensor(391290., grad_fn=<AddBackward0>)\n",
      "tensor(392509.2188, grad_fn=<AddBackward0>)\n",
      "tensor(366473.9375, grad_fn=<AddBackward0>)\n",
      "tensor(394649., grad_fn=<AddBackward0>)\n",
      "tensor(375729.1875, grad_fn=<AddBackward0>)\n",
      "tensor(344550., grad_fn=<AddBackward0>)\n"
     ]
    },
    {
     "name": "stderr",
     "output_type": "stream",
     "text": [
      "\r",
      "  5%|▍         | 49/1000 [02:01<39:16,  2.48s/it]"
     ]
    },
    {
     "name": "stdout",
     "output_type": "stream",
     "text": [
      "tensor(361011.3125, grad_fn=<AddBackward0>)\n",
      "tensor(376369.7812, grad_fn=<AddBackward0>)\n",
      "tensor(392125.3750, grad_fn=<AddBackward0>)\n",
      "tensor(358978.8125, grad_fn=<AddBackward0>)\n",
      "tensor(391290., grad_fn=<AddBackward0>)\n",
      "tensor(392509.2188, grad_fn=<AddBackward0>)\n",
      "tensor(366473.9375, grad_fn=<AddBackward0>)\n",
      "tensor(394649., grad_fn=<AddBackward0>)\n",
      "tensor(375729.1875, grad_fn=<AddBackward0>)\n",
      "tensor(344550., grad_fn=<AddBackward0>)\n"
     ]
    },
    {
     "name": "stderr",
     "output_type": "stream",
     "text": [
      "\r",
      "  5%|▌         | 50/1000 [02:03<37:35,  2.37s/it]"
     ]
    },
    {
     "name": "stdout",
     "output_type": "stream",
     "text": [
      "tensor(361011.3125, grad_fn=<AddBackward0>)\n",
      "tensor(376369.7812, grad_fn=<AddBackward0>)\n",
      "tensor(392125.3750, grad_fn=<AddBackward0>)\n",
      "tensor(358978.8125, grad_fn=<AddBackward0>)\n",
      "tensor(391290., grad_fn=<AddBackward0>)\n",
      "tensor(392509.2188, grad_fn=<AddBackward0>)\n",
      "tensor(366473.9375, grad_fn=<AddBackward0>)\n",
      "tensor(394649., grad_fn=<AddBackward0>)\n",
      "tensor(375729.1875, grad_fn=<AddBackward0>)\n",
      "tensor(344550., grad_fn=<AddBackward0>)\n"
     ]
    },
    {
     "name": "stderr",
     "output_type": "stream",
     "text": [
      "\r",
      "  5%|▌         | 51/1000 [02:05<38:13,  2.42s/it]"
     ]
    },
    {
     "name": "stdout",
     "output_type": "stream",
     "text": [
      "tensor(361011.3125, grad_fn=<AddBackward0>)\n",
      "tensor(376369.7812, grad_fn=<AddBackward0>)\n",
      "tensor(392125.3750, grad_fn=<AddBackward0>)\n",
      "tensor(358978.8125, grad_fn=<AddBackward0>)\n",
      "tensor(391290., grad_fn=<AddBackward0>)\n",
      "tensor(392509.2188, grad_fn=<AddBackward0>)\n",
      "tensor(366473.9375, grad_fn=<AddBackward0>)\n",
      "tensor(394649., grad_fn=<AddBackward0>)\n",
      "tensor(375729.1875, grad_fn=<AddBackward0>)\n",
      "tensor(344550., grad_fn=<AddBackward0>)\n"
     ]
    },
    {
     "name": "stderr",
     "output_type": "stream",
     "text": [
      "\r",
      "  5%|▌         | 52/1000 [02:08<38:39,  2.45s/it]"
     ]
    },
    {
     "name": "stdout",
     "output_type": "stream",
     "text": [
      "tensor(361011.3125, grad_fn=<AddBackward0>)\n",
      "tensor(376369.7812, grad_fn=<AddBackward0>)\n",
      "tensor(392125.3750, grad_fn=<AddBackward0>)\n",
      "tensor(358978.8125, grad_fn=<AddBackward0>)\n",
      "tensor(391290., grad_fn=<AddBackward0>)\n",
      "tensor(392509.2188, grad_fn=<AddBackward0>)\n",
      "tensor(366473.9375, grad_fn=<AddBackward0>)\n",
      "tensor(394649., grad_fn=<AddBackward0>)\n",
      "tensor(375729.1875, grad_fn=<AddBackward0>)\n",
      "tensor(344550., grad_fn=<AddBackward0>)\n"
     ]
    },
    {
     "name": "stderr",
     "output_type": "stream",
     "text": [
      "\r",
      "  5%|▌         | 53/1000 [02:10<39:16,  2.49s/it]"
     ]
    },
    {
     "name": "stdout",
     "output_type": "stream",
     "text": [
      "tensor(361011.3125, grad_fn=<AddBackward0>)\n",
      "tensor(376369.7812, grad_fn=<AddBackward0>)\n",
      "tensor(392125.3750, grad_fn=<AddBackward0>)\n",
      "tensor(358978.8125, grad_fn=<AddBackward0>)\n",
      "tensor(391290., grad_fn=<AddBackward0>)\n",
      "tensor(392509.2188, grad_fn=<AddBackward0>)\n",
      "tensor(366473.9375, grad_fn=<AddBackward0>)\n",
      "tensor(394649., grad_fn=<AddBackward0>)\n",
      "tensor(375729.1875, grad_fn=<AddBackward0>)\n",
      "tensor(344550., grad_fn=<AddBackward0>)\n"
     ]
    },
    {
     "name": "stderr",
     "output_type": "stream",
     "text": [
      "\r",
      "  5%|▌         | 54/1000 [02:13<39:07,  2.48s/it]"
     ]
    },
    {
     "name": "stdout",
     "output_type": "stream",
     "text": [
      "tensor(361011.3125, grad_fn=<AddBackward0>)\n",
      "tensor(376369.7812, grad_fn=<AddBackward0>)\n",
      "tensor(392125.3750, grad_fn=<AddBackward0>)\n",
      "tensor(358978.8125, grad_fn=<AddBackward0>)\n",
      "tensor(391290., grad_fn=<AddBackward0>)\n",
      "tensor(392509.2188, grad_fn=<AddBackward0>)\n",
      "tensor(366473.9375, grad_fn=<AddBackward0>)\n",
      "tensor(394649., grad_fn=<AddBackward0>)\n",
      "tensor(375729.1875, grad_fn=<AddBackward0>)\n",
      "tensor(344550., grad_fn=<AddBackward0>)\n"
     ]
    },
    {
     "name": "stderr",
     "output_type": "stream",
     "text": [
      "\r",
      "  6%|▌         | 55/1000 [02:15<38:36,  2.45s/it]"
     ]
    },
    {
     "name": "stdout",
     "output_type": "stream",
     "text": [
      "tensor(361011.3125, grad_fn=<AddBackward0>)\n",
      "tensor(376369.7812, grad_fn=<AddBackward0>)\n",
      "tensor(392125.3750, grad_fn=<AddBackward0>)\n",
      "tensor(358978.8125, grad_fn=<AddBackward0>)\n",
      "tensor(391290., grad_fn=<AddBackward0>)\n",
      "tensor(392509.2188, grad_fn=<AddBackward0>)\n",
      "tensor(366473.9375, grad_fn=<AddBackward0>)\n",
      "tensor(394649., grad_fn=<AddBackward0>)\n",
      "tensor(375729.1875, grad_fn=<AddBackward0>)\n",
      "tensor(344550., grad_fn=<AddBackward0>)\n"
     ]
    },
    {
     "name": "stderr",
     "output_type": "stream",
     "text": [
      "\r",
      "  6%|▌         | 56/1000 [02:18<38:47,  2.47s/it]"
     ]
    },
    {
     "name": "stdout",
     "output_type": "stream",
     "text": [
      "tensor(361011.3125, grad_fn=<AddBackward0>)\n",
      "tensor(376369.7812, grad_fn=<AddBackward0>)\n",
      "tensor(392125.3750, grad_fn=<AddBackward0>)\n",
      "tensor(358978.8125, grad_fn=<AddBackward0>)\n",
      "tensor(391290., grad_fn=<AddBackward0>)\n",
      "tensor(392509.2188, grad_fn=<AddBackward0>)\n",
      "tensor(366473.9375, grad_fn=<AddBackward0>)\n",
      "tensor(394649., grad_fn=<AddBackward0>)\n",
      "tensor(375729.1875, grad_fn=<AddBackward0>)\n",
      "tensor(344550., grad_fn=<AddBackward0>)\n"
     ]
    },
    {
     "name": "stderr",
     "output_type": "stream",
     "text": [
      "\r",
      "  6%|▌         | 57/1000 [02:20<38:54,  2.48s/it]"
     ]
    },
    {
     "name": "stdout",
     "output_type": "stream",
     "text": [
      "tensor(361011.3125, grad_fn=<AddBackward0>)\n",
      "tensor(376369.7812, grad_fn=<AddBackward0>)\n",
      "tensor(392125.3750, grad_fn=<AddBackward0>)\n",
      "tensor(358978.8125, grad_fn=<AddBackward0>)\n",
      "tensor(391290., grad_fn=<AddBackward0>)\n",
      "tensor(392509.2188, grad_fn=<AddBackward0>)\n",
      "tensor(366473.9375, grad_fn=<AddBackward0>)\n",
      "tensor(394649., grad_fn=<AddBackward0>)\n",
      "tensor(375729.1875, grad_fn=<AddBackward0>)\n",
      "tensor(344550., grad_fn=<AddBackward0>)\n"
     ]
    },
    {
     "name": "stderr",
     "output_type": "stream",
     "text": [
      "\r",
      "  6%|▌         | 58/1000 [02:23<39:12,  2.50s/it]"
     ]
    },
    {
     "name": "stdout",
     "output_type": "stream",
     "text": [
      "tensor(361011.3125, grad_fn=<AddBackward0>)\n",
      "tensor(376369.7812, grad_fn=<AddBackward0>)\n",
      "tensor(392125.3750, grad_fn=<AddBackward0>)\n",
      "tensor(358978.8125, grad_fn=<AddBackward0>)\n",
      "tensor(391290., grad_fn=<AddBackward0>)\n",
      "tensor(392509.2188, grad_fn=<AddBackward0>)\n",
      "tensor(366473.9375, grad_fn=<AddBackward0>)\n",
      "tensor(394649., grad_fn=<AddBackward0>)\n",
      "tensor(375729.1875, grad_fn=<AddBackward0>)\n",
      "tensor(344550., grad_fn=<AddBackward0>)\n"
     ]
    },
    {
     "name": "stderr",
     "output_type": "stream",
     "text": [
      "\r",
      "  6%|▌         | 59/1000 [02:25<38:46,  2.47s/it]"
     ]
    },
    {
     "name": "stdout",
     "output_type": "stream",
     "text": [
      "tensor(361011.3125, grad_fn=<AddBackward0>)\n",
      "tensor(376369.7812, grad_fn=<AddBackward0>)\n",
      "tensor(392125.3750, grad_fn=<AddBackward0>)\n",
      "tensor(358978.8125, grad_fn=<AddBackward0>)\n",
      "tensor(391290., grad_fn=<AddBackward0>)\n",
      "tensor(392509.2188, grad_fn=<AddBackward0>)\n",
      "tensor(366473.9375, grad_fn=<AddBackward0>)\n",
      "tensor(394649., grad_fn=<AddBackward0>)\n",
      "tensor(375729.1875, grad_fn=<AddBackward0>)\n",
      "tensor(344550., grad_fn=<AddBackward0>)\n"
     ]
    },
    {
     "name": "stderr",
     "output_type": "stream",
     "text": [
      "\r",
      "  6%|▌         | 60/1000 [02:27<38:05,  2.43s/it]"
     ]
    },
    {
     "name": "stdout",
     "output_type": "stream",
     "text": [
      "tensor(361011.3125, grad_fn=<AddBackward0>)\n",
      "tensor(376369.7812, grad_fn=<AddBackward0>)\n",
      "tensor(392125.3750, grad_fn=<AddBackward0>)\n",
      "tensor(358978.8125, grad_fn=<AddBackward0>)\n",
      "tensor(391290., grad_fn=<AddBackward0>)\n",
      "tensor(392509.2188, grad_fn=<AddBackward0>)\n",
      "tensor(366473.9375, grad_fn=<AddBackward0>)\n",
      "tensor(394649., grad_fn=<AddBackward0>)\n",
      "tensor(375729.1875, grad_fn=<AddBackward0>)\n",
      "tensor(344550., grad_fn=<AddBackward0>)\n"
     ]
    },
    {
     "name": "stderr",
     "output_type": "stream",
     "text": [
      "\r",
      "  6%|▌         | 61/1000 [02:30<37:58,  2.43s/it]"
     ]
    },
    {
     "name": "stdout",
     "output_type": "stream",
     "text": [
      "tensor(361011.3125, grad_fn=<AddBackward0>)\n",
      "tensor(376369.7812, grad_fn=<AddBackward0>)\n",
      "tensor(392125.3750, grad_fn=<AddBackward0>)\n",
      "tensor(358978.8125, grad_fn=<AddBackward0>)\n",
      "tensor(391290., grad_fn=<AddBackward0>)\n",
      "tensor(392509.2188, grad_fn=<AddBackward0>)\n",
      "tensor(366473.9375, grad_fn=<AddBackward0>)\n",
      "tensor(394649., grad_fn=<AddBackward0>)\n",
      "tensor(375729.1875, grad_fn=<AddBackward0>)\n",
      "tensor(344550., grad_fn=<AddBackward0>)\n"
     ]
    },
    {
     "name": "stderr",
     "output_type": "stream",
     "text": [
      "\r",
      "  6%|▌         | 62/1000 [02:32<38:08,  2.44s/it]"
     ]
    },
    {
     "name": "stdout",
     "output_type": "stream",
     "text": [
      "tensor(361011.3125, grad_fn=<AddBackward0>)\n",
      "tensor(376369.7812, grad_fn=<AddBackward0>)\n",
      "tensor(392125.3750, grad_fn=<AddBackward0>)\n",
      "tensor(358978.8125, grad_fn=<AddBackward0>)\n",
      "tensor(391290., grad_fn=<AddBackward0>)\n",
      "tensor(392509.2188, grad_fn=<AddBackward0>)\n",
      "tensor(366473.9375, grad_fn=<AddBackward0>)\n",
      "tensor(394649., grad_fn=<AddBackward0>)\n",
      "tensor(375729.1875, grad_fn=<AddBackward0>)\n",
      "tensor(344550., grad_fn=<AddBackward0>)\n"
     ]
    },
    {
     "name": "stderr",
     "output_type": "stream",
     "text": [
      "\r",
      "  6%|▋         | 63/1000 [02:35<38:03,  2.44s/it]"
     ]
    },
    {
     "name": "stdout",
     "output_type": "stream",
     "text": [
      "tensor(361011.3125, grad_fn=<AddBackward0>)\n",
      "tensor(376369.7812, grad_fn=<AddBackward0>)\n",
      "tensor(392125.3750, grad_fn=<AddBackward0>)\n",
      "tensor(358978.8125, grad_fn=<AddBackward0>)\n",
      "tensor(391290., grad_fn=<AddBackward0>)\n",
      "tensor(392509.2188, grad_fn=<AddBackward0>)\n",
      "tensor(366473.9375, grad_fn=<AddBackward0>)\n",
      "tensor(394649., grad_fn=<AddBackward0>)\n",
      "tensor(375729.1875, grad_fn=<AddBackward0>)\n",
      "tensor(344550., grad_fn=<AddBackward0>)\n"
     ]
    },
    {
     "name": "stderr",
     "output_type": "stream",
     "text": [
      "\r",
      "  6%|▋         | 64/1000 [02:37<38:16,  2.45s/it]"
     ]
    },
    {
     "name": "stdout",
     "output_type": "stream",
     "text": [
      "tensor(361011.3125, grad_fn=<AddBackward0>)\n",
      "tensor(376369.7812, grad_fn=<AddBackward0>)\n",
      "tensor(392125.3750, grad_fn=<AddBackward0>)\n",
      "tensor(358978.8125, grad_fn=<AddBackward0>)\n",
      "tensor(391290., grad_fn=<AddBackward0>)\n",
      "tensor(392509.2188, grad_fn=<AddBackward0>)\n",
      "tensor(366473.9375, grad_fn=<AddBackward0>)\n",
      "tensor(394649., grad_fn=<AddBackward0>)\n",
      "tensor(375729.1875, grad_fn=<AddBackward0>)\n",
      "tensor(344550., grad_fn=<AddBackward0>)\n"
     ]
    },
    {
     "name": "stderr",
     "output_type": "stream",
     "text": [
      "\r",
      "  6%|▋         | 65/1000 [02:40<38:28,  2.47s/it]"
     ]
    },
    {
     "name": "stdout",
     "output_type": "stream",
     "text": [
      "tensor(361011.3125, grad_fn=<AddBackward0>)\n",
      "tensor(376369.7812, grad_fn=<AddBackward0>)\n",
      "tensor(392125.3750, grad_fn=<AddBackward0>)\n",
      "tensor(358978.8125, grad_fn=<AddBackward0>)\n",
      "tensor(391290., grad_fn=<AddBackward0>)\n",
      "tensor(392509.2188, grad_fn=<AddBackward0>)\n",
      "tensor(366473.9375, grad_fn=<AddBackward0>)\n",
      "tensor(394649., grad_fn=<AddBackward0>)\n",
      "tensor(375729.1875, grad_fn=<AddBackward0>)\n",
      "tensor(344550., grad_fn=<AddBackward0>)\n"
     ]
    },
    {
     "name": "stderr",
     "output_type": "stream",
     "text": [
      "\r",
      "  7%|▋         | 66/1000 [02:42<38:23,  2.47s/it]"
     ]
    },
    {
     "name": "stdout",
     "output_type": "stream",
     "text": [
      "tensor(361011.3125, grad_fn=<AddBackward0>)\n",
      "tensor(376369.7812, grad_fn=<AddBackward0>)\n",
      "tensor(392125.3750, grad_fn=<AddBackward0>)\n",
      "tensor(358978.8125, grad_fn=<AddBackward0>)\n",
      "tensor(391290., grad_fn=<AddBackward0>)\n",
      "tensor(392509.2188, grad_fn=<AddBackward0>)\n",
      "tensor(366473.9375, grad_fn=<AddBackward0>)\n",
      "tensor(394649., grad_fn=<AddBackward0>)\n",
      "tensor(375729.1875, grad_fn=<AddBackward0>)\n",
      "tensor(344550., grad_fn=<AddBackward0>)\n"
     ]
    },
    {
     "name": "stderr",
     "output_type": "stream",
     "text": [
      "\r",
      "  7%|▋         | 67/1000 [02:45<38:33,  2.48s/it]"
     ]
    },
    {
     "name": "stdout",
     "output_type": "stream",
     "text": [
      "tensor(361011.3125, grad_fn=<AddBackward0>)\n",
      "tensor(376369.7812, grad_fn=<AddBackward0>)\n",
      "tensor(392125.3750, grad_fn=<AddBackward0>)\n",
      "tensor(358978.8125, grad_fn=<AddBackward0>)\n",
      "tensor(391290., grad_fn=<AddBackward0>)\n",
      "tensor(392509.2188, grad_fn=<AddBackward0>)\n",
      "tensor(366473.9375, grad_fn=<AddBackward0>)\n",
      "tensor(394649., grad_fn=<AddBackward0>)\n",
      "tensor(375729.1875, grad_fn=<AddBackward0>)\n",
      "tensor(344550., grad_fn=<AddBackward0>)\n"
     ]
    },
    {
     "name": "stderr",
     "output_type": "stream",
     "text": [
      "\r",
      "  7%|▋         | 68/1000 [02:47<38:31,  2.48s/it]"
     ]
    },
    {
     "name": "stdout",
     "output_type": "stream",
     "text": [
      "tensor(361011.3125, grad_fn=<AddBackward0>)\n",
      "tensor(376369.7812, grad_fn=<AddBackward0>)\n",
      "tensor(392125.3750, grad_fn=<AddBackward0>)\n",
      "tensor(358978.8125, grad_fn=<AddBackward0>)\n",
      "tensor(391290., grad_fn=<AddBackward0>)\n",
      "tensor(392509.2188, grad_fn=<AddBackward0>)\n",
      "tensor(366473.9375, grad_fn=<AddBackward0>)\n",
      "tensor(394649., grad_fn=<AddBackward0>)\n",
      "tensor(375729.1875, grad_fn=<AddBackward0>)\n",
      "tensor(344550., grad_fn=<AddBackward0>)\n"
     ]
    },
    {
     "name": "stderr",
     "output_type": "stream",
     "text": [
      "\r",
      "  7%|▋         | 69/1000 [02:50<38:33,  2.49s/it]"
     ]
    },
    {
     "name": "stdout",
     "output_type": "stream",
     "text": [
      "tensor(361011.3125, grad_fn=<AddBackward0>)\n",
      "tensor(376369.7812, grad_fn=<AddBackward0>)\n",
      "tensor(392125.3750, grad_fn=<AddBackward0>)\n",
      "tensor(358978.8125, grad_fn=<AddBackward0>)\n",
      "tensor(391290., grad_fn=<AddBackward0>)\n",
      "tensor(392509.2188, grad_fn=<AddBackward0>)\n",
      "tensor(366473.9375, grad_fn=<AddBackward0>)\n",
      "tensor(394649., grad_fn=<AddBackward0>)\n",
      "tensor(375729.1875, grad_fn=<AddBackward0>)\n",
      "tensor(344550., grad_fn=<AddBackward0>)\n"
     ]
    },
    {
     "name": "stderr",
     "output_type": "stream",
     "text": [
      "\r",
      "  7%|▋         | 70/1000 [02:52<38:57,  2.51s/it]"
     ]
    },
    {
     "name": "stdout",
     "output_type": "stream",
     "text": [
      "tensor(361011.3125, grad_fn=<AddBackward0>)\n",
      "tensor(376369.7812, grad_fn=<AddBackward0>)\n",
      "tensor(392125.3750, grad_fn=<AddBackward0>)\n",
      "tensor(358978.8125, grad_fn=<AddBackward0>)\n",
      "tensor(391290., grad_fn=<AddBackward0>)\n",
      "tensor(392509.2188, grad_fn=<AddBackward0>)\n",
      "tensor(366473.9375, grad_fn=<AddBackward0>)\n",
      "tensor(394649., grad_fn=<AddBackward0>)\n",
      "tensor(375729.1875, grad_fn=<AddBackward0>)\n",
      "tensor(344550., grad_fn=<AddBackward0>)\n"
     ]
    },
    {
     "name": "stderr",
     "output_type": "stream",
     "text": [
      "\r",
      "  7%|▋         | 71/1000 [02:55<39:24,  2.54s/it]"
     ]
    },
    {
     "name": "stdout",
     "output_type": "stream",
     "text": [
      "tensor(361011.3125, grad_fn=<AddBackward0>)\n",
      "tensor(376369.7812, grad_fn=<AddBackward0>)\n",
      "tensor(392125.3750, grad_fn=<AddBackward0>)\n",
      "tensor(358978.8125, grad_fn=<AddBackward0>)\n",
      "tensor(391290., grad_fn=<AddBackward0>)\n",
      "tensor(392509.2188, grad_fn=<AddBackward0>)\n",
      "tensor(366473.9375, grad_fn=<AddBackward0>)\n",
      "tensor(394649., grad_fn=<AddBackward0>)\n",
      "tensor(375729.1875, grad_fn=<AddBackward0>)\n",
      "tensor(344550., grad_fn=<AddBackward0>)\n"
     ]
    },
    {
     "name": "stderr",
     "output_type": "stream",
     "text": [
      "\r",
      "  7%|▋         | 72/1000 [02:57<38:55,  2.52s/it]"
     ]
    },
    {
     "name": "stdout",
     "output_type": "stream",
     "text": [
      "tensor(361011.3125, grad_fn=<AddBackward0>)\n",
      "tensor(376369.7812, grad_fn=<AddBackward0>)\n",
      "tensor(392125.3750, grad_fn=<AddBackward0>)\n",
      "tensor(358978.8125, grad_fn=<AddBackward0>)\n",
      "tensor(391290., grad_fn=<AddBackward0>)\n",
      "tensor(392509.2188, grad_fn=<AddBackward0>)\n",
      "tensor(366473.9375, grad_fn=<AddBackward0>)\n",
      "tensor(394649., grad_fn=<AddBackward0>)\n",
      "tensor(375729.1875, grad_fn=<AddBackward0>)\n",
      "tensor(344550., grad_fn=<AddBackward0>)\n"
     ]
    },
    {
     "name": "stderr",
     "output_type": "stream",
     "text": [
      "\r",
      "  7%|▋         | 73/1000 [03:00<38:27,  2.49s/it]"
     ]
    },
    {
     "name": "stdout",
     "output_type": "stream",
     "text": [
      "tensor(361011.3125, grad_fn=<AddBackward0>)\n",
      "tensor(376369.7812, grad_fn=<AddBackward0>)\n",
      "tensor(392125.3750, grad_fn=<AddBackward0>)\n",
      "tensor(358978.8125, grad_fn=<AddBackward0>)\n",
      "tensor(391290., grad_fn=<AddBackward0>)\n",
      "tensor(392509.2188, grad_fn=<AddBackward0>)\n",
      "tensor(366473.9375, grad_fn=<AddBackward0>)\n",
      "tensor(394649., grad_fn=<AddBackward0>)\n",
      "tensor(375729.1875, grad_fn=<AddBackward0>)\n",
      "tensor(344550., grad_fn=<AddBackward0>)\n"
     ]
    },
    {
     "name": "stderr",
     "output_type": "stream",
     "text": [
      "\r",
      "  7%|▋         | 74/1000 [03:02<38:02,  2.47s/it]"
     ]
    },
    {
     "name": "stdout",
     "output_type": "stream",
     "text": [
      "tensor(361011.3125, grad_fn=<AddBackward0>)\n",
      "tensor(376369.7812, grad_fn=<AddBackward0>)\n",
      "tensor(392125.3750, grad_fn=<AddBackward0>)\n",
      "tensor(358978.8125, grad_fn=<AddBackward0>)\n",
      "tensor(391290., grad_fn=<AddBackward0>)\n",
      "tensor(392509.2188, grad_fn=<AddBackward0>)\n",
      "tensor(366473.9375, grad_fn=<AddBackward0>)\n",
      "tensor(394649., grad_fn=<AddBackward0>)\n",
      "tensor(375729.1875, grad_fn=<AddBackward0>)\n",
      "tensor(344550., grad_fn=<AddBackward0>)\n"
     ]
    },
    {
     "name": "stderr",
     "output_type": "stream",
     "text": [
      "\r",
      "  8%|▊         | 75/1000 [03:05<38:10,  2.48s/it]"
     ]
    },
    {
     "name": "stdout",
     "output_type": "stream",
     "text": [
      "tensor(361011.3125, grad_fn=<AddBackward0>)\n",
      "tensor(376369.7812, grad_fn=<AddBackward0>)\n",
      "tensor(392125.3750, grad_fn=<AddBackward0>)\n",
      "tensor(358978.8125, grad_fn=<AddBackward0>)\n",
      "tensor(391290., grad_fn=<AddBackward0>)\n",
      "tensor(392509.2188, grad_fn=<AddBackward0>)\n",
      "tensor(366473.9375, grad_fn=<AddBackward0>)\n",
      "tensor(394649., grad_fn=<AddBackward0>)\n",
      "tensor(375729.1875, grad_fn=<AddBackward0>)\n"
     ]
    },
    {
     "name": "stderr",
     "output_type": "stream",
     "text": [
      "\r",
      "  8%|▊         | 76/1000 [03:07<37:12,  2.42s/it]"
     ]
    },
    {
     "name": "stdout",
     "output_type": "stream",
     "text": [
      "tensor(344550., grad_fn=<AddBackward0>)\n",
      "tensor(361011.3125, grad_fn=<AddBackward0>)\n",
      "tensor(376369.7812, grad_fn=<AddBackward0>)\n",
      "tensor(392125.3750, grad_fn=<AddBackward0>)\n",
      "tensor(358978.8125, grad_fn=<AddBackward0>)\n",
      "tensor(391290., grad_fn=<AddBackward0>)\n",
      "tensor(392509.2188, grad_fn=<AddBackward0>)\n",
      "tensor(366473.9375, grad_fn=<AddBackward0>)\n",
      "tensor(394649., grad_fn=<AddBackward0>)\n",
      "tensor(375729.1875, grad_fn=<AddBackward0>)\n",
      "tensor(344550., grad_fn=<AddBackward0>)\n"
     ]
    },
    {
     "name": "stderr",
     "output_type": "stream",
     "text": [
      "\r",
      "  8%|▊         | 77/1000 [03:09<36:50,  2.39s/it]"
     ]
    },
    {
     "name": "stdout",
     "output_type": "stream",
     "text": [
      "tensor(361011.3125, grad_fn=<AddBackward0>)\n",
      "tensor(376369.7812, grad_fn=<AddBackward0>)\n",
      "tensor(392125.3750, grad_fn=<AddBackward0>)\n",
      "tensor(358978.8125, grad_fn=<AddBackward0>)\n",
      "tensor(391290., grad_fn=<AddBackward0>)\n",
      "tensor(392509.2188, grad_fn=<AddBackward0>)\n",
      "tensor(366473.9375, grad_fn=<AddBackward0>)\n",
      "tensor(394649., grad_fn=<AddBackward0>)\n",
      "tensor(375729.1875, grad_fn=<AddBackward0>)\n",
      "tensor(344550., grad_fn=<AddBackward0>)\n"
     ]
    },
    {
     "name": "stderr",
     "output_type": "stream",
     "text": [
      "\r",
      "  8%|▊         | 78/1000 [03:12<37:12,  2.42s/it]"
     ]
    },
    {
     "name": "stdout",
     "output_type": "stream",
     "text": [
      "tensor(361011.3125, grad_fn=<AddBackward0>)\n",
      "tensor(376369.7812, grad_fn=<AddBackward0>)\n",
      "tensor(392125.3750, grad_fn=<AddBackward0>)\n",
      "tensor(358978.8125, grad_fn=<AddBackward0>)\n",
      "tensor(391290., grad_fn=<AddBackward0>)\n",
      "tensor(392509.2188, grad_fn=<AddBackward0>)\n",
      "tensor(366473.9375, grad_fn=<AddBackward0>)\n",
      "tensor(394649., grad_fn=<AddBackward0>)\n",
      "tensor(375729.1875, grad_fn=<AddBackward0>)\n",
      "tensor(344550., grad_fn=<AddBackward0>)\n"
     ]
    },
    {
     "name": "stderr",
     "output_type": "stream",
     "text": [
      "\r",
      "  8%|▊         | 79/1000 [03:14<37:22,  2.43s/it]"
     ]
    },
    {
     "name": "stdout",
     "output_type": "stream",
     "text": [
      "tensor(361011.3125, grad_fn=<AddBackward0>)\n",
      "tensor(376369.7812, grad_fn=<AddBackward0>)\n",
      "tensor(392125.3750, grad_fn=<AddBackward0>)\n",
      "tensor(358978.8125, grad_fn=<AddBackward0>)\n",
      "tensor(391290., grad_fn=<AddBackward0>)\n",
      "tensor(392509.2188, grad_fn=<AddBackward0>)\n",
      "tensor(366473.9375, grad_fn=<AddBackward0>)\n",
      "tensor(394649., grad_fn=<AddBackward0>)\n",
      "tensor(375729.1875, grad_fn=<AddBackward0>)\n",
      "tensor(344550., grad_fn=<AddBackward0>)\n"
     ]
    },
    {
     "name": "stderr",
     "output_type": "stream",
     "text": [
      "\r",
      "  8%|▊         | 80/1000 [03:17<37:56,  2.47s/it]"
     ]
    },
    {
     "name": "stdout",
     "output_type": "stream",
     "text": [
      "tensor(361011.3125, grad_fn=<AddBackward0>)\n",
      "tensor(376369.7812, grad_fn=<AddBackward0>)\n",
      "tensor(392125.3750, grad_fn=<AddBackward0>)\n",
      "tensor(358978.8125, grad_fn=<AddBackward0>)\n",
      "tensor(391290., grad_fn=<AddBackward0>)\n",
      "tensor(392509.2188, grad_fn=<AddBackward0>)\n",
      "tensor(366473.9375, grad_fn=<AddBackward0>)\n",
      "tensor(394649., grad_fn=<AddBackward0>)\n",
      "tensor(375729.1875, grad_fn=<AddBackward0>)\n",
      "tensor(344550., grad_fn=<AddBackward0>)\n"
     ]
    },
    {
     "name": "stderr",
     "output_type": "stream",
     "text": [
      "\r",
      "  8%|▊         | 81/1000 [03:19<37:35,  2.45s/it]"
     ]
    },
    {
     "name": "stdout",
     "output_type": "stream",
     "text": [
      "tensor(361011.3125, grad_fn=<AddBackward0>)\n",
      "tensor(376369.7812, grad_fn=<AddBackward0>)\n",
      "tensor(392125.3750, grad_fn=<AddBackward0>)\n",
      "tensor(358978.8125, grad_fn=<AddBackward0>)\n",
      "tensor(391290., grad_fn=<AddBackward0>)\n",
      "tensor(392509.2188, grad_fn=<AddBackward0>)\n",
      "tensor(366473.9375, grad_fn=<AddBackward0>)\n",
      "tensor(394649., grad_fn=<AddBackward0>)\n",
      "tensor(375729.1875, grad_fn=<AddBackward0>)\n",
      "tensor(344550., grad_fn=<AddBackward0>)\n"
     ]
    },
    {
     "name": "stderr",
     "output_type": "stream",
     "text": [
      "\r",
      "  8%|▊         | 82/1000 [03:22<37:17,  2.44s/it]"
     ]
    },
    {
     "name": "stdout",
     "output_type": "stream",
     "text": [
      "tensor(361011.3125, grad_fn=<AddBackward0>)\n",
      "tensor(376369.7812, grad_fn=<AddBackward0>)\n",
      "tensor(392125.3750, grad_fn=<AddBackward0>)\n",
      "tensor(358978.8125, grad_fn=<AddBackward0>)\n",
      "tensor(391290., grad_fn=<AddBackward0>)\n",
      "tensor(392509.2188, grad_fn=<AddBackward0>)\n",
      "tensor(366473.9375, grad_fn=<AddBackward0>)\n",
      "tensor(394649., grad_fn=<AddBackward0>)\n",
      "tensor(375729.1875, grad_fn=<AddBackward0>)\n",
      "tensor(344550., grad_fn=<AddBackward0>)\n"
     ]
    },
    {
     "name": "stderr",
     "output_type": "stream",
     "text": [
      "\r",
      "  8%|▊         | 83/1000 [03:24<37:09,  2.43s/it]"
     ]
    },
    {
     "name": "stdout",
     "output_type": "stream",
     "text": [
      "tensor(361011.3125, grad_fn=<AddBackward0>)\n",
      "tensor(376369.7812, grad_fn=<AddBackward0>)\n",
      "tensor(392125.3750, grad_fn=<AddBackward0>)\n",
      "tensor(358978.8125, grad_fn=<AddBackward0>)\n",
      "tensor(391290., grad_fn=<AddBackward0>)\n",
      "tensor(392509.2188, grad_fn=<AddBackward0>)\n",
      "tensor(366473.9375, grad_fn=<AddBackward0>)\n",
      "tensor(394649., grad_fn=<AddBackward0>)\n",
      "tensor(375729.1875, grad_fn=<AddBackward0>)\n",
      "tensor(344550., grad_fn=<AddBackward0>)\n"
     ]
    },
    {
     "name": "stderr",
     "output_type": "stream",
     "text": [
      "\r",
      "  8%|▊         | 84/1000 [03:27<37:17,  2.44s/it]"
     ]
    },
    {
     "name": "stdout",
     "output_type": "stream",
     "text": [
      "tensor(361011.3125, grad_fn=<AddBackward0>)\n",
      "tensor(376369.7812, grad_fn=<AddBackward0>)\n",
      "tensor(392125.3750, grad_fn=<AddBackward0>)\n",
      "tensor(358978.8125, grad_fn=<AddBackward0>)\n",
      "tensor(391290., grad_fn=<AddBackward0>)\n",
      "tensor(392509.2188, grad_fn=<AddBackward0>)\n",
      "tensor(366473.9375, grad_fn=<AddBackward0>)\n",
      "tensor(394649., grad_fn=<AddBackward0>)\n",
      "tensor(375729.1875, grad_fn=<AddBackward0>)\n",
      "tensor(344550., grad_fn=<AddBackward0>)\n"
     ]
    },
    {
     "name": "stderr",
     "output_type": "stream",
     "text": [
      "\r",
      "  8%|▊         | 85/1000 [03:29<37:14,  2.44s/it]"
     ]
    },
    {
     "name": "stdout",
     "output_type": "stream",
     "text": [
      "tensor(361011.3125, grad_fn=<AddBackward0>)\n",
      "tensor(376369.7812, grad_fn=<AddBackward0>)\n",
      "tensor(392125.3750, grad_fn=<AddBackward0>)\n",
      "tensor(358978.8125, grad_fn=<AddBackward0>)\n",
      "tensor(391290., grad_fn=<AddBackward0>)\n",
      "tensor(392509.2188, grad_fn=<AddBackward0>)\n",
      "tensor(366473.9375, grad_fn=<AddBackward0>)\n",
      "tensor(394649., grad_fn=<AddBackward0>)\n",
      "tensor(375729.1875, grad_fn=<AddBackward0>)\n",
      "tensor(344550., grad_fn=<AddBackward0>)\n"
     ]
    },
    {
     "name": "stderr",
     "output_type": "stream",
     "text": [
      "\r",
      "  9%|▊         | 86/1000 [03:32<37:38,  2.47s/it]"
     ]
    },
    {
     "name": "stdout",
     "output_type": "stream",
     "text": [
      "tensor(361011.3125, grad_fn=<AddBackward0>)\n",
      "tensor(376369.7812, grad_fn=<AddBackward0>)\n",
      "tensor(392125.3750, grad_fn=<AddBackward0>)\n",
      "tensor(358978.8125, grad_fn=<AddBackward0>)\n",
      "tensor(391290., grad_fn=<AddBackward0>)\n",
      "tensor(392509.2188, grad_fn=<AddBackward0>)\n",
      "tensor(366473.9375, grad_fn=<AddBackward0>)\n",
      "tensor(394649., grad_fn=<AddBackward0>)\n",
      "tensor(375729.1875, grad_fn=<AddBackward0>)\n",
      "tensor(344550., grad_fn=<AddBackward0>)\n"
     ]
    },
    {
     "name": "stderr",
     "output_type": "stream",
     "text": [
      "\r",
      "  9%|▊         | 87/1000 [03:34<38:12,  2.51s/it]"
     ]
    },
    {
     "name": "stdout",
     "output_type": "stream",
     "text": [
      "tensor(361011.3125, grad_fn=<AddBackward0>)\n",
      "tensor(376369.7812, grad_fn=<AddBackward0>)\n",
      "tensor(392125.3750, grad_fn=<AddBackward0>)\n",
      "tensor(358978.8125, grad_fn=<AddBackward0>)\n",
      "tensor(391290., grad_fn=<AddBackward0>)\n",
      "tensor(392509.2188, grad_fn=<AddBackward0>)\n",
      "tensor(366473.9375, grad_fn=<AddBackward0>)\n",
      "tensor(394649., grad_fn=<AddBackward0>)\n",
      "tensor(375729.1875, grad_fn=<AddBackward0>)\n",
      "tensor(344550., grad_fn=<AddBackward0>)\n"
     ]
    },
    {
     "name": "stderr",
     "output_type": "stream",
     "text": [
      "\r",
      "  9%|▉         | 88/1000 [03:37<37:58,  2.50s/it]"
     ]
    },
    {
     "name": "stdout",
     "output_type": "stream",
     "text": [
      "tensor(361011.3125, grad_fn=<AddBackward0>)\n",
      "tensor(376369.7812, grad_fn=<AddBackward0>)\n",
      "tensor(392125.3750, grad_fn=<AddBackward0>)\n",
      "tensor(358978.8125, grad_fn=<AddBackward0>)\n",
      "tensor(391290., grad_fn=<AddBackward0>)\n",
      "tensor(392509.2188, grad_fn=<AddBackward0>)\n",
      "tensor(366473.9375, grad_fn=<AddBackward0>)\n",
      "tensor(394649., grad_fn=<AddBackward0>)\n",
      "tensor(375729.1875, grad_fn=<AddBackward0>)\n",
      "tensor(344550., grad_fn=<AddBackward0>)\n"
     ]
    },
    {
     "name": "stderr",
     "output_type": "stream",
     "text": [
      "\r",
      "  9%|▉         | 89/1000 [03:39<37:46,  2.49s/it]"
     ]
    },
    {
     "name": "stdout",
     "output_type": "stream",
     "text": [
      "tensor(361011.3125, grad_fn=<AddBackward0>)\n",
      "tensor(376369.7812, grad_fn=<AddBackward0>)\n",
      "tensor(392125.3750, grad_fn=<AddBackward0>)\n",
      "tensor(358978.8125, grad_fn=<AddBackward0>)\n",
      "tensor(391290., grad_fn=<AddBackward0>)\n",
      "tensor(392509.2188, grad_fn=<AddBackward0>)\n",
      "tensor(366473.9375, grad_fn=<AddBackward0>)\n",
      "tensor(394649., grad_fn=<AddBackward0>)\n",
      "tensor(375729.1875, grad_fn=<AddBackward0>)\n",
      "tensor(344550., grad_fn=<AddBackward0>)\n"
     ]
    },
    {
     "name": "stderr",
     "output_type": "stream",
     "text": [
      "\r",
      "  9%|▉         | 90/1000 [03:41<36:32,  2.41s/it]"
     ]
    },
    {
     "name": "stdout",
     "output_type": "stream",
     "text": [
      "tensor(361011.3125, grad_fn=<AddBackward0>)\n",
      "tensor(376369.7812, grad_fn=<AddBackward0>)\n",
      "tensor(392125.3750, grad_fn=<AddBackward0>)\n",
      "tensor(358978.8125, grad_fn=<AddBackward0>)\n",
      "tensor(391290., grad_fn=<AddBackward0>)\n",
      "tensor(392509.2188, grad_fn=<AddBackward0>)\n",
      "tensor(366473.9375, grad_fn=<AddBackward0>)\n",
      "tensor(394649., grad_fn=<AddBackward0>)\n",
      "tensor(375729.1875, grad_fn=<AddBackward0>)\n",
      "tensor(344550., grad_fn=<AddBackward0>)\n"
     ]
    },
    {
     "name": "stderr",
     "output_type": "stream",
     "text": [
      "\r",
      "  9%|▉         | 91/1000 [03:44<36:34,  2.41s/it]"
     ]
    },
    {
     "name": "stdout",
     "output_type": "stream",
     "text": [
      "tensor(361011.3125, grad_fn=<AddBackward0>)\n",
      "tensor(376369.7812, grad_fn=<AddBackward0>)\n",
      "tensor(392125.3750, grad_fn=<AddBackward0>)\n",
      "tensor(358978.8125, grad_fn=<AddBackward0>)\n",
      "tensor(391290., grad_fn=<AddBackward0>)\n",
      "tensor(392509.2188, grad_fn=<AddBackward0>)\n",
      "tensor(366473.9375, grad_fn=<AddBackward0>)\n",
      "tensor(394649., grad_fn=<AddBackward0>)\n",
      "tensor(375729.1875, grad_fn=<AddBackward0>)\n",
      "tensor(344550., grad_fn=<AddBackward0>)\n"
     ]
    },
    {
     "name": "stderr",
     "output_type": "stream",
     "text": [
      "\r",
      "  9%|▉         | 92/1000 [03:46<36:28,  2.41s/it]"
     ]
    },
    {
     "name": "stdout",
     "output_type": "stream",
     "text": [
      "tensor(361011.3125, grad_fn=<AddBackward0>)\n",
      "tensor(376369.7812, grad_fn=<AddBackward0>)\n",
      "tensor(392125.3750, grad_fn=<AddBackward0>)\n",
      "tensor(358978.8125, grad_fn=<AddBackward0>)\n",
      "tensor(391290., grad_fn=<AddBackward0>)\n",
      "tensor(392509.2188, grad_fn=<AddBackward0>)\n",
      "tensor(366473.9375, grad_fn=<AddBackward0>)\n",
      "tensor(394649., grad_fn=<AddBackward0>)\n",
      "tensor(375729.1875, grad_fn=<AddBackward0>)\n",
      "tensor(344550., grad_fn=<AddBackward0>)\n"
     ]
    },
    {
     "name": "stderr",
     "output_type": "stream",
     "text": [
      "\r",
      "  9%|▉         | 93/1000 [03:49<36:39,  2.43s/it]"
     ]
    },
    {
     "name": "stdout",
     "output_type": "stream",
     "text": [
      "tensor(361011.3125, grad_fn=<AddBackward0>)\n",
      "tensor(376369.7812, grad_fn=<AddBackward0>)\n",
      "tensor(392125.3750, grad_fn=<AddBackward0>)\n",
      "tensor(358978.8125, grad_fn=<AddBackward0>)\n",
      "tensor(391290., grad_fn=<AddBackward0>)\n",
      "tensor(392509.2188, grad_fn=<AddBackward0>)\n",
      "tensor(366473.9375, grad_fn=<AddBackward0>)\n",
      "tensor(394649., grad_fn=<AddBackward0>)\n",
      "tensor(375729.1875, grad_fn=<AddBackward0>)\n",
      "tensor(344550., grad_fn=<AddBackward0>)\n"
     ]
    },
    {
     "name": "stderr",
     "output_type": "stream",
     "text": [
      "\r",
      "  9%|▉         | 94/1000 [03:51<36:50,  2.44s/it]"
     ]
    },
    {
     "name": "stdout",
     "output_type": "stream",
     "text": [
      "tensor(361011.3125, grad_fn=<AddBackward0>)\n",
      "tensor(376369.7812, grad_fn=<AddBackward0>)\n",
      "tensor(392125.3750, grad_fn=<AddBackward0>)\n",
      "tensor(358978.8125, grad_fn=<AddBackward0>)\n",
      "tensor(391290., grad_fn=<AddBackward0>)\n",
      "tensor(392509.2188, grad_fn=<AddBackward0>)\n",
      "tensor(366473.9375, grad_fn=<AddBackward0>)\n",
      "tensor(394649., grad_fn=<AddBackward0>)\n",
      "tensor(375729.1875, grad_fn=<AddBackward0>)\n",
      "tensor(344550., grad_fn=<AddBackward0>)\n"
     ]
    },
    {
     "name": "stderr",
     "output_type": "stream",
     "text": [
      "\r",
      " 10%|▉         | 95/1000 [03:53<36:50,  2.44s/it]"
     ]
    },
    {
     "name": "stdout",
     "output_type": "stream",
     "text": [
      "tensor(361011.3125, grad_fn=<AddBackward0>)\n",
      "tensor(376369.7812, grad_fn=<AddBackward0>)\n",
      "tensor(392125.3750, grad_fn=<AddBackward0>)\n",
      "tensor(358978.8125, grad_fn=<AddBackward0>)\n",
      "tensor(391290., grad_fn=<AddBackward0>)\n",
      "tensor(392509.2188, grad_fn=<AddBackward0>)\n",
      "tensor(366473.9375, grad_fn=<AddBackward0>)\n",
      "tensor(394649., grad_fn=<AddBackward0>)\n",
      "tensor(375729.1875, grad_fn=<AddBackward0>)\n",
      "tensor(344550., grad_fn=<AddBackward0>)\n"
     ]
    },
    {
     "name": "stderr",
     "output_type": "stream",
     "text": [
      "\r",
      " 10%|▉         | 96/1000 [03:56<37:00,  2.46s/it]"
     ]
    },
    {
     "name": "stdout",
     "output_type": "stream",
     "text": [
      "tensor(361011.3125, grad_fn=<AddBackward0>)\n",
      "tensor(376369.7812, grad_fn=<AddBackward0>)\n",
      "tensor(392125.3750, grad_fn=<AddBackward0>)\n",
      "tensor(358978.8125, grad_fn=<AddBackward0>)\n",
      "tensor(391290., grad_fn=<AddBackward0>)\n",
      "tensor(392509.2188, grad_fn=<AddBackward0>)\n",
      "tensor(366473.9375, grad_fn=<AddBackward0>)\n",
      "tensor(394649., grad_fn=<AddBackward0>)\n",
      "tensor(375729.1875, grad_fn=<AddBackward0>)\n",
      "tensor(344550., grad_fn=<AddBackward0>)\n"
     ]
    },
    {
     "name": "stderr",
     "output_type": "stream",
     "text": [
      "\r",
      " 10%|▉         | 97/1000 [03:58<36:49,  2.45s/it]"
     ]
    },
    {
     "name": "stdout",
     "output_type": "stream",
     "text": [
      "tensor(361011.3125, grad_fn=<AddBackward0>)\n",
      "tensor(376369.7812, grad_fn=<AddBackward0>)\n",
      "tensor(392125.3750, grad_fn=<AddBackward0>)\n",
      "tensor(358978.8125, grad_fn=<AddBackward0>)\n",
      "tensor(391290., grad_fn=<AddBackward0>)\n",
      "tensor(392509.2188, grad_fn=<AddBackward0>)\n",
      "tensor(366473.9375, grad_fn=<AddBackward0>)\n",
      "tensor(394649., grad_fn=<AddBackward0>)\n",
      "tensor(375729.1875, grad_fn=<AddBackward0>)\n",
      "tensor(344550., grad_fn=<AddBackward0>)\n"
     ]
    },
    {
     "name": "stderr",
     "output_type": "stream",
     "text": [
      "\r",
      " 10%|▉         | 98/1000 [04:01<36:46,  2.45s/it]"
     ]
    },
    {
     "name": "stdout",
     "output_type": "stream",
     "text": [
      "tensor(361011.3125, grad_fn=<AddBackward0>)\n",
      "tensor(376369.7812, grad_fn=<AddBackward0>)\n",
      "tensor(392125.3750, grad_fn=<AddBackward0>)\n",
      "tensor(358978.8125, grad_fn=<AddBackward0>)\n",
      "tensor(391290., grad_fn=<AddBackward0>)\n",
      "tensor(392509.2188, grad_fn=<AddBackward0>)\n",
      "tensor(366473.9375, grad_fn=<AddBackward0>)\n",
      "tensor(394649., grad_fn=<AddBackward0>)\n",
      "tensor(375729.1875, grad_fn=<AddBackward0>)\n",
      "tensor(344550., grad_fn=<AddBackward0>)\n"
     ]
    },
    {
     "name": "stderr",
     "output_type": "stream",
     "text": [
      "\r",
      " 10%|▉         | 99/1000 [04:03<36:59,  2.46s/it]"
     ]
    },
    {
     "name": "stdout",
     "output_type": "stream",
     "text": [
      "tensor(361011.3125, grad_fn=<AddBackward0>)\n",
      "tensor(376369.7812, grad_fn=<AddBackward0>)\n",
      "tensor(392125.3750, grad_fn=<AddBackward0>)\n",
      "tensor(358978.8125, grad_fn=<AddBackward0>)\n",
      "tensor(391290., grad_fn=<AddBackward0>)\n",
      "tensor(392509.2188, grad_fn=<AddBackward0>)\n",
      "tensor(366473.9375, grad_fn=<AddBackward0>)\n",
      "tensor(394649., grad_fn=<AddBackward0>)\n",
      "tensor(375729.1875, grad_fn=<AddBackward0>)\n"
     ]
    },
    {
     "name": "stderr",
     "output_type": "stream",
     "text": [
      "\r",
      " 10%|█         | 100/1000 [04:06<36:33,  2.44s/it]"
     ]
    },
    {
     "name": "stdout",
     "output_type": "stream",
     "text": [
      "tensor(344550., grad_fn=<AddBackward0>)\n",
      "tensor(361011.3125, grad_fn=<AddBackward0>)\n",
      "tensor(376369.7812, grad_fn=<AddBackward0>)\n",
      "tensor(392125.3750, grad_fn=<AddBackward0>)\n",
      "tensor(358978.8125, grad_fn=<AddBackward0>)\n",
      "tensor(391290., grad_fn=<AddBackward0>)\n",
      "tensor(392509.2188, grad_fn=<AddBackward0>)\n",
      "tensor(366473.9375, grad_fn=<AddBackward0>)\n",
      "tensor(394649., grad_fn=<AddBackward0>)\n",
      "tensor(375729.1875, grad_fn=<AddBackward0>)\n",
      "tensor(344550., grad_fn=<AddBackward0>)\n"
     ]
    },
    {
     "name": "stderr",
     "output_type": "stream",
     "text": [
      "\r",
      " 10%|█         | 101/1000 [04:08<36:09,  2.41s/it]"
     ]
    },
    {
     "name": "stdout",
     "output_type": "stream",
     "text": [
      "tensor(361011.3125, grad_fn=<AddBackward0>)\n",
      "tensor(376369.7812, grad_fn=<AddBackward0>)\n",
      "tensor(392125.3750, grad_fn=<AddBackward0>)\n",
      "tensor(358978.8125, grad_fn=<AddBackward0>)\n",
      "tensor(391290., grad_fn=<AddBackward0>)\n",
      "tensor(392509.2188, grad_fn=<AddBackward0>)\n",
      "tensor(366473.9375, grad_fn=<AddBackward0>)\n",
      "tensor(394649., grad_fn=<AddBackward0>)\n",
      "tensor(375729.1875, grad_fn=<AddBackward0>)\n",
      "tensor(344550., grad_fn=<AddBackward0>)\n"
     ]
    },
    {
     "name": "stderr",
     "output_type": "stream",
     "text": [
      "\r",
      " 10%|█         | 102/1000 [04:11<36:29,  2.44s/it]"
     ]
    },
    {
     "name": "stdout",
     "output_type": "stream",
     "text": [
      "tensor(361011.3125, grad_fn=<AddBackward0>)\n",
      "tensor(376369.7812, grad_fn=<AddBackward0>)\n",
      "tensor(392125.3750, grad_fn=<AddBackward0>)\n",
      "tensor(358978.8125, grad_fn=<AddBackward0>)\n",
      "tensor(391290., grad_fn=<AddBackward0>)\n",
      "tensor(392509.2188, grad_fn=<AddBackward0>)\n",
      "tensor(366473.9375, grad_fn=<AddBackward0>)\n",
      "tensor(394649., grad_fn=<AddBackward0>)\n",
      "tensor(375729.1875, grad_fn=<AddBackward0>)\n",
      "tensor(344550., grad_fn=<AddBackward0>)\n"
     ]
    },
    {
     "name": "stderr",
     "output_type": "stream",
     "text": [
      "\r",
      " 10%|█         | 103/1000 [04:13<36:56,  2.47s/it]"
     ]
    },
    {
     "name": "stdout",
     "output_type": "stream",
     "text": [
      "tensor(361011.3125, grad_fn=<AddBackward0>)\n",
      "tensor(376369.7812, grad_fn=<AddBackward0>)\n",
      "tensor(392125.3750, grad_fn=<AddBackward0>)\n",
      "tensor(358978.8125, grad_fn=<AddBackward0>)\n",
      "tensor(391290., grad_fn=<AddBackward0>)\n",
      "tensor(392509.2188, grad_fn=<AddBackward0>)\n",
      "tensor(366473.9375, grad_fn=<AddBackward0>)\n",
      "tensor(394649., grad_fn=<AddBackward0>)\n",
      "tensor(375729.1875, grad_fn=<AddBackward0>)\n",
      "tensor(344550., grad_fn=<AddBackward0>)\n"
     ]
    },
    {
     "name": "stderr",
     "output_type": "stream",
     "text": [
      "\r",
      " 10%|█         | 104/1000 [04:16<36:47,  2.46s/it]"
     ]
    },
    {
     "name": "stdout",
     "output_type": "stream",
     "text": [
      "tensor(361011.3125, grad_fn=<AddBackward0>)\n",
      "tensor(376369.7812, grad_fn=<AddBackward0>)\n",
      "tensor(392125.3750, grad_fn=<AddBackward0>)\n",
      "tensor(358978.8125, grad_fn=<AddBackward0>)\n",
      "tensor(391290., grad_fn=<AddBackward0>)\n",
      "tensor(392509.2188, grad_fn=<AddBackward0>)\n",
      "tensor(366473.9375, grad_fn=<AddBackward0>)\n",
      "tensor(394649., grad_fn=<AddBackward0>)\n",
      "tensor(375729.1875, grad_fn=<AddBackward0>)\n",
      "tensor(344550., grad_fn=<AddBackward0>)\n"
     ]
    },
    {
     "name": "stderr",
     "output_type": "stream",
     "text": [
      "\r",
      " 10%|█         | 105/1000 [04:18<36:55,  2.48s/it]"
     ]
    },
    {
     "name": "stdout",
     "output_type": "stream",
     "text": [
      "tensor(361011.3125, grad_fn=<AddBackward0>)\n",
      "tensor(376369.7812, grad_fn=<AddBackward0>)\n",
      "tensor(392125.3750, grad_fn=<AddBackward0>)\n",
      "tensor(358978.8125, grad_fn=<AddBackward0>)\n",
      "tensor(391290., grad_fn=<AddBackward0>)\n",
      "tensor(392509.2188, grad_fn=<AddBackward0>)\n",
      "tensor(366473.9375, grad_fn=<AddBackward0>)\n",
      "tensor(394649., grad_fn=<AddBackward0>)\n",
      "tensor(375729.1875, grad_fn=<AddBackward0>)\n",
      "tensor(344550., grad_fn=<AddBackward0>)\n"
     ]
    },
    {
     "name": "stderr",
     "output_type": "stream",
     "text": [
      "\r",
      " 11%|█         | 106/1000 [04:21<36:49,  2.47s/it]"
     ]
    },
    {
     "name": "stdout",
     "output_type": "stream",
     "text": [
      "tensor(361011.3125, grad_fn=<AddBackward0>)\n",
      "tensor(376369.7812, grad_fn=<AddBackward0>)\n",
      "tensor(392125.3750, grad_fn=<AddBackward0>)\n",
      "tensor(358978.8125, grad_fn=<AddBackward0>)\n",
      "tensor(391290., grad_fn=<AddBackward0>)\n",
      "tensor(392509.2188, grad_fn=<AddBackward0>)\n",
      "tensor(366473.9375, grad_fn=<AddBackward0>)\n",
      "tensor(394649., grad_fn=<AddBackward0>)\n",
      "tensor(375729.1875, grad_fn=<AddBackward0>)\n",
      "tensor(344550., grad_fn=<AddBackward0>)\n"
     ]
    },
    {
     "name": "stderr",
     "output_type": "stream",
     "text": [
      "\r",
      " 11%|█         | 107/1000 [04:23<36:52,  2.48s/it]"
     ]
    },
    {
     "name": "stdout",
     "output_type": "stream",
     "text": [
      "tensor(361011.3125, grad_fn=<AddBackward0>)\n",
      "tensor(376369.7812, grad_fn=<AddBackward0>)\n",
      "tensor(392125.3750, grad_fn=<AddBackward0>)\n",
      "tensor(358978.8125, grad_fn=<AddBackward0>)\n",
      "tensor(391290., grad_fn=<AddBackward0>)\n",
      "tensor(392509.2188, grad_fn=<AddBackward0>)\n",
      "tensor(366473.9375, grad_fn=<AddBackward0>)\n",
      "tensor(394649., grad_fn=<AddBackward0>)\n",
      "tensor(375729.1875, grad_fn=<AddBackward0>)\n",
      "tensor(344550., grad_fn=<AddBackward0>)\n"
     ]
    },
    {
     "name": "stderr",
     "output_type": "stream",
     "text": [
      "\r",
      " 11%|█         | 108/1000 [04:26<37:00,  2.49s/it]"
     ]
    },
    {
     "name": "stdout",
     "output_type": "stream",
     "text": [
      "tensor(361011.3125, grad_fn=<AddBackward0>)\n",
      "tensor(376369.7812, grad_fn=<AddBackward0>)\n",
      "tensor(392125.3750, grad_fn=<AddBackward0>)\n",
      "tensor(358978.8125, grad_fn=<AddBackward0>)\n",
      "tensor(391290., grad_fn=<AddBackward0>)\n",
      "tensor(392509.2188, grad_fn=<AddBackward0>)\n",
      "tensor(366473.9375, grad_fn=<AddBackward0>)\n",
      "tensor(394649., grad_fn=<AddBackward0>)\n",
      "tensor(375729.1875, grad_fn=<AddBackward0>)\n",
      "tensor(344550., grad_fn=<AddBackward0>)\n"
     ]
    },
    {
     "name": "stderr",
     "output_type": "stream",
     "text": [
      "\r",
      " 11%|█         | 109/1000 [04:28<36:52,  2.48s/it]"
     ]
    },
    {
     "name": "stdout",
     "output_type": "stream",
     "text": [
      "tensor(361011.3125, grad_fn=<AddBackward0>)\n",
      "tensor(376369.7812, grad_fn=<AddBackward0>)\n",
      "tensor(392125.3750, grad_fn=<AddBackward0>)\n",
      "tensor(358978.8125, grad_fn=<AddBackward0>)\n",
      "tensor(391290., grad_fn=<AddBackward0>)\n",
      "tensor(392509.2188, grad_fn=<AddBackward0>)\n",
      "tensor(366473.9375, grad_fn=<AddBackward0>)\n",
      "tensor(394649., grad_fn=<AddBackward0>)\n",
      "tensor(375729.1875, grad_fn=<AddBackward0>)\n",
      "tensor(344550., grad_fn=<AddBackward0>)\n"
     ]
    },
    {
     "name": "stderr",
     "output_type": "stream",
     "text": [
      "\r",
      " 11%|█         | 110/1000 [04:30<36:25,  2.46s/it]"
     ]
    },
    {
     "name": "stdout",
     "output_type": "stream",
     "text": [
      "tensor(361011.3125, grad_fn=<AddBackward0>)\n",
      "tensor(376369.7812, grad_fn=<AddBackward0>)\n",
      "tensor(392125.3750, grad_fn=<AddBackward0>)\n",
      "tensor(358978.8125, grad_fn=<AddBackward0>)\n",
      "tensor(391290., grad_fn=<AddBackward0>)\n",
      "tensor(392509.2188, grad_fn=<AddBackward0>)\n",
      "tensor(366473.9375, grad_fn=<AddBackward0>)\n",
      "tensor(394649., grad_fn=<AddBackward0>)\n",
      "tensor(375729.1875, grad_fn=<AddBackward0>)\n",
      "tensor(344550., grad_fn=<AddBackward0>)\n"
     ]
    },
    {
     "name": "stderr",
     "output_type": "stream",
     "text": [
      "\r",
      " 11%|█         | 111/1000 [04:33<36:23,  2.46s/it]"
     ]
    },
    {
     "name": "stdout",
     "output_type": "stream",
     "text": [
      "tensor(361011.3125, grad_fn=<AddBackward0>)\n",
      "tensor(376369.7812, grad_fn=<AddBackward0>)\n",
      "tensor(392125.3750, grad_fn=<AddBackward0>)\n",
      "tensor(358978.8125, grad_fn=<AddBackward0>)\n",
      "tensor(391290., grad_fn=<AddBackward0>)\n",
      "tensor(392509.2188, grad_fn=<AddBackward0>)\n",
      "tensor(366473.9375, grad_fn=<AddBackward0>)\n",
      "tensor(394649., grad_fn=<AddBackward0>)\n",
      "tensor(375729.1875, grad_fn=<AddBackward0>)\n",
      "tensor(344550., grad_fn=<AddBackward0>)\n"
     ]
    },
    {
     "name": "stderr",
     "output_type": "stream",
     "text": [
      "\r",
      " 11%|█         | 112/1000 [04:35<37:07,  2.51s/it]"
     ]
    },
    {
     "name": "stdout",
     "output_type": "stream",
     "text": [
      "tensor(361011.3125, grad_fn=<AddBackward0>)\n",
      "tensor(376369.7812, grad_fn=<AddBackward0>)\n",
      "tensor(392125.3750, grad_fn=<AddBackward0>)\n",
      "tensor(358978.8125, grad_fn=<AddBackward0>)\n",
      "tensor(391290., grad_fn=<AddBackward0>)\n",
      "tensor(392509.2188, grad_fn=<AddBackward0>)\n",
      "tensor(366473.9375, grad_fn=<AddBackward0>)\n",
      "tensor(394649., grad_fn=<AddBackward0>)\n",
      "tensor(375729.1875, grad_fn=<AddBackward0>)\n",
      "tensor(344550., grad_fn=<AddBackward0>)\n"
     ]
    },
    {
     "name": "stderr",
     "output_type": "stream",
     "text": [
      "\r",
      " 11%|█▏        | 113/1000 [04:38<37:00,  2.50s/it]"
     ]
    }
   ],
   "source": [
    "_sq_net()"
   ]
  },
  {
   "cell_type": "code",
   "execution_count": null,
   "metadata": {},
   "outputs": [],
   "source": []
  }
 ],
 "metadata": {
  "kernelspec": {
   "display_name": "Python 3",
   "language": "python",
   "name": "python3"
  },
  "language_info": {
   "codemirror_mode": {
    "name": "ipython",
    "version": 3
   },
   "file_extension": ".py",
   "mimetype": "text/x-python",
   "name": "python",
   "nbconvert_exporter": "python",
   "pygments_lexer": "ipython3",
   "version": "3.6.9"
  }
 },
 "nbformat": 4,
 "nbformat_minor": 2
}
