{
 "cells": [
  {
   "cell_type": "code",
   "execution_count": 1,
   "metadata": {},
   "outputs": [],
   "source": [
    "%load_ext autoreload\n",
    "%autoreload 2 "
   ]
  },
  {
   "cell_type": "code",
   "execution_count": 2,
   "metadata": {},
   "outputs": [],
   "source": [
    "import numpy as np\n",
    "import crocoddyl\n",
    "import torch\n",
    "from fnet import FNet\n",
    "import torch\n",
    "import torch.optim as optim\n",
    "from tqdm import tqdm\n",
    "import matplotlib.pyplot as plt\n",
    "%matplotlib inline  "
   ]
  },
  {
   "cell_type": "code",
   "execution_count": 3,
   "metadata": {},
   "outputs": [],
   "source": [
    "def data(size=3000):\n",
    "    x = []\n",
    "    y = []\n",
    "    \n",
    "    for _ in range(size):\n",
    "        xyz = np.array([np.random.uniform(-2.1, 2.1), \n",
    "                   np.random.uniform(-2.1, 2.1),\n",
    "                   np.random.uniform(-1, 1.)])\n",
    "        \n",
    "        model = crocoddyl.ActionModelUnicycle()\n",
    "        T = 30\n",
    "        model.costWeights = np.matrix([1,1]).T\n",
    "\n",
    "        problem = crocoddyl.ShootingProblem(xyz.T, [ model ] * T, model)\n",
    "        ddp = crocoddyl.SolverDDP(problem)\n",
    "        ddp.solve([], [], 1000)\n",
    "        x.append(xyz)\n",
    "        vxx = np.array(ddp.Vxx)\n",
    "        vxx = vxx[0].ravel()\n",
    "        y.append(vxx)\n",
    "        \n",
    "    return torch.tensor(x, dtype = torch.float32), torch.tensor(y, dtype = torch.float32)"
   ]
  },
  {
   "cell_type": "code",
   "execution_count": 4,
   "metadata": {},
   "outputs": [],
   "source": [
    "x, y = data()"
   ]
  },
  {
   "cell_type": "code",
   "execution_count": 5,
   "metadata": {},
   "outputs": [],
   "source": [
    "net = FNet(x.shape[1], y.shape[1], units = 256)"
   ]
  },
  {
   "cell_type": "code",
   "execution_count": 6,
   "metadata": {},
   "outputs": [],
   "source": [
    "dataset = torch.utils.data.TensorDataset(x, y)\n",
    "dataloader = torch.utils.data.DataLoader(dataset, batch_size = 500) "
   ]
  },
  {
   "cell_type": "code",
   "execution_count": 7,
   "metadata": {},
   "outputs": [],
   "source": [
    "\n",
    "net = net.float()\n",
    "net.train()\n",
    "criterion = torch.nn.MSELoss(reduction='sum')\n",
    "optimizer = optim.Adam(net.parameters(), lr= 1e-3, weight_decay = 0.1)   "
   ]
  },
  {
   "cell_type": "code",
   "execution_count": 8,
   "metadata": {},
   "outputs": [
    {
     "name": "stderr",
     "output_type": "stream",
     "text": [
      "100%|██████████| 10000/10000 [10:41<00:00, 15.58it/s]\n"
     ]
    }
   ],
   "source": [
    "for epoch in tqdm(range(10000)):        \n",
    "    for data, target in dataloader:  \n",
    "        outputs = net(data)\n",
    "        loss = criterion(outputs, target)\n",
    "                \n",
    "       \n",
    "        # Backward and optimize\n",
    "        optimizer.zero_grad()\n",
    "        loss.backward()\n",
    "        optimizer.step()"
   ]
  },
  {
   "cell_type": "code",
   "execution_count": 9,
   "metadata": {},
   "outputs": [],
   "source": [
    "# Generate test data\n",
    "xrange = np.linspace(-1.,1.,100)\n",
    "xtest = torch.tensor([ [x1,x2, 0.] for x1 in xrange for x2 in xrange ], dtype = torch.float32)"
   ]
  },
  {
   "cell_type": "code",
   "execution_count": 10,
   "metadata": {},
   "outputs": [],
   "source": [
    "y_true = []\n",
    "for xyz in xtest:\n",
    "    xyz = xyz.numpy()\n",
    "    model = crocoddyl.ActionModelUnicycle()\n",
    "    T = 30\n",
    "    model.costWeights = np.matrix([1,1]).T\n",
    "\n",
    "    problem = crocoddyl.ShootingProblem(xyz.T, [ model ] * T, model)\n",
    "    ddp = crocoddyl.SolverDDP(problem)\n",
    "    ddp.solve([], [], 1000)\n",
    "    vxx = np.array(ddp.Vxx)\n",
    "    vxx = vxx[0].ravel()\n",
    "    y_true.append(vxx)\n",
    "    \n",
    "y_true = np.array(y_true)\n",
    "y_true = torch.tensor(y_true, dtype = torch.float32)"
   ]
  },
  {
   "cell_type": "code",
   "execution_count": 11,
   "metadata": {},
   "outputs": [
    {
     "name": "stdout",
     "output_type": "stream",
     "text": [
      "Mean Squared Error during testing is 3.1348650455474854\n",
      "......................................................................\n"
     ]
    }
   ],
   "source": [
    "\n",
    "# Predictions\n",
    "net.eval()\n",
    "with torch.no_grad():\n",
    "    y_pred = net(xtest)\n",
    "    \n",
    "error = (y_true - y_pred)\n",
    "print(f\"Mean Squared Error during testing is {torch.mean(error ** 2)}\") \n",
    "print(\"......................................................................\")   "
   ]
  },
  {
   "cell_type": "code",
   "execution_count": 12,
   "metadata": {},
   "outputs": [],
   "source": [
    "torch.save(net, \"hessian.pth\")"
   ]
  },
  {
   "cell_type": "code",
   "execution_count": null,
   "metadata": {},
   "outputs": [],
   "source": []
  }
 ],
 "metadata": {
  "kernelspec": {
   "display_name": "Python 3",
   "language": "python",
   "name": "python3"
  },
  "language_info": {
   "codemirror_mode": {
    "name": "ipython",
    "version": 3
   },
   "file_extension": ".py",
   "mimetype": "text/x-python",
   "name": "python",
   "nbconvert_exporter": "python",
   "pygments_lexer": "ipython3",
   "version": "3.6.9"
  }
 },
 "nbformat": 4,
 "nbformat_minor": 2
}
