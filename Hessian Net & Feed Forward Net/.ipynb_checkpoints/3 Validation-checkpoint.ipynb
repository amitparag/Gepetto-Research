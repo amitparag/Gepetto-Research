{
 "cells": [
  {
   "cell_type": "code",
   "execution_count": 57,
   "metadata": {},
   "outputs": [
    {
     "name": "stdout",
     "output_type": "stream",
     "text": [
      "The autoreload extension is already loaded. To reload it, use:\n",
      "  %reload_ext autoreload\n"
     ]
    }
   ],
   "source": [
    "%load_ext autoreload\n",
    "%autoreload 2 "
   ]
  },
  {
   "cell_type": "code",
   "execution_count": 58,
   "metadata": {},
   "outputs": [],
   "source": [
    "import numpy as np\n",
    "import crocoddyl\n",
    "import torch\n",
    "from fnet import FNet\n",
    "import torch\n",
    "import torch.optim as optim\n",
    "from tqdm import tqdm\n",
    "import matplotlib.pyplot as plt\n",
    "%matplotlib inline   \n",
    "\n",
    "def circular(r=[2], n=[100]):\n",
    "    \"\"\"\n",
    "    @params:\n",
    "        r = list of radius\n",
    "        n = list of points required from each radius\n",
    "        \n",
    "    @returns:\n",
    "        array of points from the circumference of circle of radius r centered on origin\n",
    "        \n",
    "    Usage: circle_points([2, 1, 3], [100, 20, 40])\n",
    "    \n",
    "    \"\"\"\n",
    "    circles = []\n",
    "    for r, n in zip(r, n):\n",
    "        t = np.linspace(0, 2* np.pi, n)\n",
    "        x = r * np.cos(t)\n",
    "        y = r * np.sin(t)\n",
    "        z = np.zeros(x.size,)\n",
    "        circles.append(np.c_[x, y, z])\n",
    "    return np.array(circles).squeeze()\n",
    "\n",
    "\n",
    "def plot_trajectories(cost, trajectories, name = \"Cost\", savename=None, title=None ):\n",
    "    \"\"\"\n",
    "    \n",
    "    @params:\n",
    "        cost           = list of keys for cmap\n",
    "        trajectories   = list of corresponding trajectories\n",
    "        name           = str, to distinguish between cost and iterations\n",
    "        \n",
    "    @ returns plot of trajectories colored according to keys.    \n",
    "    \n",
    "    \"\"\"\n",
    "\n",
    "    import matplotlib as mpl\n",
    "    import matplotlib.pyplot as plt\n",
    "    mpl.rcParams['figure.dpi'] = 80\n",
    "    fig = plt.figure(figsize=(8, 6))\n",
    "\n",
    "    norm = mpl.colors.Normalize(vmin=min(cost), vmax=max(cost))\n",
    "    cmap = mpl.cm.ScalarMappable(norm = norm, cmap=mpl.cm.plasma)\n",
    "    cmap.set_array([])\n",
    "\n",
    "\n",
    "    for key, trajectory in zip(cost, trajectories):\n",
    "        plt.scatter(trajectory[:, 0], trajectory[:, 1], \n",
    "                    marker = '',\n",
    "                    zorder=2, \n",
    "                    s=50,\n",
    "                    linewidths=0.2,\n",
    "                    alpha=.8, \n",
    "                    cmap = cmap )\n",
    "        plt.plot(trajectory[:, 0], trajectory[:, 1], c=cmap.to_rgba(key))\n",
    "\n",
    "    plt.xlabel(\"X Coordinates\", fontsize = 20)\n",
    "    plt.ylabel(\"Y Coordinates\", fontsize = 20)\n",
    "    if title:\n",
    "        plt.title(title)\n",
    "    plt.colorbar(cmap).set_label(name, labelpad=2, size=15)\n",
    "    if savename is not None:\n",
    "        plt.savefig(savename+\".png\")\n",
    "    plt.show()\n",
    "    \n",
    "starting_positions = circular()"
   ]
  },
  {
   "cell_type": "code",
   "execution_count": 59,
   "metadata": {},
   "outputs": [],
   "source": [
    "net1 = torch.load(\"value.pth\")"
   ]
  },
  {
   "cell_type": "code",
   "execution_count": 60,
   "metadata": {},
   "outputs": [],
   "source": [
    "net2 = torch.load(\"hessian.pth\")"
   ]
  },
  {
   "cell_type": "code",
   "execution_count": null,
   "metadata": {},
   "outputs": [],
   "source": [
    "torch.nn."
   ]
  },
  {
   "cell_type": "code",
   "execution_count": 5,
   "metadata": {},
   "outputs": [],
   "source": [
    "\n",
    "def a2m(a):\n",
    "    return np.matrix(a).T\n",
    "\n",
    "\n",
    "def m2a(m):\n",
    "    return np.array(m).squeeze()\n",
    "\n",
    "class TrueHessian(crocoddyl.ActionModelAbstract):\n",
    "    \n",
    "    def __init__(self, net1, net2):\n",
    "       \n",
    "        crocoddyl.ActionModelAbstract.__init__(self, crocoddyl.StateVector(3), 2, 5)\n",
    "        self.net1 = net1\n",
    "        self.net2 = net2\n",
    "        \n",
    "    def calc(self, data, x, u=None):\n",
    "        \n",
    "        x = torch.as_tensor(m2a(x), dtype = torch.float32).resize_(1, 3)\n",
    "        \n",
    "        with torch.no_grad():\n",
    "            data.cost = self.net1(x).item()\n",
    "\n",
    "    def calcDiff(self, data, x, u=None):\n",
    "        \n",
    "        if u is None:\n",
    "            u = self.unone\n",
    "        \n",
    "        x0 = torch.as_tensor(m2a(x), dtype = torch.float32).resize_(1, 3)\n",
    "        j = torch.autograd.functional.jacobian(self.net1, x0).numpy().squeeze()\n",
    "        h = self.net2(x0).detach().numpy().squeeze().reshape(3,3)\n",
    "        #print(h)\n",
    "\n",
    "        data.Lx = a2m(j)\n",
    "        data.Lxx = a2m(h)\n",
    "        "
   ]
  },
  {
   "cell_type": "code",
   "execution_count": 7,
   "metadata": {},
   "outputs": [],
   "source": [
    "def solve_crocoddyl(xyz):\n",
    "    \"\"\"\n",
    "    xyz should either be a list of an array\n",
    "    \"\"\"\n",
    "   \n",
    "\n",
    "    model = crocoddyl.ActionModelUnicycle()\n",
    "    T = 30\n",
    "    model.costWeights = np.matrix([1,1]).T\n",
    "    problem = crocoddyl.ShootingProblem(np.array(xyz).T, [ model ] * T, model)\n",
    "    ddp = crocoddyl.SolverDDP(problem)\n",
    "    ddp.solve([], [], 1000)\n",
    "    return ddp\n",
    "\n",
    "\n",
    "def solve_terminal(xyz):\n",
    "    model = crocoddyl.ActionModelUnicycle()\n",
    "    model2 = TrueHessian(valueNet, hessianNet)\n",
    "    T = 30\n",
    "    model.costWeights = np.matrix([1,1]).T\n",
    "    problem = crocoddyl.ShootingProblem(xyz.T, [ model ] * T, model2)\n",
    "    ddp = crocoddyl.SolverDDP(problem)\n",
    "    ddp.solve([], [], 1000)\n",
    "    return ddp\n",
    "\n",
    "\n",
    "def solution_crocoddyl(xtest):\n",
    "    \"\"\"\n",
    "    Returns position, cost, vx[0], vxx[1]\n",
    "    \"\"\"\n",
    "    vxx = []\n",
    "    for state in xtest:        \n",
    "        ddp = solve_crocoddyl(state)\n",
    "        vxx_ = np.array(ddp.Vxx)\n",
    "        h = vxx_[0]\n",
    "        vxx.append(np.diagonal(h)[1])\n",
    "    return vxx\n",
    "    \n",
    "def solution_terminal(xtest):\n",
    "    \"\"\"\n",
    "    Returns position, cost, vx[0], vxx[1]\n",
    "    \"\"\"\n",
    "    vxx = []\n",
    "    for state in xtest:        \n",
    "        ddp = solve_terminal(state)\n",
    "        vxx_ = np.array(ddp.Vxx)\n",
    "        h = vxx_[0]\n",
    "        vxx.append(np.diagonal(h)[1])\n",
    "    return vxx"
   ]
  },
  {
   "cell_type": "code",
   "execution_count": 54,
   "metadata": {},
   "outputs": [],
   "source": [
    "def terminal_crocoddyl(stop = 1e-9):\n",
    "    warmstart_cost  = []\n",
    "    warmstart_iters = []\n",
    "    warmstart_traj  = []\n",
    "\n",
    "    for xyz in starting_positions:\n",
    "        T = 30\n",
    "        model2 = crocoddyl.ActionModelUnicycle()\n",
    "        terminal_model = TrueHessian(net1, net2)\n",
    "        model2.costWeights = np.matrix([1,1]).T\n",
    "        problem2 = crocoddyl.ShootingProblem(m2a(xyz).T, [ model2 ] * T, terminal_model)\n",
    "        ddp2 = crocoddyl.SolverFDDP(problem2)\n",
    "        ddp2.th_stop= stop\n",
    "        ddp2.solve([] , [], 1000)\n",
    "        warmstart_cost.append(ddp2.cost)\n",
    "        warmstart_iters.append(ddp2.iter)\n",
    "        xs2_ = np.array(ddp2.xs)\n",
    "        xs2 = xs2_[:,0:2]\n",
    "        warmstart_traj.append(xs2)\n",
    "        \n",
    "    return warmstart_iters, warmstart_traj"
   ]
  },
  {
   "cell_type": "code",
   "execution_count": 55,
   "metadata": {},
   "outputs": [],
   "source": [
    "iters, traj = terminal_crocoddyl()"
   ]
  },
  {
   "cell_type": "code",
   "execution_count": 56,
   "metadata": {},
   "outputs": [
    {
     "data": {
      "image/png": "[encoded data removed]",
      "text/plain": [
       "<Figure size 640x480 with 2 Axes>"
      ]
     },
     "metadata": {},
     "output_type": "display_data"
    }
   ],
   "source": [
    "plot_trajectories(iters, traj,\n",
    "                  title=\" Terminal crocoddyl, ddp.th_stop = 1e-9 Max_iters = 20\",\n",
    "                  name = \"iterations\")\n"
   ]
  },
  {
   "cell_type": "code",
   "execution_count": null,
   "metadata": {},
   "outputs": [],
   "source": []
  },
  {
   "cell_type": "code",
   "execution_count": null,
   "metadata": {},
   "outputs": [],
   "source": []
  },
  {
   "cell_type": "code",
   "execution_count": null,
   "metadata": {},
   "outputs": [],
   "source": []
  },
  {
   "cell_type": "code",
   "execution_count": null,
   "metadata": {},
   "outputs": [],
   "source": []
  },
  {
   "cell_type": "code",
   "execution_count": null,
   "metadata": {},
   "outputs": [],
   "source": []
  },
  {
   "cell_type": "markdown",
   "metadata": {},
   "source": [
    "The problem of increase in the number of iterations taken when crocoddyl has a neural net inside it has three possible scenarios:\n",
    "    1: The problem can be with neural net (hessian of the network)\n",
    "    \n",
    "    2: The problem is somewhere in Crocoddyl.\n",
    "    \n",
    "    3: The problem is when crocoddyl interacts with the predictions of the neural net.\n",
    "    \n",
    "Lets's take case 3. \n",
    "In this case, we have to first make sure that the predictions of the network are perfect. For the moment, let's\n",
    "simply assume that the predictions of V, Vx and Vxx, I am giving to crocoddyl are perfect. Never mind how I am getting them.\n",
    "\n",
    "Let's look at the results I get by varying ddp.th_stop and maxiters."
   ]
  },
  {
   "cell_type": "code",
   "execution_count": null,
   "metadata": {},
   "outputs": [],
   "source": []
  },
  {
   "cell_type": "code",
   "execution_count": null,
   "metadata": {},
   "outputs": [],
   "source": []
  },
  {
   "cell_type": "code",
   "execution_count": null,
   "metadata": {},
   "outputs": [],
   "source": []
  },
  {
   "cell_type": "code",
   "execution_count": null,
   "metadata": {},
   "outputs": [],
   "source": []
  },
  {
   "cell_type": "code",
   "execution_count": null,
   "metadata": {},
   "outputs": [],
   "source": []
  },
  {
   "cell_type": "code",
   "execution_count": null,
   "metadata": {},
   "outputs": [],
   "source": []
  },
  {
   "cell_type": "code",
   "execution_count": null,
   "metadata": {},
   "outputs": [],
   "source": []
  },
  {
   "cell_type": "code",
   "execution_count": null,
   "metadata": {},
   "outputs": [],
   "source": []
  },
  {
   "cell_type": "code",
   "execution_count": null,
   "metadata": {},
   "outputs": [],
   "source": []
  },
  {
   "cell_type": "code",
   "execution_count": null,
   "metadata": {},
   "outputs": [],
   "source": []
  },
  {
   "cell_type": "code",
   "execution_count": null,
   "metadata": {},
   "outputs": [],
   "source": []
  },
  {
   "cell_type": "code",
   "execution_count": null,
   "metadata": {},
   "outputs": [],
   "source": []
  },
  {
   "cell_type": "code",
   "execution_count": null,
   "metadata": {},
   "outputs": [],
   "source": []
  },
  {
   "cell_type": "code",
   "execution_count": null,
   "metadata": {},
   "outputs": [],
   "source": []
  },
  {
   "cell_type": "code",
   "execution_count": null,
   "metadata": {},
   "outputs": [],
   "source": []
  },
  {
   "cell_type": "code",
   "execution_count": null,
   "metadata": {},
   "outputs": [],
   "source": []
  },
  {
   "cell_type": "code",
   "execution_count": null,
   "metadata": {},
   "outputs": [],
   "source": []
  },
  {
   "cell_type": "code",
   "execution_count": null,
   "metadata": {},
   "outputs": [],
   "source": []
  },
  {
   "cell_type": "code",
   "execution_count": null,
   "metadata": {},
   "outputs": [],
   "source": []
  },
  {
   "cell_type": "code",
   "execution_count": null,
   "metadata": {},
   "outputs": [],
   "source": []
  },
  {
   "cell_type": "code",
   "execution_count": null,
   "metadata": {},
   "outputs": [],
   "source": []
  },
  {
   "cell_type": "code",
   "execution_count": null,
   "metadata": {},
   "outputs": [],
   "source": []
  },
  {
   "cell_type": "code",
   "execution_count": null,
   "metadata": {},
   "outputs": [],
   "source": []
  },
  {
   "cell_type": "code",
   "execution_count": null,
   "metadata": {},
   "outputs": [],
   "source": []
  },
  {
   "cell_type": "code",
   "execution_count": null,
   "metadata": {},
   "outputs": [],
   "source": []
  },
  {
   "cell_type": "code",
   "execution_count": null,
   "metadata": {},
   "outputs": [],
   "source": []
  },
  {
   "cell_type": "code",
   "execution_count": null,
   "metadata": {},
   "outputs": [],
   "source": []
  },
  {
   "cell_type": "code",
   "execution_count": null,
   "metadata": {},
   "outputs": [],
   "source": []
  },
  {
   "cell_type": "code",
   "execution_count": null,
   "metadata": {},
   "outputs": [],
   "source": []
  },
  {
   "cell_type": "code",
   "execution_count": null,
   "metadata": {},
   "outputs": [],
   "source": []
  },
  {
   "cell_type": "code",
   "execution_count": null,
   "metadata": {},
   "outputs": [],
   "source": []
  },
  {
   "cell_type": "code",
   "execution_count": null,
   "metadata": {},
   "outputs": [],
   "source": []
  },
  {
   "cell_type": "code",
   "execution_count": null,
   "metadata": {},
   "outputs": [],
   "source": []
  },
  {
   "cell_type": "code",
   "execution_count": null,
   "metadata": {},
   "outputs": [],
   "source": []
  },
  {
   "cell_type": "code",
   "execution_count": null,
   "metadata": {},
   "outputs": [],
   "source": []
  },
  {
   "cell_type": "code",
   "execution_count": null,
   "metadata": {},
   "outputs": [],
   "source": []
  },
  {
   "cell_type": "code",
   "execution_count": null,
   "metadata": {},
   "outputs": [],
   "source": []
  },
  {
   "cell_type": "code",
   "execution_count": null,
   "metadata": {},
   "outputs": [],
   "source": []
  },
  {
   "cell_type": "code",
   "execution_count": null,
   "metadata": {},
   "outputs": [],
   "source": []
  },
  {
   "cell_type": "code",
   "execution_count": null,
   "metadata": {},
   "outputs": [],
   "source": []
  },
  {
   "cell_type": "code",
   "execution_count": null,
   "metadata": {},
   "outputs": [],
   "source": []
  },
  {
   "cell_type": "code",
   "execution_count": null,
   "metadata": {},
   "outputs": [],
   "source": []
  },
  {
   "cell_type": "code",
   "execution_count": null,
   "metadata": {},
   "outputs": [],
   "source": []
  },
  {
   "cell_type": "code",
   "execution_count": null,
   "metadata": {},
   "outputs": [],
   "source": []
  },
  {
   "cell_type": "code",
   "execution_count": null,
   "metadata": {},
   "outputs": [],
   "source": []
  },
  {
   "cell_type": "code",
   "execution_count": null,
   "metadata": {},
   "outputs": [],
   "source": []
  },
  {
   "cell_type": "code",
   "execution_count": null,
   "metadata": {},
   "outputs": [],
   "source": []
  },
  {
   "cell_type": "code",
   "execution_count": null,
   "metadata": {},
   "outputs": [],
   "source": []
  },
  {
   "cell_type": "code",
   "execution_count": null,
   "metadata": {},
   "outputs": [],
   "source": []
  },
  {
   "cell_type": "code",
   "execution_count": null,
   "metadata": {},
   "outputs": [],
   "source": []
  },
  {
   "cell_type": "code",
   "execution_count": null,
   "metadata": {},
   "outputs": [],
   "source": []
  },
  {
   "cell_type": "code",
   "execution_count": null,
   "metadata": {},
   "outputs": [],
   "source": []
  },
  {
   "cell_type": "code",
   "execution_count": null,
   "metadata": {},
   "outputs": [],
   "source": []
  },
  {
   "cell_type": "code",
   "execution_count": null,
   "metadata": {},
   "outputs": [],
   "source": []
  },
  {
   "cell_type": "code",
   "execution_count": null,
   "metadata": {},
   "outputs": [],
   "source": []
  },
  {
   "cell_type": "code",
   "execution_count": null,
   "metadata": {},
   "outputs": [],
   "source": []
  },
  {
   "cell_type": "code",
   "execution_count": null,
   "metadata": {},
   "outputs": [],
   "source": [
    "# x can be set to any constant between -2, 2\n",
    "x = 1.\n",
    "y = np.linspace(-1., 1., 100)\n",
    "xtest = np.array([ [x,x2, 0.] for x2 in y ])"
   ]
  },
  {
   "cell_type": "code",
   "execution_count": null,
   "metadata": {},
   "outputs": [],
   "source": [
    "vxx = solution_crocoddyl(xtest)\n",
    "diff2 = solution_terminal(xtest)\n",
    "vxx = np.array(vxx)\n",
    "diff2 = np.array(diff2)"
   ]
  },
  {
   "cell_type": "code",
   "execution_count": null,
   "metadata": {},
   "outputs": [],
   "source": [
    "plt.clf()\n",
    "plt.figure(figsize=(10, 8))\n",
    "plt.plot(xtest[:,1], vxx, '-b', label='Crocoddyl')\n",
    "plt.plot(xtest[:,1], diff2,'-g', label='Crocoddyl with terminal Net')\n",
    "plt.title(f\"x = {x}, with theta = 0\")\n",
    "plt.legend()\n"
   ]
  },
  {
   "cell_type": "code",
   "execution_count": null,
   "metadata": {},
   "outputs": [],
   "source": []
  },
  {
   "cell_type": "code",
   "execution_count": null,
   "metadata": {},
   "outputs": [],
   "source": []
  },
  {
   "cell_type": "code",
   "execution_count": null,
   "metadata": {},
   "outputs": [],
   "source": []
  },
  {
   "cell_type": "code",
   "execution_count": null,
   "metadata": {},
   "outputs": [],
   "source": []
  },
  {
   "cell_type": "code",
   "execution_count": null,
   "metadata": {},
   "outputs": [],
   "source": []
  },
  {
   "cell_type": "code",
   "execution_count": null,
   "metadata": {},
   "outputs": [],
   "source": []
  },
  {
   "cell_type": "code",
   "execution_count": null,
   "metadata": {},
   "outputs": [],
   "source": []
  },
  {
   "cell_type": "code",
   "execution_count": null,
   "metadata": {},
   "outputs": [],
   "source": []
  },
  {
   "cell_type": "code",
   "execution_count": null,
   "metadata": {},
   "outputs": [],
   "source": []
  },
  {
   "cell_type": "code",
   "execution_count": null,
   "metadata": {},
   "outputs": [],
   "source": []
  },
  {
   "cell_type": "code",
   "execution_count": null,
   "metadata": {},
   "outputs": [],
   "source": []
  },
  {
   "cell_type": "code",
   "execution_count": null,
   "metadata": {},
   "outputs": [],
   "source": [
    "\n",
    "\n",
    "\n",
    "def solver_norms(xtest):\n",
    "    solutions = []\n",
    "    for xyz in xtest:\n",
    "        ddp = solve_crocoddyl(xyz)\n",
    "        solutions.append(ddp)\n",
    "\n",
    "\n",
    "    vx    = []\n",
    "    vxx   = []\n",
    "    cost  = []\n",
    "\n",
    "\n",
    "    for ddp in solutions:\n",
    "        nodes  = np.array(ddp.xs)\n",
    "\n",
    "        diff1  = np.array(ddp.Vx)\n",
    "        diff2  = np.array(ddp.Vxx)\n",
    "\n",
    "        vx.append([np.linalg.norm(diff1[0])])\n",
    "        vxx.append([np.linalg.norm(diff2[0])])\n",
    "\n",
    "        cost.append([ddp.cost])\n",
    "\n",
    "\n",
    "\n",
    "    vx    = np.array(vx).reshape(-1, 1)\n",
    "    vxx   = np.array(vxx).reshape(-1, 1)\n",
    "    cost  = np.array(cost).reshape(-1,1)\n",
    "    return cost, vx, vxx\n",
    "\n",
    "def solver_grads(xtest):\n",
    "    \"\"\"\n",
    "    Returns position, cost, vx[0], vxx[1]\n",
    "    \"\"\"\n",
    "\n",
    "\n",
    "    vxx = []\n",
    "    \n",
    "    for state in xtest:        \n",
    "        ddp = solve_crocoddyl(state)\n",
    "              \n",
    "              \n",
    "        vxx_ = np.array(ddp.Vxx)\n",
    "        h    = vxx_[0]\n",
    "        vxx.append(np.diagonal(h)[1])\n",
    "        \n",
    "    \n",
    "    \n",
    "    return vxx\n",
    "\n",
    "\n",
    "\n"
   ]
  },
  {
   "cell_type": "code",
   "execution_count": null,
   "metadata": {},
   "outputs": [],
   "source": [
    "# x can be set to any constant between -2, 2\n",
    "x = 1.79732234\n",
    "y = np.linspace(-1., 1., 100)\n",
    "xtest = np.array([ [x,x2, 0.] for x2 in y ])"
   ]
  },
  {
   "cell_type": "code",
   "execution_count": null,
   "metadata": {},
   "outputs": [],
   "source": [
    "diff2 = []\n",
    "for x in xtest:\n",
    "    x = torch.tensor(x, dtype = torch.float32)\n",
    "    hessianNet.eval()\n",
    "    with torch.no_grad():\n",
    "        h = hessianNet(x)\n",
    "        h = h.detach().numpy()\n",
    "        h = h.reshape(3, 3)\n",
    "        diff2.append(np.diagonal(h)[1])\n",
    "        \n"
   ]
  },
  {
   "cell_type": "code",
   "execution_count": null,
   "metadata": {},
   "outputs": [],
   "source": [
    "grad2 = []\n",
    "for x in xtest:\n",
    "    x = torch.tensor(x, dtype = torch.float32)\n",
    "    h = torch.autograd.functional.hessian(valueNet, x).squeeze()\n",
    "    h = h.detach().numpy()\n",
    "    h = h.reshape(3, 3)\n",
    "    grad2.append(np.diagonal(h)[1])\n",
    "    \n",
    "    "
   ]
  },
  {
   "cell_type": "code",
   "execution_count": null,
   "metadata": {},
   "outputs": [],
   "source": [
    "vxx = solver_grads(xtest)"
   ]
  },
  {
   "cell_type": "code",
   "execution_count": null,
   "metadata": {},
   "outputs": [],
   "source": [
    "grad2 = np.array(grad2)"
   ]
  },
  {
   "cell_type": "code",
   "execution_count": null,
   "metadata": {},
   "outputs": [],
   "source": [
    "vxx = np.array(vxx)\n",
    "diff2 = np.array(diff2)"
   ]
  },
  {
   "cell_type": "code",
   "execution_count": null,
   "metadata": {},
   "outputs": [],
   "source": [
    "plt.clf()\n",
    "plt.figure(figsize=(10, 8))\n",
    "plt.plot(xtest[:,1], vxx, '-b', label='Crocoddyl')\n",
    "plt.plot(xtest[:,1], grad2, '--r', label=' Hessian of Value Net')\n",
    "plt.plot(xtest[:,1], diff2,'-g', label='Hessian Net')\n",
    "plt.title(f\"x = 1.79732234, with theta = 0\")\n",
    "plt.legend()\n",
    "plt.savefig(\"4.png\")\n"
   ]
  },
  {
   "cell_type": "code",
   "execution_count": null,
   "metadata": {},
   "outputs": [],
   "source": []
  },
  {
   "cell_type": "code",
   "execution_count": null,
   "metadata": {},
   "outputs": [],
   "source": []
  }
 ],
 "metadata": {
  "kernelspec": {
   "display_name": "Python 3",
   "language": "python",
   "name": "python3"
  },
  "language_info": {
   "codemirror_mode": {
    "name": "ipython",
    "version": 3
   },
   "file_extension": ".py",
   "mimetype": "text/x-python",
   "name": "python",
   "nbconvert_exporter": "python",
   "pygments_lexer": "ipython3",
   "version": "3.6.9"
  }
 },
 "nbformat": 4,
 "nbformat_minor": 2
}
