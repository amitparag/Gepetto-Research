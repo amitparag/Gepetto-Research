{
 "cells": [
  {
   "cell_type": "code",
   "execution_count": 1,
   "metadata": {},
   "outputs": [],
   "source": [
    "%load_ext autoreload\n",
    "%autoreload 2"
   ]
  },
  {
   "cell_type": "code",
   "execution_count": 2,
   "metadata": {},
   "outputs": [],
   "source": [
    "import torch\n",
    "import numpy as np\n",
    "import matplotlib.pyplot as plt\n",
    "from scipy.interpolate import griddata\n",
    "from torchNet import *\n",
    "from terminal_model import *\n",
    "%matplotlib inline"
   ]
  },
  {
   "cell_type": "code",
   "execution_count": 3,
   "metadata": {},
   "outputs": [],
   "source": [
    "p1 = np.loadtxt('./data/p1.out', delimiter = \",\")\n",
    "c1 = np.loadtxt(\"./data/c1.out\", delimiter = \",\")\n",
    "\n",
    "p5 = np.loadtxt('./data/p5.out', delimiter = \",\")\n",
    "c5 = np.loadtxt(\"./data/c5.out\", delimiter = \",\")\n",
    "\n",
    "p10 = np.loadtxt('./data/p10.out', delimiter = \",\")\n",
    "c10 = np.loadtxt(\"./data/c10.out\", delimiter = \",\")\n",
    "\n",
    "p15 = np.loadtxt('./data/p15.out', delimiter = \",\")\n",
    "c15 = np.loadtxt(\"./data/c15.out\", delimiter = \",\")\n",
    "\n",
    "p20 = np.loadtxt('./data/p20.out', delimiter = \",\")\n",
    "c20 = np.loadtxt(\"./data/c20.out\", delimiter = \",\")"
   ]
  },
  {
   "cell_type": "code",
   "execution_count": 4,
   "metadata": {},
   "outputs": [],
   "source": [
    "def plot_cost(x, y, z, n = 1):\n",
    "\n",
    "    extent = (min(x), max(x), min(y), max(y))\n",
    "    xs,ys = np.mgrid[extent[0]:extent[1]:100j, extent[2]:extent[3]:200j] #2D x,y\n",
    "    z_resampled = griddata((x, y), z, (xs, ys)) #2D z\n",
    "    plt.imshow(z_resampled, interpolation=\"none\", extent=extent, origin=\"lower\")\n",
    "    plt.xticks(np.arange(-3, 3.1, step=1))\n",
    "    plt.yticks(np.arange(-3, 3.1, step=1))\n",
    "    clb = plt.colorbar()\n",
    "    clb.set_label('Cost', labelpad=-40, y=1.10, rotation=0)\n",
    "    plt.savefig(f\"./Images/Cost{n}.png\")\n",
    "    plt.close()\n",
    "    \n",
    "def plot_iters(x, y, z, n = 1):\n",
    " \n",
    "    extent = (min(x), max(x), min(y), max(y))\n",
    "    xs,ys = np.mgrid[extent[0]:extent[1]:100j, extent[2]:extent[3]:200j] #2D x,y\n",
    "    z_resampled = griddata((x, y), z, (xs, ys)) #2D z\n",
    "    plt.imshow(z_resampled, interpolation=\"none\", extent=extent, origin=\"lower\")\n",
    "    plt.xticks(np.arange(-3, 3.1, step=1))\n",
    "    plt.yticks(np.arange(-3, 3.1, step=1))\n",
    "    clb = plt.colorbar()\n",
    "    clb.set_label('Iterations', labelpad=-40, y=1.10, rotation=0)\n",
    "    plt.savefig(f\"./Images/ddp_iters{n}.png\")\n",
    "    plt.close()\n",
    "    \n",
    "def plot_contour(x, y, z):\n",
    "    plt.tricontourf(x, y, z)\n",
    "    plt.colorbar()"
   ]
  },
  {
   "cell_type": "code",
   "execution_count": 5,
   "metadata": {},
   "outputs": [],
   "source": [
    "x1, y1, cost1, iters1 = p1[:,0], p1[:,1], c1[:,0], c1[:,1] \n",
    "\n",
    "x5, y5, cost5, iters5 = p5[:,0], p5[:,1], c5[:,0], c5[:,1] \n",
    "\n",
    "x10, y10, cost10, iters10 = p10[:,0], p10[:,1], c10[:,0], c10[:,1] \n",
    "\n",
    "x15, y15, cost15, iters15 = p15[:,0], p15[:,1], c15[:,0], c15[:,1] \n",
    "\n",
    "x20, y20, cost20, iters20 = p20[:,0], p20[:,1], c20[:,0], c20[:,1] "
   ]
  },
  {
   "cell_type": "code",
   "execution_count": 6,
   "metadata": {},
   "outputs": [],
   "source": [
    "plot_cost(x20, y20, cost20, n=20)\n",
    "plot_iters(x20, y20, iters20, n=20)\n",
    "\n",
    "\n",
    "plot_cost(x10, y10, cost10, n=10)\n",
    "plot_iters(x10, y10, iters10, n= 10)\n",
    "\n",
    "plot_cost(x15, y15, cost15, n=15)\n",
    "plot_iters(x15, y15, iters15, n=15)\n",
    "\n",
    "plot_cost(x5, y5, cost5, n = 15)\n",
    "plot_iters(x5, y5, iters5, n = 15)\n",
    "\n",
    "plot_cost(x1, y1, cost1, n = 1)\n",
    "plot_iters(x1, y1, iters1, n =1)\n",
    "\n",
    "\n",
    "\n"
   ]
  },
  {
   "cell_type": "code",
   "execution_count": null,
   "metadata": {},
   "outputs": [],
   "source": []
  }
 ],
 "metadata": {
  "kernelspec": {
   "display_name": "Python 3",
   "language": "python",
   "name": "python3"
  },
  "language_info": {
   "codemirror_mode": {
    "name": "ipython",
    "version": 3
   },
   "file_extension": ".py",
   "mimetype": "text/x-python",
   "name": "python",
   "nbconvert_exporter": "python",
   "pygments_lexer": "ipython3",
   "version": "3.6.9"
  }
 },
 "nbformat": 4,
 "nbformat_minor": 2
}
