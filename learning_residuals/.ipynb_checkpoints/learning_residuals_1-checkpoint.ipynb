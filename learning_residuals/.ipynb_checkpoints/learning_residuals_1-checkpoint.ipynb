{
 "cells": [
  {
   "cell_type": "code",
   "execution_count": 1,
   "metadata": {},
   "outputs": [],
   "source": [
    "%load_ext autoreload\n",
    "%autoreload 2"
   ]
  },
  {
   "cell_type": "code",
   "execution_count": 4,
   "metadata": {},
   "outputs": [],
   "source": [
    "import numpy as np\n",
    "import crocoddyl as c\n",
    "from sklearn.neural_network import MLPRegressor\n",
    "c.switchToNumpyArray()"
   ]
  },
  {
   "cell_type": "code",
   "execution_count": 5,
   "metadata": {},
   "outputs": [],
   "source": [
    "# get the residual data\n",
    "positions = []\n",
    "residuals = []\n",
    "model = c.ActionModelUnicycle()\n",
    "\n",
    "for _ in range(1000):\n",
    "    \n",
    "    x0 = np.array([np.random.uniform(-2.1, 2.1), np.random.uniform(-2.1, 2.1), np.random.uniform(0,1)])\n",
    "    T = 30\n",
    "    problem = c.ShootingProblem(x0.T, [ model ] * T, model)\n",
    "    ddp = c.SolverDDP(problem)\n",
    "    ddp.solve()\n",
    "\n",
    "    for d in ddp.datas():\n",
    "        residual = d.r\n",
    "    positions.append(x0)\n",
    "    residuals.append(residual)\n",
    "\n",
    "positions = np.asarray(positions)\n",
    "residuals = np.asarray(residuals)\n",
    "\n",
    "# The residuals are of the shape (1000, 5). The first three columns of the residuals are those that are\n",
    "# related to positions. The last two are the residuals associated with u. Ideally, it should be 0."
   ]
  },
  {
   "cell_type": "code",
   "execution_count": null,
   "metadata": {},
   "outputs": [],
   "source": []
  },
  {
   "cell_type": "code",
   "execution_count": 17,
   "metadata": {},
   "outputs": [
    {
     "data": {
      "text/plain": [
       "MLPRegressor(activation='tanh', alpha=0.001, batch_size='auto', beta_1=0.9,\n",
       "             beta_2=0.999, early_stopping=False, epsilon=1e-08,\n",
       "             hidden_layer_sizes=(8, 8), learning_rate='constant',\n",
       "             learning_rate_init=0.01, max_fun=15000, max_iter=1000,\n",
       "             momentum=0.9, n_iter_no_change=10, nesterovs_momentum=True,\n",
       "             power_t=0.5, random_state=9, shuffle=True, solver='lbfgs',\n",
       "             tol=0.0001, validation_fraction=0.01, verbose=True,\n",
       "             warm_start=False)"
      ]
     },
     "execution_count": 17,
     "metadata": {},
     "output_type": "execute_result"
    }
   ],
   "source": [
    "nn = MLPRegressor(\n",
    "    hidden_layer_sizes=(8,8),  activation='tanh', solver='lbfgs', alpha=0.001, batch_size='auto',\n",
    "    learning_rate='constant', learning_rate_init=0.01, power_t=0.5, max_iter=1000, shuffle=True,\n",
    "    random_state=9, tol=0.0001, verbose=True, warm_start=False, momentum=0.9, nesterovs_momentum=True,\n",
    "    early_stopping=False, validation_fraction=0.01, beta_1=0.9, beta_2=0.999, epsilon=1e-08)\n",
    "\n",
    "nn.fit(positions, residuals)"
   ]
  },
  {
   "cell_type": "code",
   "execution_count": null,
   "metadata": {},
   "outputs": [],
   "source": []
  },
  {
   "cell_type": "code",
   "execution_count": 33,
   "metadata": {},
   "outputs": [],
   "source": [
    "def a2m(a):\n",
    "    return np.matrix(a).T\n",
    "\n",
    "def m2a(m):\n",
    "    return np.array(m).squeeze()\n",
    "\n",
    "class UnicycleDerived(c.ActionModelAbstract):\n",
    "    def __init__(self, nn):\n",
    "        c.ActionModelAbstract.__init__(self, c.StateVector(3), 2, 5)\n",
    "        self.net = nn\n",
    "\n",
    "    def calc(self, data, x, u=None):\n",
    "        prediction = self.net.predict(x.reshape(1, -1))\n",
    "        #print(prediction)\n",
    "        data.r = a2m(prediction)\n",
    "        \n",
    "        data.cost = .5 * sum(m2a(data.r)**2)\n",
    "        \n",
    "        cost = 0.5 * np.dot(data.r.T, data.r)\n",
    "        #print(data.cost, cost)\n",
    "\n",
    "    def calcDiff(self, data, x, u=None, recalc=True):\n",
    "        data.Lx = a2m(m2a(x) * (10**2 * self.state.nx))\n",
    "        print(x, self.state.nx)\n",
    "\n",
    "        "
   ]
  },
  {
   "cell_type": "code",
   "execution_count": 34,
   "metadata": {},
   "outputs": [
    {
     "name": "stdout",
     "output_type": "stream",
     "text": [
      "[0. 0. 0.] 3\n",
      "[-2.22635988e-12  1.63229746e+00  2.10885124e-13] 3\n",
      "[-1.44796527e-11 -1.30492067e+00  1.36533001e-10] 3\n",
      "[-1.13920925e-09  5.39266846e-01 -1.40149514e-09] 3\n",
      "[ 5.96197968e-08  3.08742788e-01 -3.67504542e-08] 3\n",
      "[1.22870764e-07 2.02341754e-01 1.86744536e-07] 3\n",
      "[-1.11125328e-06  2.28613005e-02 -6.12992802e-07] 3\n",
      "[5.11660781e-06 4.53388625e-02 2.85815241e-06] 3\n",
      "[-2.47806045e-05  4.72797117e-02 -1.43201804e-05] 3\n",
      "[1.21431696e-04 4.86649022e-02 7.12691613e-05] 3\n",
      "[-0.0005947   0.04911451 -0.00035431] 3\n",
      "[0.00291264 0.04946682 0.00176134] 3\n",
      "[-0.014268    0.04957818 -0.0087544 ] 3\n",
      "[-0.0037465   0.04956094 -0.00222274] 3\n",
      "[0.00730183 0.04962559 0.00441522] 3\n",
      "[0.00191781 0.04962504 0.00111999] 3\n",
      "[-0.00373722  0.04965647 -0.00222588] 3\n",
      "[0.0017735  0.04966593 0.00109766] 3\n",
      "[-0.00084235  0.04967558 -0.00054008] 3\n",
      "[0.00412874 0.04971291 0.00268104] 3\n",
      "[0.00108274 0.04971277 0.00068271] 3\n",
      "[-0.0005145   0.04971798 -0.00033557] 3\n",
      "[0.0025222  0.04973782 0.00166523] 3\n",
      "[0.00159169 0.04973782 0.00104482] 3\n",
      "[0.0010045  0.04973825 0.00065551] 3\n",
      "[0.00063394 0.04973883 0.00041123] 3\n",
      "[-0.00030145  0.04974149 -0.00020182] 3\n",
      "[0.00147814 0.0497515  0.00100095] 3\n",
      "[0.00120542 0.04975155 0.00081457] 3\n",
      "[0.00109422 0.04975159 0.00073873] 3\n",
      "[0.00104375 0.04975161 0.00070434] 3\n",
      "[0.00099561 0.04975164 0.00067155] 3\n",
      "[0.00097265 0.04975166 0.00065592] 3\n",
      "[0.00096143 0.04975166 0.00064828] 3\n",
      "[0.00095035 0.04975167 0.00064074] 3\n",
      "[0.00093939 0.04975168 0.00063328] 3\n",
      "[0.00092864 0.04975169 0.00062596] 3\n",
      "[0.00090868 0.0497517  0.00061237] 3\n",
      "[0.00080656 0.04975183 0.00054222] 3\n",
      "[0.00071611 0.04975197 0.0004802 ] 3\n",
      "[0.00055585 0.04975226 0.00037049] 3\n",
      "[0.0003085  0.04975285 0.00020184] 3\n",
      "[-0.00022986  0.04975524 -0.00016091] 3\n",
      "[0.00064852 0.04975887 0.00045185] 3\n",
      "[0.00054774 0.04975904 0.00037878] 3\n",
      "[0.00052707 0.04975908 0.00036387] 3\n",
      "[0.00051719 0.0497591  0.00035675] 3\n",
      "[0.00051598 0.0497591  0.00035588] 3\n"
     ]
    },
    {
     "data": {
      "text/plain": [
       "False"
      ]
     },
     "execution_count": 34,
     "metadata": {},
     "output_type": "execute_result"
    }
   ],
   "source": [
    "terminal_model = UnicycleDerived(nn)\n",
    "x0 = np.array([np.random.uniform(-2.1, 2.1), np.random.uniform(-2.1, 2.1), np.random.uniform(0,1)])\n",
    "T = 30\n",
    "problem = c.ShootingProblem(x0.T, [ model ] * T, terminal_model)\n",
    "ddp = c.SolverDDP(problem)\n",
    "ddp.solve()\n"
   ]
  },
  {
   "cell_type": "code",
   "execution_count": null,
   "metadata": {},
   "outputs": [],
   "source": []
  }
 ],
 "metadata": {
  "kernelspec": {
   "display_name": "Python 3",
   "language": "python",
   "name": "python3"
  },
  "language_info": {
   "codemirror_mode": {
    "name": "ipython",
    "version": 3
   },
   "file_extension": ".py",
   "mimetype": "text/x-python",
   "name": "python",
   "nbconvert_exporter": "python",
   "pygments_lexer": "ipython3",
   "version": "3.6.9"
  }
 },
 "nbformat": 4,
 "nbformat_minor": 2
}
