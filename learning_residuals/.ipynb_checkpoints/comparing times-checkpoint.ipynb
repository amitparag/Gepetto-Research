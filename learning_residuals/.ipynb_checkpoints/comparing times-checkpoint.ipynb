{
 "cells": [
  {
   "cell_type": "code",
   "execution_count": 9,
   "metadata": {},
   "outputs": [
    {
     "name": "stdout",
     "output_type": "stream",
     "text": [
      "The autoreload extension is already loaded. To reload it, use:\n",
      "  %reload_ext autoreload\n"
     ]
    }
   ],
   "source": [
    "%load_ext autoreload\n",
    "%autoreload 2"
   ]
  },
  {
   "cell_type": "code",
   "execution_count": 10,
   "metadata": {},
   "outputs": [],
   "source": [
    "import numpy as np\n",
    "import crocoddyl\n",
    "from time import perf_counter\n",
    "crocoddyl.switchToNumpyArray()"
   ]
  },
  {
   "cell_type": "markdown",
   "metadata": {},
   "source": [
    "### Generate 1000 starting points for unicycle"
   ]
  },
  {
   "cell_type": "code",
   "execution_count": 11,
   "metadata": {},
   "outputs": [],
   "source": [
    "positions = []\n",
    "for _ in range(1000):    \n",
    "    x0 = np.array([np.random.uniform(-2.1, 2.1), np.random.uniform(-2.1, 2.1), np.random.uniform(0,1)])\n",
    "    positions.append(x0)\n",
    "    \n"
   ]
  },
  {
   "cell_type": "markdown",
   "metadata": {},
   "source": [
    "#### Solve in the normal way"
   ]
  },
  {
   "cell_type": "code",
   "execution_count": 12,
   "metadata": {},
   "outputs": [
    {
     "name": "stdout",
     "output_type": "stream",
     "text": [
      " Time taken to solve 1000 problems is  1.3777787660001195\n"
     ]
    }
   ],
   "source": [
    "model = crocoddyl.ActionModelUnicycle()\n",
    "T = 30\n",
    "start = perf_counter()\n",
    "for x0 in positions:\n",
    "    problem = crocoddyl.ShootingProblem(x0.T, [ model ] * T, model)\n",
    "    ddp = crocoddyl.SolverDDP(problem)\n",
    "    ddp.solve()\n",
    "end = perf_counter()\n",
    "print(\" Time taken to solve 1000 problems is \", end-start)"
   ]
  },
  {
   "cell_type": "markdown",
   "metadata": {},
   "source": [
    "### Define the terminal model. This is same as crocoddyl.ActionModelUnicycle()"
   ]
  },
  {
   "cell_type": "code",
   "execution_count": 13,
   "metadata": {},
   "outputs": [],
   "source": [
    "def a2m(a):\n",
    "    return np.matrix(a).T\n",
    "\n",
    "def m2a(m):\n",
    "    return np.array(m).squeeze()\n",
    "crocoddyl.switchToNumpyMatrix()\n",
    "class UnicycleTerminal(crocoddyl.ActionModelAbstract):\n",
    "    def __init__(self):\n",
    "        crocoddyl.ActionModelAbstract.__init__(self, crocoddyl.StateVector(3), 2, 5)\n",
    "        self.dt = .1\n",
    "        self.costWeights = [10., 1.]\n",
    "\n",
    "    def calc(self, data, x, u=None):\n",
    "        if u is None:\n",
    "            u = self.unone\n",
    "        v, w = m2a(u)\n",
    "        px, py, theta = m2a(x)\n",
    "        c, s = np.cos(theta), np.sin(theta)\n",
    "        # Rollout the dynamics\n",
    "        data.xnext = a2m([px + c * v * self.dt, py + s * v * self.dt, theta + w * self.dt])\n",
    "        # Compute the cost value\n",
    "        data.r = np.vstack([self.costWeights[0] * x, self.costWeights[1] * u])\n",
    "        data.cost = .5 * sum(m2a(data.r)**2)\n",
    "\n",
    "    def calcDiff(self, data, x, u=None, recalc=True):\n",
    "        if u is None:\n",
    "            u = self.unone\n",
    "        if recalc:\n",
    "            self.calc(data, x, u)\n",
    "        v, w = m2a(u)\n",
    "        px, py, theta = m2a(x)\n",
    "        # Cost derivatives\n",
    "        data.Lx = a2m(m2a(x) * ([self.costWeights[0]**2] * self.state.nx))\n",
    "        data.Lu = a2m(m2a(u) * ([self.costWeights[1]**2] * self.nu))\n",
    "        data.Lxx = np.diag([self.costWeights[0]**2] * self.state.nx)\n",
    "        data.Luu = np.diag([self.costWeights[1]**2] * self.nu)\n",
    "        # Dynamic derivatives\n",
    "        c, s, dt = np.cos(theta), np.sin(theta), self.dt\n",
    "        v, w = m2a(u)\n",
    "        data.Fx = np.matrix([[1, 0, -s * v * dt], [0, 1, c * v * dt], [0, 0, 1]])\n",
    "        data.Fu = np.matrix([[c * self.dt, 0], [s * self.dt, 0], [0, self.dt]])\n",
    "\n",
    "\n"
   ]
  },
  {
   "cell_type": "markdown",
   "metadata": {},
   "source": [
    "#### Now solve using the terminal model"
   ]
  },
  {
   "cell_type": "code",
   "execution_count": 14,
   "metadata": {},
   "outputs": [
    {
     "name": "stdout",
     "output_type": "stream",
     "text": [
      " Time taken to solve 1000 problems is  8.834390406998864\n"
     ]
    }
   ],
   "source": [
    "model = crocoddyl.ActionModelUnicycle()\n",
    "terminal_model = UnicycleTerminal()\n",
    "T = 30\n",
    "start = perf_counter()\n",
    "for x0 in positions:\n",
    "    problem = crocoddyl.ShootingProblem(x0.T, [ model ] * T, terminal_model)\n",
    "    ddp = crocoddyl.SolverDDP(problem)\n",
    "    ddp.solve()\n",
    "end = perf_counter()\n",
    "print(\" Time taken to solve 1000 problems is \", end-start)"
   ]
  },
  {
   "cell_type": "code",
   "execution_count": null,
   "metadata": {},
   "outputs": [],
   "source": []
  }
 ],
 "metadata": {
  "kernelspec": {
   "display_name": "Python 3",
   "language": "python",
   "name": "python3"
  },
  "language_info": {
   "codemirror_mode": {
    "name": "ipython",
    "version": 3
   },
   "file_extension": ".py",
   "mimetype": "text/x-python",
   "name": "python",
   "nbconvert_exporter": "python",
   "pygments_lexer": "ipython3",
   "version": "3.6.9"
  }
 },
 "nbformat": 4,
 "nbformat_minor": 2
}
