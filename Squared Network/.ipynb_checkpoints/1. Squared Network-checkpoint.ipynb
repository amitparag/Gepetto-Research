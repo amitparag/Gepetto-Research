{
 "cells": [
  {
   "cell_type": "code",
   "execution_count": 1,
   "metadata": {},
   "outputs": [],
   "source": [
    "%load_ext autoreload\n",
    "%autoreload 2 "
   ]
  },
  {
   "cell_type": "code",
   "execution_count": 3,
   "metadata": {},
   "outputs": [
    {
     "ename": "ImportError",
     "evalue": "cannot import name 'SQnet'",
     "output_type": "error",
     "traceback": [
      "\u001b[0;31m---------------------------------------------------------------------------\u001b[0m",
      "\u001b[0;31mImportError\u001b[0m                               Traceback (most recent call last)",
      "\u001b[0;32m<ipython-input-3-59c7cce875e0>\u001b[0m in \u001b[0;36m<module>\u001b[0;34m()\u001b[0m\n\u001b[1;32m      5\u001b[0m \u001b[0;32mimport\u001b[0m \u001b[0mtorch\u001b[0m\u001b[0;34m.\u001b[0m\u001b[0moptim\u001b[0m \u001b[0;32mas\u001b[0m \u001b[0moptim\u001b[0m\u001b[0;34m\u001b[0m\u001b[0;34m\u001b[0m\u001b[0m\n\u001b[1;32m      6\u001b[0m \u001b[0;32mfrom\u001b[0m \u001b[0mtqdm\u001b[0m \u001b[0;32mimport\u001b[0m \u001b[0mtqdm\u001b[0m\u001b[0;34m\u001b[0m\u001b[0;34m\u001b[0m\u001b[0m\n\u001b[0;32m----> 7\u001b[0;31m \u001b[0;32mfrom\u001b[0m \u001b[0msqnet\u001b[0m \u001b[0;32mimport\u001b[0m \u001b[0mSQnet\u001b[0m\u001b[0;34m\u001b[0m\u001b[0;34m\u001b[0m\u001b[0m\n\u001b[0m\u001b[1;32m      8\u001b[0m \u001b[0;32mfrom\u001b[0m \u001b[0mfnet\u001b[0m \u001b[0;32mimport\u001b[0m \u001b[0mFNet\u001b[0m\u001b[0;34m\u001b[0m\u001b[0;34m\u001b[0m\u001b[0m\n\u001b[1;32m      9\u001b[0m \u001b[0;32mimport\u001b[0m \u001b[0mmatplotlib\u001b[0m\u001b[0;34m.\u001b[0m\u001b[0mpyplot\u001b[0m \u001b[0;32mas\u001b[0m \u001b[0mplt\u001b[0m\u001b[0;34m\u001b[0m\u001b[0;34m\u001b[0m\u001b[0m\n",
      "\u001b[0;31mImportError\u001b[0m: cannot import name 'SQnet'"
     ]
    }
   ],
   "source": [
    "import numpy as np\n",
    "import crocoddyl\n",
    "import torch \n",
    "import torch.nn as nn\n",
    "import torch.optim as optim\n",
    "from tqdm import tqdm\n",
    "from sqnet import SQNet\n",
    "from fnet import FNet\n",
    "import matplotlib.pyplot as plt\n",
    "%matplotlib inline   "
   ]
  },
  {
   "cell_type": "code",
   "execution_count": null,
   "metadata": {},
   "outputs": [],
   "source": [
    "def data(size=1000):\n",
    "    x = []\n",
    "    y = []\n",
    "    \n",
    "    for _ in range(size):\n",
    "        xyz = np.array([np.random.uniform(-2.1, 2.1), \n",
    "                   np.random.uniform(-2.1, 2.1),\n",
    "                   0.])\n",
    "        \n",
    "        model = crocoddyl.ActionModelUnicycle()\n",
    "        T = 30\n",
    "        model.costWeights = np.matrix([1,1]).T\n",
    "\n",
    "        problem = crocoddyl.ShootingProblem(xyz.T, [ model ] * T, model)\n",
    "        ddp = crocoddyl.SolverDDP(problem)\n",
    "        ddp.solve([], [], 1000)\n",
    "        x.append(xyz)\n",
    "        y.append([ddp.cost])\n",
    "        \n",
    "    return torch.tensor(x, dtype = torch.float32), torch.tensor(y, dtype = torch.float32)"
   ]
  },
  {
   "cell_type": "code",
   "execution_count": null,
   "metadata": {},
   "outputs": [],
   "source": []
  },
  {
   "cell_type": "code",
   "execution_count": null,
   "metadata": {},
   "outputs": [],
   "source": [
    "sqnet  = torch.load(\"sqnet.pth\")\n",
    "fnet = torch.load(\"value.pth\")"
   ]
  },
  {
   "cell_type": "code",
   "execution_count": null,
   "metadata": {},
   "outputs": [],
   "source": [
    "\n",
    "x = 0.\n",
    "y = np.linspace(-1., 1., 100)\n",
    "xtest = np.array([ [x,x2, 0.] for x2 in y ])"
   ]
  },
  {
   "cell_type": "code",
   "execution_count": null,
   "metadata": {},
   "outputs": [],
   "source": [
    "sqh = []\n",
    "vh = []\n",
    "ch = []\n",
    "for test in xtest:\n",
    "    test = torch.tensor(test, dtype = torch.float32)\n",
    "    h = sqnet.jacobian(test).detach().numpy()\n",
    "    sqh.append(h[1])\n",
    "    \n",
    "    h_ = torch.autograd.functional.jacobian(fnet, test).detach().numpy().squeeze()\n",
    "    \n",
    "    vh.append(h_[1])\n",
    "    \n",
    "    model = crocoddyl.ActionModelUnicycle()\n",
    "    T = 30\n",
    "    model.costWeights = np.matrix([1,1]).T\n",
    "\n",
    "    problem = crocoddyl.ShootingProblem(np.array(test).T, [ model ] * T, model)\n",
    "    ddp = crocoddyl.SolverDDP(problem)\n",
    "    ddp.solve([], [], 1000)\n",
    "    vxx = ddp.Vx[0]\n",
    "    ch.append(vxx[1])\n",
    "    \n",
    "    "
   ]
  },
  {
   "cell_type": "code",
   "execution_count": null,
   "metadata": {},
   "outputs": [],
   "source": [
    "plt.clf()\n",
    "plt.figure(figsize=(8, 8))\n",
    "plt.plot(xtest[:,1], sqh, '--b', label = \"Squared Network\")\n",
    "plt.plot(xtest[:,1], ch, '--r', label = \"Crocoddyl\")\n",
    "plt.plot(xtest[:,1], vh, '--g', label = \"FeedForward Network\")\n",
    "plt.title(f\" Vx[1, 1] for x = {x}\")\n",
    "plt.legend()\n",
    "#plt.yticks(np.arange(0, 50, 10))\n",
    "#plt.savefig(\"Grad2.png\")"
   ]
  },
  {
   "cell_type": "code",
   "execution_count": null,
   "metadata": {},
   "outputs": [],
   "source": [
    "sqh = []\n",
    "vh = []\n",
    "ch = []\n",
    "for test in xtest:\n",
    "    test = torch.tensor(test, dtype = torch.float32)\n",
    "    h = sqnet.hessian(test).detach().numpy()\n",
    "    sqh.append(np.linalg.norm(h))\n",
    "    \n",
    "    h_ = torch.autograd.functional.hessian(fnet, test).detach().numpy().squeeze()\n",
    "    \n",
    "    vh.append(np.linalg.norm(h_))\n",
    "    \n",
    "    model = crocoddyl.ActionModelUnicycle()\n",
    "    T = 30\n",
    "    model.costWeights = np.matrix([1,1]).T\n",
    "\n",
    "    problem = crocoddyl.ShootingProblem(np.array(test).T, [ model ] * T, model)\n",
    "    ddp = crocoddyl.SolverDDP(problem)\n",
    "    ddp.solve([], [], 1000)\n",
    "    vxx = ddp.Vxx[0]\n",
    "    ch.append(np.linalg.norm(vxx))\n",
    "    "
   ]
  },
  {
   "cell_type": "code",
   "execution_count": null,
   "metadata": {},
   "outputs": [],
   "source": []
  }
 ],
 "metadata": {
  "kernelspec": {
   "display_name": "Python 3",
   "language": "python",
   "name": "python3"
  },
  "language_info": {
   "codemirror_mode": {
    "name": "ipython",
    "version": 3
   },
   "file_extension": ".py",
   "mimetype": "text/x-python",
   "name": "python",
   "nbconvert_exporter": "python",
   "pygments_lexer": "ipython3",
   "version": "3.6.9"
  }
 },
 "nbformat": 4,
 "nbformat_minor": 2
}
