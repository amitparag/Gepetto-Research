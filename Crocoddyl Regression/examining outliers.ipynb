{
 "cells": [
  {
   "cell_type": "code",
   "execution_count": 1,
   "metadata": {},
   "outputs": [],
   "source": [
    "%load_ext autoreload\n",
    "%autoreload 2"
   ]
  },
  {
   "cell_type": "code",
   "execution_count": 2,
   "metadata": {},
   "outputs": [],
   "source": [
    "import numpy as np\n",
    "import torch\n",
    "import crocoddyl\n",
    "from utils import *\n",
    "from neural_net import *\n",
    "from outliers import *\n",
    "import time\n",
    "import matplotlib.pyplot as plt\n",
    "\n"
   ]
  },
  {
   "cell_type": "code",
   "execution_count": 3,
   "metadata": {},
   "outputs": [],
   "source": [
    "# Load the two neural nets\n",
    "\n",
    "# net1 is the neural net trained on 1K datapoints\n",
    "net1 = torch.load(\"net1.pth\")\n",
    "\n",
    "# net2 is the neural net trained on 100K points\n",
    "#net2 = torch.load(\"net2.pth\") "
   ]
  },
  {
   "cell_type": "code",
   "execution_count": null,
   "metadata": {},
   "outputs": [],
   "source": []
  },
  {
   "cell_type": "code",
   "execution_count": null,
   "metadata": {},
   "outputs": [],
   "source": []
  },
  {
   "cell_type": "code",
   "execution_count": 4,
   "metadata": {},
   "outputs": [],
   "source": [
    "class UnicycleTerminal(crocoddyl.ActionModelAbstract):\n",
    "    \"\"\"\n",
    "    This class is the terminal model for unicycle crocoddyl with neural net inside it.\n",
    "    \n",
    "    Given a state x, the neural net predicts the value function in the calc.\n",
    "            # net(x) = data.cost\n",
    "            \n",
    "    Given the state x, the jacobian and hessian of the net(x) with respect to x are calculated\n",
    "            # jacobian(net(x), x) = data.Lx\n",
    "            # hessian(net(x), x)  = data.Lxx\n",
    "    \n",
    "    \"\"\"\n",
    "    def __init__(self, net):\n",
    "        \"\"\"\n",
    "        @params\n",
    "            1: network\n",
    "        \n",
    "        usage: terminal_model = UnicycleTerminal(net)   \n",
    "        \n",
    "        \"\"\"\n",
    "        crocoddyl.ActionModelAbstract.__init__(self, crocoddyl.StateVector(3), 2, 5)\n",
    "        self.net = net\n",
    "        \n",
    "        \n",
    "    def calc(self, data, x, u=None):\n",
    "        \n",
    "        x = torch.as_tensor(m2a(x), dtype = torch.float32).resize_(1, 3)\n",
    "        \n",
    "        with torch.no_grad():\n",
    "            data.cost = self.net(x).item()\n",
    "\n",
    "    def calcDiff(self, data, x, u=None):\n",
    "        \n",
    "        if u is None:\n",
    "            u = self.unone\n",
    "        \n",
    "        x0 = torch.as_tensor(m2a(x), dtype = torch.float32).resize_(1, 3)\n",
    "        \n",
    "        x0.requires_grad_(True)\n",
    "        \n",
    "        j = jacobian(self.net(x0), x0)        \n",
    "        h = hessian(self.net(x0), x0)\n",
    "        \n",
    "        data.Lx = a2m(j.detach().numpy())\n",
    "        data.Lxx = a2m(h.detach().numpy())\n",
    "        \n",
    "        _h = h.detach().numpy().reshape(3, 3)\n",
    "        #print(f\"Hessian {_h}\")\n",
    "        #print(f\"EigenVals of Hessian are {np.linalg.eigvals(_h)}\")\n",
    "        #print(\"...\")\n",
    "        \n",
    "\n",
    "        "
   ]
  },
  {
   "cell_type": "code",
   "execution_count": null,
   "metadata": {},
   "outputs": [],
   "source": [
    "plot_neural_net(net1, \"net1\")"
   ]
  },
  {
   "cell_type": "code",
   "execution_count": 6,
   "metadata": {},
   "outputs": [],
   "source": []
  },
  {
   "cell_type": "code",
   "execution_count": null,
   "metadata": {},
   "outputs": [],
   "source": [
    "plot_2(torchnet, \"net1_x_cons\")"
   ]
  },
  {
   "cell_type": "code",
   "execution_count": null,
   "metadata": {},
   "outputs": [],
   "source": []
  },
  {
   "cell_type": "code",
   "execution_count": null,
   "metadata": {},
   "outputs": [],
   "source": []
  },
  {
   "cell_type": "code",
   "execution_count": null,
   "metadata": {},
   "outputs": [],
   "source": []
  },
  {
   "cell_type": "code",
   "execution_count": null,
   "metadata": {},
   "outputs": [],
   "source": []
  }
 ],
 "metadata": {
  "kernelspec": {
   "display_name": "Python 3",
   "language": "python",
   "name": "python3"
  },
  "language_info": {
   "codemirror_mode": {
    "name": "ipython",
    "version": 3
   },
   "file_extension": ".py",
   "mimetype": "text/x-python",
   "name": "python",
   "nbconvert_exporter": "python",
   "pygments_lexer": "ipython3",
   "version": "3.6.9"
  }
 },
 "nbformat": 4,
 "nbformat_minor": 2
}
