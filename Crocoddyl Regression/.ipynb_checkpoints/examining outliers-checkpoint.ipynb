{
 "cells": [
  {
   "cell_type": "code",
   "execution_count": 1,
   "metadata": {},
   "outputs": [],
   "source": [
    "%load_ext autoreload\n",
    "%autoreload 2"
   ]
  },
  {
   "cell_type": "code",
   "execution_count": 2,
   "metadata": {},
   "outputs": [],
   "source": [
    "import numpy as np\n",
    "import torch\n",
    "import crocoddyl\n",
    "from utils import *\n",
    "from neural_net import *\n",
    "import time"
   ]
  },
  {
   "cell_type": "code",
   "execution_count": 3,
   "metadata": {},
   "outputs": [],
   "source": [
    "torchNet = torch.load(\"CostNet.pth\")"
   ]
  },
  {
   "cell_type": "code",
   "execution_count": 4,
   "metadata": {},
   "outputs": [],
   "source": [
    "\n",
    "class UnicycleTerminal(crocoddyl.ActionModelAbstract):\n",
    "    \"\"\"\n",
    "    This class is the terminal model for unicycle crocoddyl with neural net inside it.\n",
    "    \n",
    "    Given a state x, the neural net predicts the value function in the calc.\n",
    "            # net(x) = data.cost\n",
    "            \n",
    "    Given the state x, the jacobian and hessian of the net(x) with respect to x are calculated\n",
    "            # jacobian(net(x), x) = data.Lx\n",
    "            # hessian(net(x), x)  = data.Lxx\n",
    "    \n",
    "    \"\"\"\n",
    "    def __init__(self, net):\n",
    "        \"\"\"\n",
    "        @params\n",
    "            1: network\n",
    "        \n",
    "        usage: terminal_model = UnicycleTerminal(net)   \n",
    "        \n",
    "        \"\"\"\n",
    "        crocoddyl.ActionModelAbstract.__init__(self, crocoddyl.StateVector(3), 2, 5)\n",
    "        self.net = net\n",
    "        \n",
    "        \n",
    "    def calc(self, data, x, u=None):\n",
    "        \n",
    "        x = torch.as_tensor(m2a(x), dtype = torch.float32).resize_(1, 3)\n",
    "        \n",
    "        with torch.no_grad():\n",
    "            data.cost = self.net(x).item()\n",
    "\n",
    "    def calcDiff(self, data, x, u=None):\n",
    "        \n",
    "        if u is None:\n",
    "            u = self.unone\n",
    "        \n",
    "        x0 = torch.as_tensor(m2a(x), dtype = torch.float32).resize_(1, 3)\n",
    "        \n",
    "        x0.requires_grad_(True)\n",
    "        \n",
    "        j = jacobian(self.net(x0), x0)        \n",
    "        h = hessian(self.net(x0), x0)\n",
    "        \n",
    "        data.Lx = a2m(j.detach().numpy())\n",
    "        data.Lxx = a2m(h.detach().numpy())\n",
    "        \n",
    "        #_h = h.detach().numpy().reshape(3, 3)\n",
    "        #print(f\"Eigenvals of hessian {np.linalg.eigvals(_h)}\")\n",
    "        \n",
    "\n",
    "        "
   ]
  },
  {
   "cell_type": "code",
   "execution_count": 5,
   "metadata": {},
   "outputs": [],
   "source": [
    "outliers = np.array([[1.99597335,  0.12684784, 0],\n",
    "                    [1.68250707,   1.08128163, 0],\n",
    "                    [1.44746808,   1.38015802, 0],\n",
    "                    [1.05445094,   1.69945086, 0],\n",
    "                    [0.71377244,   1.86829572, 0],\n",
    "                    [0.09516383,   1.99773468, 0],\n",
    "                    [-0.28462968,  1.97964288, 0],\n",
    "                    [-0.53294763,  1.92768432, 0],\n",
    "                    [-1.87938524,  0.68404029, 0],\n",
    "                    [-1.97487778, -0.31600279, 0],\n",
    "                    [-0.28462968, -1.97964288, 0],\n",
    "                    [ 0.34729636, -1.96961551, 0],\n",
    "                    [ 0.71377244, -1.86829572, 0],\n",
    "                    [ 1.61054052, -1.18581586, 0]])"
   ]
  },
  {
   "cell_type": "code",
   "execution_count": 6,
   "metadata": {},
   "outputs": [],
   "source": [
    "def solve_terminal_crocoddyl():\n",
    "    \"\"\"\n",
    "    Solve the problems with terminal crocoddyl\n",
    "    \n",
    "    \"\"\"\n",
    "\n",
    "    iterations, cost, trajectories = [], [], []\n",
    "    \n",
    "    for xyz in outliers:\n",
    "        model = crocoddyl.ActionModelUnicycle()\n",
    "        terminal_model = UnicycleTerminal(torchNet)\n",
    "\n",
    "        T = 30\n",
    "        model.costWeights = np.matrix([1,1]).T\n",
    "\n",
    "        problem = crocoddyl.ShootingProblem(m2a(xyz).T, [ model ] * T, terminal_model)\n",
    "        ddp = crocoddyl.SolverDDP(problem)\n",
    "        ddp.solve([], [], 1000)\n",
    "        iterations.append(ddp.iter)\n",
    "        cost.append(ddp.cost)\n",
    "        trajectories.append(m2a(ddp.xs))\n",
    "        \n",
    "    return iterations, cost, trajectories   "
   ]
  },
  {
   "cell_type": "code",
   "execution_count": 7,
   "metadata": {},
   "outputs": [],
   "source": [
    "\n",
    "i, c, t = solve_terminal_crocoddyl()"
   ]
  },
  {
   "cell_type": "code",
   "execution_count": 8,
   "metadata": {},
   "outputs": [
    {
     "data": {
      "text/plain": [
       "[450, 371, 40, 1000, 111, 99, 113, 1000, 119, 193, 133, 152, 1000, 1000]"
      ]
     },
     "execution_count": 8,
     "metadata": {},
     "output_type": "execute_result"
    }
   ],
   "source": [
    "i"
   ]
  },
  {
   "cell_type": "code",
   "execution_count": 9,
   "metadata": {},
   "outputs": [],
   "source": [
    "def solve_crocoddyl():\n",
    "    \"\"\"\n",
    "    Solve the simple crocoddyl model\n",
    "    \n",
    "    \"\"\"\n",
    "    \n",
    "    iterations, cost, trajectories = [], [], []\n",
    "    \n",
    "    for xyz in outliers:\n",
    "        model = crocoddyl.ActionModelUnicycle()\n",
    "        T = 30\n",
    "        model.costWeights = np.matrix([1,1]).T\n",
    "\n",
    "        problem = crocoddyl.ShootingProblem(m2a(xyz).T, [ model ] * T, model)\n",
    "        ddp = crocoddyl.SolverDDP(problem)\n",
    "        ddp.solve([], [], 1000)\n",
    "        iterations.append(ddp.iter)\n",
    "        cost.append(ddp.cost)\n",
    "        trajectories.append(m2a(ddp.xs))\n",
    "        \n",
    "        \n",
    "    return iterations, cost, trajectories   "
   ]
  },
  {
   "cell_type": "code",
   "execution_count": 10,
   "metadata": {},
   "outputs": [],
   "source": [
    "i, _, _ = solve_crocoddyl()\n"
   ]
  },
  {
   "cell_type": "code",
   "execution_count": 11,
   "metadata": {},
   "outputs": [
    {
     "data": {
      "text/plain": [
       "[7, 14, 18, 26, 34, 68, 53, 40, 10, 8, 53, 49, 34, 15]"
      ]
     },
     "execution_count": 11,
     "metadata": {},
     "output_type": "execute_result"
    }
   ],
   "source": [
    "i"
   ]
  },
  {
   "cell_type": "code",
   "execution_count": null,
   "metadata": {},
   "outputs": [],
   "source": []
  }
 ],
 "metadata": {
  "kernelspec": {
   "display_name": "Python 3",
   "language": "python",
   "name": "python3"
  },
  "language_info": {
   "codemirror_mode": {
    "name": "ipython",
    "version": 3
   },
   "file_extension": ".py",
   "mimetype": "text/x-python",
   "name": "python",
   "nbconvert_exporter": "python",
   "pygments_lexer": "ipython3",
   "version": "3.6.9"
  }
 },
 "nbformat": 4,
 "nbformat_minor": 2
}
