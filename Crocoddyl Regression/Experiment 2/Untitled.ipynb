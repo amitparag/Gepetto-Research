{
 "cells": [
  {
   "cell_type": "code",
   "execution_count": 1,
   "metadata": {},
   "outputs": [
    {
     "ename": "SyntaxError",
     "evalue": "'return' outside function (<ipython-input-1-3b672b10fb5f>, line 52)",
     "output_type": "error",
     "traceback": [
      "\u001b[0;36m  File \u001b[0;32m\"<ipython-input-1-3b672b10fb5f>\"\u001b[0;36m, line \u001b[0;32m52\u001b[0m\n\u001b[0;31m    return xtrain, ytrain\u001b[0m\n\u001b[0m    ^\u001b[0m\n\u001b[0;31mSyntaxError\u001b[0m\u001b[0;31m:\u001b[0m 'return' outside function\n"
     ]
    }
   ],
   "source": [
    "\n",
    "import numpy as np\n",
    "import torch \n",
    "import crocoddyl\n",
    "\n",
    "\n",
    "class Data():\n",
    "    \"\"\"\"\"\"\n",
    "    def __init__(self, \n",
    "                timeHorizon:int = 30,\n",
    "                ):\n",
    "        \n",
    "        self.T = timeHorizon\n",
    "        \n",
    "    \n",
    "    \n",
    "    def training_data(size:int = 1000000,\n",
    "                      theta:float = 0.):\n",
    "        \n",
    "        \"\"\"\n",
    "        @params:\n",
    "            1: size  = size of the dataset\n",
    "            2: theta = float, between 0, 1\n",
    "    \n",
    "        Returns xtrain, ytrain.\n",
    "        Returns data in the form of x --> V(x)\n",
    "        \n",
    "        \"\"\"\n",
    "\n",
    "        _xtrain = []\n",
    "        _ytrain = []\n",
    "\n",
    "\n",
    "        for _ in range(size):\n",
    "            # Generate random starting configuration\n",
    "            xyz = [np.random.uniform(-2.1, 2.1), \n",
    "                   np.random.uniform(-2.1, 2.1),\n",
    "                   theta]\n",
    "\n",
    "\n",
    "            model = crocoddyl.ActionModelUnicycle()\n",
    "            \n",
    "            model.costWeights = np.matrix([1,1]).T\n",
    "\n",
    "            problem = crocoddyl.ShootingProblem(m2a(xyz).T, [ model ] * self.T, model)\n",
    "            ddp = crocoddyl.SolverDDP(problem)\n",
    "            ddp.solve([], [], 1000)\n",
    "\n",
    "            cost = [ddp.cost]\n",
    "\n",
    "            _xtrain.append(xyz)\n",
    "            _ytrain.append(cost)\n",
    "\n",
    "        xtrain = torch.tensor(_xtrain, dtype = torch.float32)\n",
    "        ytrain = torch.tensor(_ytrain, dtype = torch.float32)\n",
    "\n",
    "        return xtrain, ytrain\n",
    "    \n",
    "    def _cost(xtest):\n",
    "        \"\"\"\n",
    "        Returns the crocddyl cost, iterations array for a given array of starting positions\n",
    "\n",
    "        \"\"\"\n",
    "        cost = []\n",
    "        iterations = []\n",
    "        for xyz in xtest:\n",
    "            model = crocoddyl.ActionModelUnicycle()\n",
    "            T = 30\n",
    "            model.costWeights = np.matrix([1,1]).T\n",
    "\n",
    "            problem = crocoddyl.ShootingProblem(m2a(xyz).T, [ model ] * T, model)\n",
    "            ddp = crocoddyl.SolverDDP(problem)\n",
    "            ddp.solve()\n",
    "\n",
    "            cost.append(ddp.cost)\n",
    "            iterations.append(ddp.iter)\n",
    "\n",
    "        return cost, iterations\n",
    "\n",
    "    \n"
   ]
  },
  {
   "cell_type": "code",
   "execution_count": null,
   "metadata": {},
   "outputs": [],
   "source": []
  }
 ],
 "metadata": {
  "kernelspec": {
   "display_name": "Python 3",
   "language": "python",
   "name": "python3"
  },
  "language_info": {
   "codemirror_mode": {
    "name": "ipython",
    "version": 3
   },
   "file_extension": ".py",
   "mimetype": "text/x-python",
   "name": "python",
   "nbconvert_exporter": "python",
   "pygments_lexer": "ipython3",
   "version": "3.6.9"
  }
 },
 "nbformat": 4,
 "nbformat_minor": 2
}
