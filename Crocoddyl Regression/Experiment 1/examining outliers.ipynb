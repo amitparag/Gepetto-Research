{
 "cells": [
  {
   "cell_type": "code",
   "execution_count": 1,
   "metadata": {},
   "outputs": [],
   "source": [
    "%load_ext autoreload\n",
    "%autoreload 2"
   ]
  },
  {
   "cell_type": "code",
   "execution_count": 2,
   "metadata": {},
   "outputs": [],
   "source": [
    "import numpy as np\n",
    "import torch\n",
    "import crocoddyl\n",
    "from utils import *\n",
    "from neural_net import *\n",
    "import time\n",
    "\n",
    "\n"
   ]
  },
  {
   "cell_type": "code",
   "execution_count": 3,
   "metadata": {},
   "outputs": [],
   "source": [
    "torchNet = torch.load(\"CostNet.pth\")"
   ]
  },
  {
   "cell_type": "code",
   "execution_count": 4,
   "metadata": {},
   "outputs": [],
   "source": [
    "\n",
    "class UnicycleTerminal(crocoddyl.ActionModelAbstract):\n",
    "    \"\"\"\n",
    "    This class is the terminal model for unicycle crocoddyl with neural net inside it.\n",
    "    \n",
    "    Given a state x, the neural net predicts the value function in the calc.\n",
    "            # net(x) = data.cost\n",
    "            \n",
    "    Given the state x, the jacobian and hessian of the net(x) with respect to x are calculated\n",
    "            # jacobian(net(x), x) = data.Lx\n",
    "            # hessian(net(x), x)  = data.Lxx\n",
    "    \n",
    "    \"\"\"\n",
    "    def __init__(self, net):\n",
    "        \"\"\"\n",
    "        @params\n",
    "            1: network\n",
    "        \n",
    "        usage: terminal_model = UnicycleTerminal(net)   \n",
    "        \n",
    "        \"\"\"\n",
    "        crocoddyl.ActionModelAbstract.__init__(self, crocoddyl.StateVector(3), 2, 5)\n",
    "        self.net = net\n",
    "        \n",
    "        \n",
    "    def calc(self, data, x, u=None):\n",
    "        \n",
    "        x = torch.as_tensor(m2a(x), dtype = torch.float32).resize_(1, 3)\n",
    "        \n",
    "        with torch.no_grad():\n",
    "            data.cost = self.net(x).item()\n",
    "\n",
    "    def calcDiff(self, data, x, u=None):\n",
    "        \n",
    "        if u is None:\n",
    "            u = self.unone\n",
    "        \n",
    "        x0 = torch.as_tensor(m2a(x), dtype = torch.float32).resize_(1, 3)\n",
    "        \n",
    "        x0.requires_grad_(True)\n",
    "        \n",
    "        j = jacobian(self.net(x0), x0)        \n",
    "        h = hessian(self.net(x0), x0)\n",
    "        \n",
    "        data.Lx = a2m(j.detach().numpy())\n",
    "        data.Lxx = a2m(h.detach().numpy())\n",
    "        \n",
    "        _h = h.detach().numpy().reshape(3, 3)\n",
    "        #print(f\"Hessian {_h}\")\n",
    "        #print(f\"EigenVals of Hessian are {np.linalg.eigvals(_h)}\")\n",
    "        #print(\"...\")\n",
    "        \n",
    "\n",
    "        "
   ]
  },
  {
   "cell_type": "code",
   "execution_count": 29,
   "metadata": {},
   "outputs": [],
   "source": [
    "\n",
    "outliers = np.array([[1.99597335,  0.12684784, 0],\n",
    "                    [1.68250707,   1.08128163, 0],\n",
    "                    [1.44746808,   1.38015802, 0],\n",
    "                    [1.05445094,   1.69945086, 0],\n",
    "                    [0.71377244,   1.86829572, 0],\n",
    "                    [0.09516383,   1.99773468, 0],\n",
    "                    [-0.28462968,  1.97964288, 0],\n",
    "                    [-0.53294763,  1.92768432, 0],\n",
    "                    [-1.87938524,  0.68404029, 0],\n",
    "                    [-1.97487778, -0.31600279, 0],\n",
    "                    [-0.28462968, -1.97964288, 0],\n",
    "                    [ 0.34729636, -1.96961551, 0],\n",
    "                    [ 0.71377244, -1.86829572, 0],\n",
    "                    [ 1.61054052, -1.18581586, 0]])\n",
    "                    \n",
    "\n"
   ]
  },
  {
   "cell_type": "code",
   "execution_count": 30,
   "metadata": {},
   "outputs": [],
   "source": [
    "def solve_terminal_crocoddyl():\n",
    "    \"\"\"\n",
    "    Solve the problems with terminal crocoddyl\n",
    "    \n",
    "    \"\"\"\n",
    "\n",
    "    iterations, cost, trajectories = [], [], []\n",
    "    \n",
    "    for xyz in outliers:\n",
    "        model = crocoddyl.ActionModelUnicycle()\n",
    "        terminal_model = UnicycleTerminal(torchNet)\n",
    "\n",
    "        T = 30\n",
    "        model.costWeights = np.matrix([1,1]).T\n",
    "\n",
    "        problem = crocoddyl.ShootingProblem(m2a(xyz).T, [ model ] * T, terminal_model)\n",
    "        ddp = crocoddyl.SolverDDP(problem)\n",
    "        ddp.solve([], [], 1000)\n",
    "        iterations.append(ddp.iter)\n",
    "        cost.append(ddp.cost)\n",
    "        trajectories.append(m2a(ddp.xs))\n",
    "        \n",
    "    return iterations, cost, trajectories   "
   ]
  },
  {
   "cell_type": "code",
   "execution_count": 31,
   "metadata": {},
   "outputs": [],
   "source": [
    "\n",
    "i, c, t = solve_terminal_crocoddyl()"
   ]
  },
  {
   "cell_type": "code",
   "execution_count": 32,
   "metadata": {},
   "outputs": [
    {
     "data": {
      "text/plain": [
       "[6, 1000, 1000, 70, 1000, 1000, 372, 358, 1000, 7, 595, 1000, 1000, 189]"
      ]
     },
     "execution_count": 32,
     "metadata": {},
     "output_type": "execute_result"
    }
   ],
   "source": [
    "i"
   ]
  },
  {
   "cell_type": "code",
   "execution_count": 6,
   "metadata": {},
   "outputs": [],
   "source": [
    "## Let's make a test array\n",
    "\n",
    "xrange = np.linspace(-2,2,100)\n",
    "xtest = torch.tensor([ [x1,x2, 0.] for x1 in xrange for x2 in xrange ], dtype = torch.float32)\n",
    "\n",
    "def gradient_net(xtest, net):\n",
    "    \"\"\"\n",
    "    Gradient of neural net with respect to input\n",
    "    \n",
    "    \"\"\"\n",
    "    gradient = []\n",
    "    \n",
    "    for x in xtest:\n",
    "        x.requires_grad=True\n",
    "        grad = jacobian(net(x), x).detach().numpy().tolist()\n",
    "        gradient.append(grad)\n",
    "    return np.array(gradient).squeeze()\n",
    "\n"
   ]
  },
  {
   "cell_type": "code",
   "execution_count": 7,
   "metadata": {},
   "outputs": [],
   "source": [
    "gradient = gradient_net(xtest, torchNet)"
   ]
  },
  {
   "cell_type": "code",
   "execution_count": 8,
   "metadata": {},
   "outputs": [],
   "source": [
    "pred = torchNet(xtest)"
   ]
  },
  {
   "cell_type": "code",
   "execution_count": 9,
   "metadata": {},
   "outputs": [],
   "source": [
    "p = pred.detach().numpy()"
   ]
  },
  {
   "cell_type": "code",
   "execution_count": 12,
   "metadata": {},
   "outputs": [
    {
     "data": {
      "text/plain": [
       "<Figure size 432x288 with 0 Axes>"
      ]
     },
     "metadata": {},
     "output_type": "display_data"
    },
    {
     "data": {
      "image/png": "[encoded data removed]",
      "text/plain": [
       "<Figure size 576x432 with 1 Axes>"
      ]
     },
     "metadata": {},
     "output_type": "display_data"
    }
   ],
   "source": [
    "import matplotlib.pyplot as plt\n",
    "\n",
    "plt.set_cmap('viridis')\n",
    "plt.figure(figsize=[8,6])\n",
    "\n",
    "z = gradient[:,0]\n",
    "plt.scatter(xtest[:,1],gradient[:,1])\n",
    "#plt.title(\"p, predictions\")\n",
    "#plt.colorbar()\n",
    "#plt.savefig(\"pred.png\")\n",
    "plt.show()"
   ]
  },
  {
   "cell_type": "code",
   "execution_count": 21,
   "metadata": {},
   "outputs": [],
   "source": [
    "def x_cons():\n",
    "    x = 0.99\n",
    "    y = np.linspace(-1, 1, 50)\n",
    "    return torch.tensor([ [x,x2, 0.] for x2 in y ], dtype = torch.float32)"
   ]
  },
  {
   "cell_type": "code",
   "execution_count": 22,
   "metadata": {},
   "outputs": [],
   "source": [
    "x_constant = x_cons()"
   ]
  },
  {
   "cell_type": "code",
   "execution_count": 23,
   "metadata": {},
   "outputs": [],
   "source": [
    "gradient_net_x_const = gradient_net(x_constant, torchNet)"
   ]
  },
  {
   "cell_type": "code",
   "execution_count": 28,
   "metadata": {},
   "outputs": [
    {
     "data": {
      "text/plain": [
       "<Figure size 432x288 with 0 Axes>"
      ]
     },
     "metadata": {},
     "output_type": "display_data"
    },
    {
     "data": {
      "image/png": "[encoded data removed]",
      "text/plain": [
       "<Figure size 576x432 with 1 Axes>"
      ]
     },
     "metadata": {},
     "output_type": "display_data"
    }
   ],
   "source": [
    "import matplotlib.pyplot as plt\n",
    "\n",
    "plt.set_cmap('viridis')\n",
    "plt.figure(figsize=[8,6])\n",
    "\n",
    "z = gradient[:,0]\n",
    "plt.scatter(x_constant[:,1],gradient_net_x_const[:,1], marker =\"*\")\n",
    "plt.title(\"X = 0.99, theta = 0\")\n",
    "plt.xlabel('y ')\n",
    "plt.ylabel('gradient 1')\n",
    "#plt.colorbar()\n",
    "plt.savefig(\"gradpiece1.png\")\n",
    "plt.show()"
   ]
  },
  {
   "cell_type": "code",
   "execution_count": null,
   "metadata": {},
   "outputs": [],
   "source": []
  },
  {
   "cell_type": "code",
   "execution_count": null,
   "metadata": {},
   "outputs": [],
   "source": []
  },
  {
   "cell_type": "code",
   "execution_count": null,
   "metadata": {},
   "outputs": [],
   "source": []
  },
  {
   "cell_type": "code",
   "execution_count": null,
   "metadata": {},
   "outputs": [],
   "source": [
    "import matplotlib.pyplot as plt\n",
    "scale = .01\n",
    "xs=[ np.array([x,y,0]) for x in np.arange(-1,1,scale) for y in np.arange(-1,1,scale) ]\n",
    "\n",
    "def cost(x):\n",
    "    x = torch.tensor(x, dtype=torch.float32)\n",
    "    return torchNet(x).detach().numpy()\n",
    "\n",
    "def grad(x):\n",
    "    x = torch.tensor(x, dtype=torch.float32)\n",
    "    x.requires_grad=True\n",
    "    grad = jacobian(torchNet(x), x).detach().numpy().tolist()\n",
    "    return grad\n",
    "\n",
    "\n",
    "print('compute costs')\n",
    "costs = [cost(x) for x in xs]\n",
    "print('compute grad')\n",
    "grads = [grad(x) for x in xs]\n",
    "\n",
    "\"\"\"\n",
    "plt.clf()\n",
    "plt.subplot(3,1,1)\n",
    "plt.scatter([x for x,y,t in xs],[y for x,y,t in xs],c=costs)\n",
    "plt.colorbar()\n",
    "plt.title('cost')\n",
    "plt.subplot(3,1,2)\n",
    "plt.scatter([x for x,y,t in xs],[y for x,y,t in xs],c=[g[0] for g in grads],vmin=-30,vmax=30)\n",
    "plt.colorbar()\n",
    "plt.title('dl/dx0')\n",
    "plt.subplot(3,1,3)\n",
    "plt.scatter([x for x,y,t in xs],[y for x,y,t in xs],c=[g[1] for g in grads],vmin=-30,vmax=30)\n",
    "plt.title('dl/dx1')\n",
    "plt.colorbar()\n",
    "\n",
    "plt.figure(2)\n",
    "plt.plot([y for x,y,z in xs[-200:]], [g[1] for g in grads[-200:]],'+')\n",
    "plt.title('grad[1] for x=%.2f,th=%.2f'% (xs[-1][0],xs[-1][2]))\n",
    "\"\"\""
   ]
  },
  {
   "cell_type": "code",
   "execution_count": null,
   "metadata": {},
   "outputs": [],
   "source": [
    "grads"
   ]
  },
  {
   "cell_type": "code",
   "execution_count": null,
   "metadata": {},
   "outputs": [],
   "source": []
  }
 ],
 "metadata": {
  "kernelspec": {
   "display_name": "Python 3",
   "language": "python",
   "name": "python3"
  },
  "language_info": {
   "codemirror_mode": {
    "name": "ipython",
    "version": 3
   },
   "file_extension": ".py",
   "mimetype": "text/x-python",
   "name": "python",
   "nbconvert_exporter": "python",
   "pygments_lexer": "ipython3",
   "version": "3.6.9"
  }
 },
 "nbformat": 4,
 "nbformat_minor": 2
}
