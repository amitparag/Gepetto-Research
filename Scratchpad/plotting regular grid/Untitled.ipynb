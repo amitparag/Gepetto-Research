{
 "cells": [
  {
   "cell_type": "code",
   "execution_count": 19,
   "metadata": {},
   "outputs": [],
   "source": [
    "import matplotlib.pyplot as plt\n",
    "import matplotlib.tri as tri\n",
    "import numpy as np\n",
    "from scipy.interpolate import griddata\n"
   ]
  },
  {
   "cell_type": "code",
   "execution_count": 20,
   "metadata": {},
   "outputs": [],
   "source": [
    "def generateNumpyData(size = 1000, test=False):\n",
    "    def a2m(a):\n",
    "        return np.matrix(a).T\n",
    "    \n",
    "    xtrain = []\n",
    "    ytrain = []\n",
    "    for _ in range(size):\n",
    "        if not test:\n",
    "            xyz = np.array([np.random.uniform(-2.1, 2.1), \n",
    "                       np.random.uniform(-2.1, 2.1),\n",
    "                       np.random.uniform(0, 1)])\n",
    "    \n",
    "        if test:\n",
    "            xyz = np.array([np.random.uniform(-0.2, 0.2), \n",
    "                       np.random.uniform(-.2, .2),\n",
    "                       np.random.uniform(0, 1)])\n",
    "    \n",
    "            \n",
    "        xtrain.append(xyz)\n",
    "\n",
    "\n",
    "        ytrain.append(np.array([sum(a2m(xyz))**2]))\n",
    "        \n",
    "    \n",
    "    return np.asarray(xtrain), np.asarray(ytrain).squeeze().reshape(1000,1)"
   ]
  },
  {
   "cell_type": "code",
   "execution_count": 24,
   "metadata": {},
   "outputs": [],
   "source": [
    "p, c = generateNumpyData()\n",
    "X, Y, Z  = p[:,0], p[:,1], c.reshape(1000,) "
   ]
  },
  {
   "cell_type": "code",
   "execution_count": 25,
   "metadata": {},
   "outputs": [],
   "source": [
    "xi = np.linspace(x[:,0].min(), x[:,0].max(), 1000)\n",
    "yi = np.linspace(x[:,1].min(), x[:,1].max(), 1000)\n",
    "zi = griddata((X, Y), Z, (xi[None,:], yi[:,None]), method='cubic')"
   ]
  },
  {
   "cell_type": "code",
   "execution_count": 36,
   "metadata": {},
   "outputs": [
    {
     "data": {
      "image/png": "[encoded data removed]",
      "text/plain": [
       "<Figure size 432x288 with 2 Axes>"
      ]
     },
     "metadata": {},
     "output_type": "display_data"
    }
   ],
   "source": [
    "# create x-y points to be used in heatmap\n",
    "xi = np.linspace(X.min(), X.max(), 1000)\n",
    "yi = np.linspace(Y.min(), Y.max(), 1000)\n",
    "\n",
    "\n",
    "\n",
    "y, x = np.meshgrid(xi,xi)\n",
    "\n",
    "z = zi\n",
    "\n",
    "\n",
    "\n",
    "z = z[:-1, :-1]\n",
    "z_min, z_max = -np.abs(z).max(), np.abs(z).max()\n",
    "\n",
    "fig, ax = plt.subplots()\n",
    "\n",
    "c = ax.pcolormesh(x, y, z, cmap='viridis', vmin=z_min, vmax=z_max)\n",
    "ax.set_title('pcolormesh')\n",
    "# set the limits of the plot to the limits of the data\n",
    "ax.axis([x.min(), x.max(), y.min(), y.max()])\n",
    "fig.colorbar(c, ax=ax)\n",
    "\n",
    "plt.show()"
   ]
  },
  {
   "cell_type": "code",
   "execution_count": null,
   "metadata": {},
   "outputs": [],
   "source": []
  }
 ],
 "metadata": {
  "kernelspec": {
   "display_name": "Python 3",
   "language": "python",
   "name": "python3"
  },
  "language_info": {
   "codemirror_mode": {
    "name": "ipython",
    "version": 3
   },
   "file_extension": ".py",
   "mimetype": "text/x-python",
   "name": "python",
   "nbconvert_exporter": "python",
   "pygments_lexer": "ipython3",
   "version": "3.6.9"
  }
 },
 "nbformat": 4,
 "nbformat_minor": 2
}
