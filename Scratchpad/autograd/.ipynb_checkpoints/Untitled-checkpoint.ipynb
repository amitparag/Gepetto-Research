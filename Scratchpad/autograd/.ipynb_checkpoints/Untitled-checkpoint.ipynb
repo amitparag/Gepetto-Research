{
 "cells": [
  {
   "cell_type": "code",
   "execution_count": 1,
   "metadata": {},
   "outputs": [],
   "source": [
    "%load_ext autoreload\n",
    "%autoreload 2 "
   ]
  },
  {
   "cell_type": "code",
   "execution_count": null,
   "metadata": {},
   "outputs": [],
   "source": []
  },
  {
   "cell_type": "code",
   "execution_count": 100,
   "metadata": {},
   "outputs": [],
   "source": [
    "import torch\n",
    "import torch.nn as nn\n",
    "\n",
    "\n",
    "class SQNet(nn.Module):\n",
    "    def __init__(self, \n",
    "                 input_features,\n",
    "                 output_features,\n",
    "                 n_hiddenunits = 16):\n",
    "        \n",
    "        super(SQNet, self).__init__()\n",
    "        \n",
    "        # Structure\n",
    "        self.fc1 = nn.Linear(input_features, n_hiddenunits)\n",
    "        self.fc2 = nn.Linear(n_hiddenunits, 3)\n",
    "        self.fc3 = nn.Linear(3, 3)\n",
    "        self.fc4 = nn.Linear(3, output_features)\n",
    "\n",
    "        \n",
    "        # Initialization protocol\n",
    "        nn.init.xavier_uniform_(self.fc1.weight)\n",
    "        nn.init.xavier_uniform_(self.fc2.weight)\n",
    "        nn.init.xavier_uniform_(self.fc3.weight)\n",
    "        nn.init.xavier_uniform_(self.fc4.weight)\n",
    "\n",
    "\n",
    "      \n",
    "        self.device = torch.device('cpu')\n",
    "        self.to(self.device)\n",
    "\n",
    "    def forward(self, x):\n",
    "        \n",
    "        x1 = torch.tanh(self.fc1(x)) \n",
    "        x2 = torch.tanh(self.fc2(x1)) \n",
    "        x3 = self.fc3(x2) \n",
    "        x4 = self.fc4(x3) ** 2\n",
    "\n",
    "        \n",
    "        return x4\n",
    "    \n",
    "\n",
    "    def jacobian(self, x):\n",
    "        \"\"\"\n",
    "        The output of net.eval() can be more than one element\n",
    "        \"\"\"\n",
    "        if x.shape[0] > 1:\n",
    "            j = [torch.autograd.functional.jacobian(self.forward, x) for x in x]\n",
    "            return torch.stack(j).squeeze()\n",
    "        else:\n",
    "            return torch.autograd.functional.jacobian(self.forward, x)\n",
    "                \n",
    "    def hessian(self, x):\n",
    "        \"\"\"\n",
    "        The output of the net should always be a single element. Will throw and error if output of \n",
    "        self.forward(x) is more than 1 element.\n",
    "        \n",
    "        \"\"\"\n",
    "        if x.shape[0] > 1:\n",
    "            h = [torch.autograd.functional.hessian(self.forward, x) for x in x]\n",
    "            return torch.stack(h).squeeze()\n",
    "        else:\n",
    "            return torch.autograd.functional.hessian(self.forward, x)\n",
    "            \n",
    "\n",
    "\n"
   ]
  },
  {
   "cell_type": "code",
   "execution_count": null,
   "metadata": {},
   "outputs": [],
   "source": []
  }
 ],
 "metadata": {
  "kernelspec": {
   "display_name": "Python 3",
   "language": "python",
   "name": "python3"
  },
  "language_info": {
   "codemirror_mode": {
    "name": "ipython",
    "version": 3
   },
   "file_extension": ".py",
   "mimetype": "text/x-python",
   "name": "python",
   "nbconvert_exporter": "python",
   "pygments_lexer": "ipython3",
   "version": "3.6.9"
  }
 },
 "nbformat": 4,
 "nbformat_minor": 2
}
