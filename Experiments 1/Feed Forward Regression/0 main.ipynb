{
 "cells": [
  {
   "cell_type": "code",
   "execution_count": 1,
   "metadata": {},
   "outputs": [],
   "source": [
    "%load_ext autoreload\n",
    "%autoreload 2 "
   ]
  },
  {
   "cell_type": "code",
   "execution_count": 2,
   "metadata": {},
   "outputs": [],
   "source": [
    "import torch\n",
    "import numpy as np\n",
    "from data import dataGen"
   ]
  },
  {
   "cell_type": "code",
   "execution_count": 8,
   "metadata": {},
   "outputs": [],
   "source": [
    "import numpy as np\n",
    "import torch\n",
    "import torch.nn as nn\n",
    "import torch.nn.functional as F\n",
    "import numpy as np\n",
    "\n",
    "\n",
    "class FNet(nn.Module):\n",
    "    def __init__(self, \n",
    "                 input_features,\n",
    "                 output_features,\n",
    "                 n_hiddenunits = 16):\n",
    "        \n",
    "        super(FNet, self).__init__()\n",
    "        \n",
    "        # Structure\n",
    "        self.fc1 = nn.Linear(input_features, n_hiddenunits)\n",
    "        self.fc2 = nn.Linear(n_hiddenunits, 3)\n",
    "        self.fc3 = nn.Linear(3, output_features)\n",
    "\n",
    "        \n",
    "        # Initialization protocol\n",
    "        nn.init.xavier_uniform_(self.fc1.weight)\n",
    "        nn.init.xavier_uniform_(self.fc2.weight)\n",
    "        nn.init.xavier_uniform_(self.fc3.weight)\n",
    "        \n",
    "\n",
    "      \n",
    "        self.device = torch.device('cpu')\n",
    "        self.to(self.device)\n",
    "\n",
    "    def forward(self, x):\n",
    "        \n",
    "        x1 = torch.tanh(self.fc1(x)) \n",
    "        x2 = torch.tanh(self.fc2(x1)) \n",
    "        x3 = self.fc3(x2) \n",
    "        \n",
    "        \n",
    "        return x3\n",
    "    \n",
    "net = FNet(3, 1)"
   ]
  },
  {
   "cell_type": "code",
   "execution_count": 9,
   "metadata": {},
   "outputs": [],
   "source": [
    "d, _, = dataGen(10)"
   ]
  },
  {
   "cell_type": "code",
   "execution_count": 12,
   "metadata": {},
   "outputs": [
    {
     "data": {
      "text/plain": [
       "tensor([[ 0.6507],\n",
       "        [-0.9832],\n",
       "        [-1.0792],\n",
       "        [ 1.3565],\n",
       "        [-1.0841],\n",
       "        [ 0.1038],\n",
       "        [ 0.8350],\n",
       "        [-1.0321],\n",
       "        [ 0.9624],\n",
       "        [-0.0836]], grad_fn=<AddmmBackward>)"
      ]
     },
     "execution_count": 12,
     "metadata": {},
     "output_type": "execute_result"
    }
   ],
   "source": [
    "net(d)"
   ]
  },
  {
   "cell_type": "code",
   "execution_count": null,
   "metadata": {},
   "outputs": [],
   "source": []
  }
 ],
 "metadata": {
  "kernelspec": {
   "display_name": "Python 3",
   "language": "python",
   "name": "python3"
  },
  "language_info": {
   "codemirror_mode": {
    "name": "ipython",
    "version": 3
   },
   "file_extension": ".py",
   "mimetype": "text/x-python",
   "name": "python",
   "nbconvert_exporter": "python",
   "pygments_lexer": "ipython3",
   "version": "3.6.9"
  }
 },
 "nbformat": 4,
 "nbformat_minor": 2
}
