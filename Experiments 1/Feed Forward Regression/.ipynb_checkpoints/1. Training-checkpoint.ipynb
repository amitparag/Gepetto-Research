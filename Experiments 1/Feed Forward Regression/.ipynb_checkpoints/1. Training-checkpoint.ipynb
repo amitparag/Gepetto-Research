{
 "cells": [
  {
   "cell_type": "code",
   "execution_count": 1,
   "metadata": {},
   "outputs": [],
   "source": [
    "%load_ext autoreload\n",
    "%autoreload 2 "
   ]
  },
  {
   "cell_type": "code",
   "execution_count": 3,
   "metadata": {},
   "outputs": [],
   "source": [
    "import torch\n",
    "import torch.optim as optim\n",
    "from torch.utils import data\n",
    "import numpy as np\n",
    "from feedforwardnet import FNet\n",
    "from data import dataGen\n",
    "from tqdm import tqdm\n",
    "from jacobian import JacobianReg\n",
    "import time\n",
    "import crocoddyl\n",
    "import matplotlib.pyplot as plt\n",
    "%matplotlib inline"
   ]
  },
  {
   "cell_type": "code",
   "execution_count": 4,
   "metadata": {},
   "outputs": [],
   "source": [
    "# Tensor data for training\n",
    "positions, costs = dataGen(size = 30000)"
   ]
  },
  {
   "cell_type": "code",
   "execution_count": null,
   "metadata": {},
   "outputs": [],
   "source": []
  },
  {
   "cell_type": "code",
   "execution_count": 5,
   "metadata": {},
   "outputs": [],
   "source": [
    "# Torch dataloader\n",
    "dataset = torch.utils.data.TensorDataset(positions,costs)\n",
    "dataloader = torch.utils.data.DataLoader(dataset, batch_size = 10000, num_workers=2) "
   ]
  },
  {
   "cell_type": "code",
   "execution_count": 6,
   "metadata": {},
   "outputs": [],
   "source": [
    "# Generate a Neural Net\n",
    "net = FNet(input_features = positions.shape[1], \n",
    "             output_features = costs.shape[1],\n",
    "             n_hiddenunits = 256)"
   ]
  },
  {
   "cell_type": "code",
   "execution_count": 7,
   "metadata": {},
   "outputs": [
    {
     "data": {
      "text/plain": [
       "FNet(\n",
       "  (fc1): Linear(in_features=3, out_features=256, bias=True)\n",
       "  (fc2): Linear(in_features=256, out_features=3, bias=True)\n",
       "  (fc3): Linear(in_features=3, out_features=1, bias=True)\n",
       ")"
      ]
     },
     "execution_count": 7,
     "metadata": {},
     "output_type": "execute_result"
    }
   ],
   "source": [
    "# Set the net to training mode\n",
    "net = net.float()\n",
    "net.train()"
   ]
  },
  {
   "cell_type": "code",
   "execution_count": 8,
   "metadata": {},
   "outputs": [],
   "source": [
    "# Initialize loss and optimizer\n",
    "criterion = torch.nn.MSELoss(reduction='sum')\n",
    "optimizer = optim.Adam(net.parameters(), lr= 1e-3, weight_decay = 0.1)   \n",
    "\n",
    "# Jacobian regularization\n",
    "reg = JacobianReg() \n",
    "lambda_JR = 0.01 \n"
   ]
  },
  {
   "cell_type": "code",
   "execution_count": null,
   "metadata": {},
   "outputs": [
    {
     "name": "stderr",
     "output_type": "stream",
     "text": [
      "  0%|          | 56/12000 [00:14<49:55,  3.99it/s]"
     ]
    }
   ],
   "source": [
    "t0 = time.time()    \n",
    "# Training    \n",
    "for epoch in tqdm(range(12000)):        \n",
    "    for i, (data, target) in enumerate(dataloader):   \n",
    "        data.requires_grad=True\n",
    "        # Forward pass\n",
    "        outputs = net(data)\n",
    "        loss1 = criterion(outputs, target)\n",
    "        loss2 = reg(data, outputs)                      # Jacobian regularization\n",
    "        loss = loss1 + lambda_JR*loss2                  # full loss\n",
    "\n",
    "        \n",
    "        # Backward and optimize\n",
    "        optimizer.zero_grad()\n",
    "        loss.backward()\n",
    "        optimizer.step()\n",
    "        \n",
    "        \n",
    "        if (i+1) % 100 == 0:\n",
    "            print (\"Epoch [{}/{}], Loss: {:.4f}\"\n",
    "                   .format(epoch+1, num_epochs,loss.item()))\n",
    "\n",
    "print('Training lasted = %.0f seconds' % (time.time()-t0))        \n",
    "\n",
    "\n",
    "\n",
    "\n"
   ]
  },
  {
   "cell_type": "code",
   "execution_count": 9,
   "metadata": {},
   "outputs": [],
   "source": [
    "torch.save(net, 'fnet.pth')"
   ]
  },
  {
   "cell_type": "code",
   "execution_count": null,
   "metadata": {},
   "outputs": [],
   "source": []
  }
 ],
 "metadata": {
  "kernelspec": {
   "display_name": "Python 3",
   "language": "python",
   "name": "python3"
  },
  "language_info": {
   "codemirror_mode": {
    "name": "ipython",
    "version": 3
   },
   "file_extension": ".py",
   "mimetype": "text/x-python",
   "name": "python",
   "nbconvert_exporter": "python",
   "pygments_lexer": "ipython3",
   "version": "3.6.9"
  }
 },
 "nbformat": 4,
 "nbformat_minor": 2
}
