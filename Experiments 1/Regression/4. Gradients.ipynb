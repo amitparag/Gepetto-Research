{
 "cells": [
  {
   "cell_type": "code",
   "execution_count": 1,
   "metadata": {},
   "outputs": [],
   "source": [
    "%load_ext autoreload\n",
    "%autoreload 2 "
   ]
  },
  {
   "cell_type": "code",
   "execution_count": 2,
   "metadata": {},
   "outputs": [],
   "source": [
    "import torch\n",
    "from neuralnet import Net\n",
    "import numpy as np\n",
    "from utils import solve_crocoddyl, random_array, griddata\n",
    "from data import solver_grads\n",
    "import matplotlib.pyplot as plt\n",
    "%matplotlib inline"
   ]
  },
  {
   "cell_type": "code",
   "execution_count": 3,
   "metadata": {},
   "outputs": [],
   "source": [
    "net = torch.load('sqnet.pth')"
   ]
  },
  {
   "cell_type": "code",
   "execution_count": 4,
   "metadata": {},
   "outputs": [],
   "source": [
    "# x can be set to any constant between -2, 2\n",
    "x = 0.99\n",
    "y = np.linspace(-1., 1., 100)\n",
    "xtest = np.array([ [x,x2, 0.] for x2 in y ])"
   ]
  },
  {
   "cell_type": "code",
   "execution_count": 5,
   "metadata": {},
   "outputs": [],
   "source": [
    "def network_grads(net, xtest):\n",
    "    cost = net(torch.tensor(xtest, dtype=torch.float32)).detach().numpy().reshape(-1,1)\n",
    "    \n",
    "    \n",
    "    states = torch.tensor(xtest, dtype=torch.float32)\n",
    "    \n",
    "    grads = net.jacobian(states).numpy()\n",
    "    grads1 = net.hessian(states).numpy()\n",
    "        \n",
    "    \n",
    "    return cost, grads, grads1"
   ]
  },
  {
   "cell_type": "code",
   "execution_count": 6,
   "metadata": {},
   "outputs": [],
   "source": [
    "cost_p, grad1_p, grad2_p = network_grads(net, xtest)"
   ]
  },
  {
   "cell_type": "code",
   "execution_count": 7,
   "metadata": {},
   "outputs": [],
   "source": [
    "cost, grad1, grad2 = solver_grads(xtest)"
   ]
  },
  {
   "cell_type": "code",
   "execution_count": null,
   "metadata": {},
   "outputs": [],
   "source": []
  },
  {
   "cell_type": "code",
   "execution_count": 8,
   "metadata": {},
   "outputs": [],
   "source": [
    "grad2_p_11 = []\n",
    "for h in grad2_p:\n",
    "    grad2_p_11.append(np.diagonal(h)[1])\n"
   ]
  },
  {
   "cell_type": "code",
   "execution_count": 9,
   "metadata": {},
   "outputs": [],
   "source": [
    "grad2_p = []\n",
    "for h in grad2:\n",
    "    grad2_p.append(np.diagonal(h)[1])"
   ]
  },
  {
   "cell_type": "code",
   "execution_count": 10,
   "metadata": {},
   "outputs": [],
   "source": [
    "cost = cost.numpy()\n",
    "grad1 = grad1.numpy()\n",
    "grad2 = grad2.numpy()"
   ]
  },
  {
   "cell_type": "code",
   "execution_count": 1,
   "metadata": {},
   "outputs": [
    {
     "ename": "NameError",
     "evalue": "name 'plt' is not defined",
     "output_type": "error",
     "traceback": [
      "\u001b[0;31m---------------------------------------------------------------------------\u001b[0m",
      "\u001b[0;31mNameError\u001b[0m                                 Traceback (most recent call last)",
      "\u001b[0;32m<ipython-input-1-1ccc583eba52>\u001b[0m in \u001b[0;36m<module>\u001b[0;34m()\u001b[0m\n\u001b[0;32m----> 1\u001b[0;31m \u001b[0mplt\u001b[0m\u001b[0;34m.\u001b[0m\u001b[0mclf\u001b[0m\u001b[0;34m(\u001b[0m\u001b[0;34m)\u001b[0m\u001b[0;34m\u001b[0m\u001b[0;34m\u001b[0m\u001b[0m\n\u001b[0m\u001b[1;32m      2\u001b[0m \u001b[0;34m\u001b[0m\u001b[0m\n\u001b[1;32m      3\u001b[0m font = {'family': 'serif',\n\u001b[1;32m      4\u001b[0m         \u001b[0;34m'color'\u001b[0m\u001b[0;34m:\u001b[0m  \u001b[0;34m'darkred'\u001b[0m\u001b[0;34m,\u001b[0m\u001b[0;34m\u001b[0m\u001b[0;34m\u001b[0m\u001b[0m\n\u001b[1;32m      5\u001b[0m         \u001b[0;34m'weight'\u001b[0m\u001b[0;34m:\u001b[0m \u001b[0;34m'normal'\u001b[0m\u001b[0;34m,\u001b[0m\u001b[0;34m\u001b[0m\u001b[0;34m\u001b[0m\u001b[0m\n",
      "\u001b[0;31mNameError\u001b[0m: name 'plt' is not defined"
     ]
    }
   ],
   "source": [
    "plt.clf()\n",
    "\n",
    "font = {'family': 'serif',\n",
    "        'color':  'darkred',\n",
    "        'weight': 'normal',\n",
    "        'size': 16,\n",
    "        }\n",
    "# Make the figure:\n",
    "\n",
    "fig, axs = plt.subplots(3, 2, figsize=(18, 20), sharex=True)\n",
    "fig.subplots_adjust(left=0.02, bottom=0.2, right=0.95, top=0.94, wspace=0.25)\n",
    "fig.suptitle(f\"X = {x}. Theta = 0\", fontsize = 20)\n",
    "\n",
    "# Plot prediction, cost\n",
    "im1 = axs[0, 0].scatter(xtest[:,1], cost_p, c = 'black', marker = \"*\")\n",
    "im2 = axs[0, 1].scatter(xtest[:,1], cost, c = 'black', marker = \"*\")\n",
    "\n",
    "\n",
    "\n",
    "im3 = axs[1, 0].scatter(xtest[:,1], grad1_p[:,1], c = 'black', marker = \"*\")\n",
    "im4 = axs[1, 1].scatter(xtest[:,1], grad1[:,1], c = 'black', marker = \"*\")\n",
    "\n",
    "\n",
    "im5 = axs[2, 0].scatter(xtest[:,1], grad2_p_11, c = 'black', marker = \"*\")\n",
    "im6 = axs[2, 1].scatter(xtest[:,1], grad2_p, c = 'black', marker = \"*\")\n",
    "\n",
    "\n",
    "\n",
    "\n",
    "\n",
    "# Set titles\n",
    "axs[0, 0].set_title(\"Predictions, P\", fontdict=font)\n",
    "axs[0, 1].set_title(\"Predictions, V\", fontdict=font)\n",
    "\n",
    "axs[1, 0].set_title(\"Grad[1]\", fontdict=font)\n",
    "axs[1, 1].set_title(\"Vx[1]\", fontdict=font)\n",
    "axs[2, 0].set_title(\"Hessian(11)\", fontdict=font)\n",
    "axs[2, 1].set_title(\"Vxx[11]\", fontdict=font)\n",
    "\n"
   ]
  },
  {
   "cell_type": "code",
   "execution_count": null,
   "metadata": {},
   "outputs": [],
   "source": []
  }
 ],
 "metadata": {
  "kernelspec": {
   "display_name": "Python 3",
   "language": "python",
   "name": "python3"
  },
  "language_info": {
   "codemirror_mode": {
    "name": "ipython",
    "version": 3
   },
   "file_extension": ".py",
   "mimetype": "text/x-python",
   "name": "python",
   "nbconvert_exporter": "python",
   "pygments_lexer": "ipython3",
   "version": "3.6.9"
  }
 },
 "nbformat": 4,
 "nbformat_minor": 2
}
