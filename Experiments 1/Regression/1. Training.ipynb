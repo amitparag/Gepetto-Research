{
 "cells": [
  {
   "cell_type": "code",
   "execution_count": 1,
   "metadata": {},
   "outputs": [],
   "source": [
    "%load_ext autoreload\n",
    "%autoreload 2 "
   ]
  },
  {
   "cell_type": "code",
   "execution_count": 13,
   "metadata": {},
   "outputs": [
    {
     "name": "stdout",
     "output_type": "stream",
     "text": [
      "Overwriting train.py\n"
     ]
    }
   ],
   "source": [
    "%%file train.py\n",
    "import torch\n",
    "import numpy as np\n",
    "import torch.optim as optim\n",
    "from torch.utils import data\n",
    "from neuralnet import FNet, SQNet\n",
    "from data import dataGen\n",
    "from tqdm import tqdm\n",
    "import time\n",
    "import crocoddyl\n",
    "\n",
    "\n",
    "\n",
    "def _sq_net():\n",
    "    \n",
    "    # Tensor data for training\n",
    "    positions, costs, _, _ = dataGen(size = 3000)\n",
    "\n",
    "    # Torch dataloader\n",
    "    dataset = torch.utils.data.TensorDataset(positions,costs)\n",
    "    dataloader = torch.utils.data.DataLoader(dataset, batch_size = 500) \n",
    "\n",
    "    \n",
    "    # Generate a Neural Net\n",
    "    net = SQNet(input_features = positions.shape[1], \n",
    "                 output_features = costs.shape[1],\n",
    "                 n_hiddenunits = 256)\n",
    "    # Initialize loss and optimizer\n",
    "    criterion = torch.nn.MSELoss(reduction='sum')\n",
    "    optimizer = optim.Adam(net.parameters(), lr=0.001, weight_decay=1e-2)\n",
    "\n",
    "\n",
    "    for epoch in tqdm(range(10000)):\n",
    "        for i, (input, target) in enumerate(dataloader):  \n",
    "\n",
    "            net.eval()\n",
    "            output = net(input)               \n",
    "\n",
    "            net.train()\n",
    "            loss = criterion(output, target)\n",
    "\n",
    "            optimizer.zero_grad()\n",
    "            loss.backward()\n",
    "            optimizer.step()\n",
    "\n",
    "\n",
    "    torch.save(net, \"sqnet.pth\")\n",
    "\n",
    "\n",
    "\n",
    "def _ffn_net():\n",
    "    \n",
    "    # Tensor data for training\n",
    "    positions, costs, _, _ = dataGen(size = 3000)\n",
    "\n",
    "    # Torch dataloader\n",
    "    dataset = torch.utils.data.TensorDataset(positions,costs)\n",
    "    dataloader = torch.utils.data.DataLoader(dataset, batch_size = 500) \n",
    "\n",
    "    \n",
    "    # Generate a Neural Net\n",
    "    net = FNet(input_features = positions.shape[1], \n",
    "                 output_features = costs.shape[1],\n",
    "                 n_hiddenunits = 16)\n",
    "    # Initialize loss and optimizer\n",
    "    criterion = torch.nn.MSELoss(reduction='sum')\n",
    "    optimizer = optim.Adam(net.parameters(), lr=0.001, weight_decay=1e-2)\n",
    "\n",
    "\n",
    "    for epoch in tqdm(range(10000)):\n",
    "        for i, (input, target) in enumerate(dataloader):  \n",
    "\n",
    "            net.eval()\n",
    "            output = net(input)               \n",
    "\n",
    "            net.train()\n",
    "            loss = criterion(output, target)\n",
    "           \n",
    "\n",
    "            optimizer.zero_grad()\n",
    "            loss.backward()\n",
    "            optimizer.step()\n",
    "\n",
    "\n",
    "      \n",
    "    torch.save(net, \"fnet.pth\")\n",
    "    \n",
    "    \n",
    "if __name__=='__main__':\n",
    "    _ffn_net()\n",
    "    _sq_net()"
   ]
  },
  {
   "cell_type": "code",
   "execution_count": null,
   "metadata": {},
   "outputs": [],
   "source": []
  }
 ],
 "metadata": {
  "kernelspec": {
   "display_name": "Python 3",
   "language": "python",
   "name": "python3"
  },
  "language_info": {
   "codemirror_mode": {
    "name": "ipython",
    "version": 3
   },
   "file_extension": ".py",
   "mimetype": "text/x-python",
   "name": "python",
   "nbconvert_exporter": "python",
   "pygments_lexer": "ipython3",
   "version": "3.6.9"
  }
 },
 "nbformat": 4,
 "nbformat_minor": 2
}
