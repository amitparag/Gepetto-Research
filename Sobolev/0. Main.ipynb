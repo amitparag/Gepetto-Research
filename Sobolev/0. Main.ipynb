{
 "cells": [
  {
   "cell_type": "code",
   "execution_count": 3,
   "metadata": {},
   "outputs": [],
   "source": [
    "%load_ext autoreload\n",
    "%autoreload 2 "
   ]
  },
  {
   "cell_type": "code",
   "execution_count": 4,
   "metadata": {},
   "outputs": [],
   "source": [
    "import torch\n",
    "import numpy as np\n",
    "from data import dataGen\n"
   ]
  },
  {
   "cell_type": "code",
   "execution_count": 16,
   "metadata": {},
   "outputs": [],
   "source": [
    "import torch\n",
    "import torch.nn as nn\n",
    "\n",
    "class SQNet(nn.Module):\n",
    "    def __init__(self,\n",
    "                 hiddenUnits = 16):\n",
    "        \n",
    "        super(SQNet, self).__init__()\n",
    "        self.nUnits = hiddenUnits\n",
    "        \n",
    "        # Structure\n",
    "        self.fc1 = nn.Linear(3, self.nUnits)\n",
    "        self.fc2 = nn.Linear(self.nUnits, 3)\n",
    "        self.fc3 = nn.Linear(3, 3)\n",
    "        self.fc4 = nn.Linear(1, 1)\n",
    "\n",
    "\n",
    "        \n",
    "        # Initialization protocol\n",
    "        nn.init.xavier_normal_(self.fc1.weight)\n",
    "        nn.init.xavier_normal_(self.fc2.weight)\n",
    "        nn.init.xavier_normal_(self.fc3.weight)\n",
    "        nn.init.xavier_normal_(self.fc4.weight)\n",
    "\n",
    "\n",
    "      \n",
    "        self.device = torch.device('cpu')\n",
    "        self.to(self.device)\n",
    "\n",
    "    def residual(self, x):\n",
    "        x = torch.tanh(self.fc1(x))\n",
    "        x = torch.tanh(self.fc2(x))\n",
    "        x = self.fc3(x)\n",
    "        assert x.requires_grad == True\n",
    "        return x\n",
    "    \n",
    "        \n",
    "            \n",
    "    \n",
    "    def forward(self, x):\n",
    "               \n",
    "        x = self.residual(x)\n",
    "        assert x.requires_grad == True\n",
    "        if x.dim() == 1:\n",
    "            x = x.reshape(3, 1)\n",
    "            value = x.T @ x\n",
    "            value = value.reshape(1, 1)\n",
    "            assert value.requires_grad == True\n",
    "            return self.fc4(value)\n",
    "        else:\n",
    "            value_tensor = []\n",
    "            for x in x:\n",
    "                x = x.reshape(3, 1)\n",
    "                value = x.T @ x\n",
    "                value = value.reshape(1, 1)\n",
    "                value_tensor.append(self.fc4(value))\n",
    "            value_tensor = torch.tensor(value_tensor, dtype = torch.float32).reshape(-1, 1)\n",
    "            value_tensor.requires_grad_(True)\n",
    "            return value_tensor\n",
    "\n",
    "\n",
    "\n",
    "    \n",
    "\n",
    "    def jacobian(self, x):\n",
    "        \"\"\"\n",
    "        The output of net.eval() can be more than one element\n",
    "        \"\"\"\n",
    "        if x.dim() == 1:\n",
    "            return torch.autograd.functional.jacobian(self.forward, x).squeeze()\n",
    "        else:\n",
    "            j = [torch.autograd.functional.jacobian(self.forward, x) for x in x]\n",
    "            return torch.stack(j).squeeze()\n",
    "\n",
    "        \n",
    "        \n",
    "        \n",
    "    def hessian(self, x):\n",
    "        \"\"\"\n",
    "        The output of net.eval() can be more than one element\n",
    "        \"\"\"\n",
    "        if x.dim() == 1:\n",
    "            return torch.autograd.functional.hessian(self.forward, x).squeeze()\n",
    "        else:\n",
    "            j = [torch.autograd.functional.hessian(self.forward, x) for x in x]\n",
    "            return torch.stack(j).squeeze()\n",
    "\n",
    "\n",
    "            \n",
    "net = SQNet()\n",
    "        \n"
   ]
  },
  {
   "cell_type": "code",
   "execution_count": 17,
   "metadata": {},
   "outputs": [],
   "source": [
    "d, _, _, _ = dataGen(5)"
   ]
  },
  {
   "cell_type": "code",
   "execution_count": null,
   "metadata": {},
   "outputs": [],
   "source": []
  },
  {
   "cell_type": "code",
   "execution_count": null,
   "metadata": {},
   "outputs": [],
   "source": []
  }
 ],
 "metadata": {
  "kernelspec": {
   "display_name": "Python 3",
   "language": "python",
   "name": "python3"
  },
  "language_info": {
   "codemirror_mode": {
    "name": "ipython",
    "version": 3
   },
   "file_extension": ".py",
   "mimetype": "text/x-python",
   "name": "python",
   "nbconvert_exporter": "python",
   "pygments_lexer": "ipython3",
   "version": "3.6.9"
  }
 },
 "nbformat": 4,
 "nbformat_minor": 2
}
