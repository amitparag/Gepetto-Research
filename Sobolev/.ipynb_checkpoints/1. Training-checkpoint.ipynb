{
 "cells": [
  {
   "cell_type": "code",
   "execution_count": 1,
   "metadata": {},
   "outputs": [],
   "source": [
    "%load_ext autoreload\n",
    "%autoreload 2 "
   ]
  },
  {
   "cell_type": "code",
   "execution_count": 2,
   "metadata": {},
   "outputs": [],
   "source": [
    "#%%file train.py\n",
    "import torch\n",
    "import numpy as np\n",
    "import torch.optim as optim\n",
    "from torch.utils import data\n",
    "from neuralnet import SQNet\n",
    "from data import dataGen\n",
    "from tqdm import tqdm\n",
    "import time\n",
    "import crocoddyl\n",
    "from jacobian import JacobianReg\n",
    "\n",
    "\n",
    "\n",
    "def _sq_net():\n",
    "    \n",
    "    # Tensor data for training\n",
    "    positions, costs, grad1, grad2 = dataGen(size = 1000)\n",
    "\n",
    "    # Torch dataloader\n",
    "    dataset = torch.utils.data.TensorDataset(positions,costs, grad1, grad2)\n",
    "    dataloader = torch.utils.data.DataLoader(dataset, batch_size = 100) \n",
    "\n",
    "    \n",
    "    # Generate a Neural Net\n",
    "    net = SQNet(hiddenUnits = 16)\n",
    "    print(net)\n",
    "    \n",
    "    # Initialize loss and optimizer\n",
    "    criterion = torch.nn.MSELoss(reduction='sum')\n",
    "    optimizer = optim.Adam(net.parameters(), lr= 1e-3)   \n",
    "\n",
    "    # Jacobian regularization\n",
    "    reg = JacobianReg() \n",
    "    lambda_JR = 0.01 \n",
    "\n",
    "\n",
    "    t0 = time.time()    \n",
    "    # Training    \n",
    "    for epoch in tqdm(range(1000)):        \n",
    "        for i, (data, target, target1, target2) in enumerate(dataloader):   \n",
    "            net.train()\n",
    "            output = net(data)\n",
    "            j      = net.jacobian(data)\n",
    "            h      = net.hessian(data)\n",
    "            loss1 = criterion(output, target)\n",
    "            loss2 = torch.sum((j - target1)**2)\n",
    "            loss3 = torch.sum((h - target2)**2)\n",
    "            loss2.requires_grad=True\n",
    "            loss3.requires_grad=True\n",
    "            #print(j, target1)\n",
    "            #print(h, target2)\n",
    "            loss = loss1 + loss2 + loss3\n",
    "            print(loss)\n",
    "            # Backward and optimize\n",
    "            optimizer.zero_grad()\n",
    "            loss.backward()\n",
    "            optimizer.step()\n",
    "\n",
    "\n",
    "\n",
    "    print('Training lasted = %.0f seconds' % (time.time()-t0))        \n",
    "\n",
    "\n",
    "\n",
    "\n",
    "\n",
    "    #torch.save(net, \"sqnet.pth\")\n",
    "\n",
    "\n",
    "\n"
   ]
  },
  {
   "cell_type": "code",
   "execution_count": 3,
   "metadata": {},
   "outputs": [
    {
     "name": "stderr",
     "output_type": "stream",
     "text": [
      "\r",
      "  0%|          | 0/1000 [00:00<?, ?it/s]"
     ]
    },
    {
     "name": "stdout",
     "output_type": "stream",
     "text": [
      "SQNet(\n",
      "  (fc1): Linear(in_features=3, out_features=16, bias=True)\n",
      "  (fc2): Linear(in_features=16, out_features=3, bias=True)\n",
      "  (fc3): Linear(in_features=3, out_features=3, bias=True)\n",
      "  (fc4): Linear(in_features=3, out_features=1, bias=True)\n",
      ")\n",
      "tensor(290194.3750, grad_fn=<AddBackward0>)\n",
      "tensor(313331.9062, grad_fn=<AddBackward0>)\n",
      "tensor(309455.2500, grad_fn=<AddBackward0>)\n",
      "tensor(284978.4375, grad_fn=<AddBackward0>)\n",
      "tensor(311133.5000, grad_fn=<AddBackward0>)\n",
      "tensor(315297.8438, grad_fn=<AddBackward0>)\n",
      "tensor(312354.0625, grad_fn=<AddBackward0>)\n",
      "tensor(314044.8438, grad_fn=<AddBackward0>)\n",
      "tensor(307093.9062, grad_fn=<AddBackward0>)\n"
     ]
    },
    {
     "name": "stderr",
     "output_type": "stream",
     "text": [
      "\r",
      "  0%|          | 1/1000 [00:01<28:27,  1.71s/it]"
     ]
    },
    {
     "name": "stdout",
     "output_type": "stream",
     "text": [
      "tensor(333643.3438, grad_fn=<AddBackward0>)\n",
      "tensor(289845.6250, grad_fn=<AddBackward0>)\n",
      "tensor(312956.6562, grad_fn=<AddBackward0>)\n",
      "tensor(309064.4688, grad_fn=<AddBackward0>)\n",
      "tensor(284627.2812, grad_fn=<AddBackward0>)\n",
      "tensor(310739.1250, grad_fn=<AddBackward0>)\n",
      "tensor(314905.6562, grad_fn=<AddBackward0>)\n",
      "tensor(311960., grad_fn=<AddBackward0>)\n",
      "tensor(313644.0312, grad_fn=<AddBackward0>)\n"
     ]
    },
    {
     "name": "stderr",
     "output_type": "stream",
     "text": [
      "\r",
      "  0%|          | 2/1000 [00:03<28:51,  1.74s/it]"
     ]
    },
    {
     "name": "stdout",
     "output_type": "stream",
     "text": [
      "tensor(306706.7812, grad_fn=<AddBackward0>)\n",
      "tensor(333227.2188, grad_fn=<AddBackward0>)\n",
      "tensor(289480.1562, grad_fn=<AddBackward0>)\n",
      "tensor(312566.1562, grad_fn=<AddBackward0>)\n",
      "tensor(308651.5938, grad_fn=<AddBackward0>)\n",
      "tensor(284255.6562, grad_fn=<AddBackward0>)\n",
      "tensor(310322.5625, grad_fn=<AddBackward0>)\n",
      "tensor(314493.1875, grad_fn=<AddBackward0>)\n",
      "tensor(311541.8750, grad_fn=<AddBackward0>)\n",
      "tensor(313217.0312, grad_fn=<AddBackward0>)\n"
     ]
    },
    {
     "name": "stderr",
     "output_type": "stream",
     "text": [
      "\r",
      "  0%|          | 3/1000 [00:05<29:04,  1.75s/it]"
     ]
    },
    {
     "name": "stdout",
     "output_type": "stream",
     "text": [
      "tensor(306301.1875, grad_fn=<AddBackward0>)\n",
      "tensor(332783.7500, grad_fn=<AddBackward0>)\n",
      "tensor(289095.5938, grad_fn=<AddBackward0>)\n",
      "tensor(312155.4375, grad_fn=<AddBackward0>)\n",
      "tensor(308212.8750, grad_fn=<AddBackward0>)\n",
      "tensor(283859.5938, grad_fn=<AddBackward0>)\n",
      "tensor(309880.0312, grad_fn=<AddBackward0>)\n",
      "tensor(314057.5312, grad_fn=<AddBackward0>)\n",
      "tensor(311097.0625, grad_fn=<AddBackward0>)\n",
      "tensor(312760.3750, grad_fn=<AddBackward0>)\n"
     ]
    },
    {
     "name": "stderr",
     "output_type": "stream",
     "text": [
      "\r",
      "  0%|          | 4/1000 [00:07<29:05,  1.75s/it]"
     ]
    },
    {
     "name": "stdout",
     "output_type": "stream",
     "text": [
      "tensor(305875.4375, grad_fn=<AddBackward0>)\n",
      "tensor(332310.9688, grad_fn=<AddBackward0>)\n",
      "tensor(288691.3750, grad_fn=<AddBackward0>)\n",
      "tensor(311723.2500, grad_fn=<AddBackward0>)\n",
      "tensor(307749.4688, grad_fn=<AddBackward0>)\n",
      "tensor(283441.0312, grad_fn=<AddBackward0>)\n",
      "tensor(309413.6250, grad_fn=<AddBackward0>)\n",
      "tensor(313601.3750, grad_fn=<AddBackward0>)\n",
      "tensor(310629.0312, grad_fn=<AddBackward0>)\n",
      "tensor(312278.1875, grad_fn=<AddBackward0>)\n"
     ]
    },
    {
     "name": "stderr",
     "output_type": "stream",
     "text": [
      "\r",
      "  0%|          | 5/1000 [00:08<29:13,  1.76s/it]"
     ]
    },
    {
     "name": "stdout",
     "output_type": "stream",
     "text": [
      "tensor(305431.6875, grad_fn=<AddBackward0>)\n",
      "tensor(331814., grad_fn=<AddBackward0>)\n",
      "tensor(288270.8125, grad_fn=<AddBackward0>)\n",
      "tensor(311273.0312, grad_fn=<AddBackward0>)\n",
      "tensor(307268.3125, grad_fn=<AddBackward0>)\n",
      "tensor(283006.8125, grad_fn=<AddBackward0>)\n",
      "tensor(308930.5625, grad_fn=<AddBackward0>)\n",
      "tensor(313131.1562, grad_fn=<AddBackward0>)\n",
      "tensor(310145.6875, grad_fn=<AddBackward0>)\n",
      "tensor(311779.8438, grad_fn=<AddBackward0>)\n"
     ]
    },
    {
     "name": "stderr",
     "output_type": "stream",
     "text": [
      "\r",
      "  1%|          | 6/1000 [00:10<29:20,  1.77s/it]"
     ]
    },
    {
     "name": "stdout",
     "output_type": "stream",
     "text": [
      "tensor(304974.4062, grad_fn=<AddBackward0>)\n",
      "tensor(331301.4062, grad_fn=<AddBackward0>)\n",
      "tensor(287838.8125, grad_fn=<AddBackward0>)\n",
      "tensor(310809.9375, grad_fn=<AddBackward0>)\n",
      "tensor(306777.5625, grad_fn=<AddBackward0>)\n",
      "tensor(282564.6250, grad_fn=<AddBackward0>)\n",
      "tensor(308438.2188, grad_fn=<AddBackward0>)\n",
      "tensor(312653., grad_fn=<AddBackward0>)\n",
      "tensor(309654.3438, grad_fn=<AddBackward0>)\n",
      "tensor(311274.2500, grad_fn=<AddBackward0>)\n",
      "tensor(304506.8438, grad_fn=<AddBackward0>)\n"
     ]
    },
    {
     "name": "stderr",
     "output_type": "stream",
     "text": [
      "\r",
      "  1%|          | 7/1000 [00:12<29:40,  1.79s/it]"
     ]
    },
    {
     "name": "stdout",
     "output_type": "stream",
     "text": [
      "tensor(330779.3750, grad_fn=<AddBackward0>)\n",
      "tensor(287398.9062, grad_fn=<AddBackward0>)\n",
      "tensor(310337.3125, grad_fn=<AddBackward0>)\n",
      "tensor(306282.3438, grad_fn=<AddBackward0>)\n",
      "tensor(282118.6562, grad_fn=<AddBackward0>)\n",
      "tensor(307940.5000, grad_fn=<AddBackward0>)\n",
      "tensor(312169.4375, grad_fn=<AddBackward0>)\n",
      "tensor(309158.5000, grad_fn=<AddBackward0>)\n",
      "tensor(310765.5938, grad_fn=<AddBackward0>)\n"
     ]
    },
    {
     "name": "stderr",
     "output_type": "stream",
     "text": [
      "\r",
      "  1%|          | 8/1000 [00:14<30:07,  1.82s/it]"
     ]
    },
    {
     "name": "stdout",
     "output_type": "stream",
     "text": [
      "tensor(304029.8125, grad_fn=<AddBackward0>)\n",
      "tensor(330249.5938, grad_fn=<AddBackward0>)\n",
      "tensor(286951.9375, grad_fn=<AddBackward0>)\n",
      "tensor(309855.5312, grad_fn=<AddBackward0>)\n",
      "tensor(305783.3125, grad_fn=<AddBackward0>)\n",
      "tensor(281669., grad_fn=<AddBackward0>)\n",
      "tensor(307437.3125, grad_fn=<AddBackward0>)\n",
      "tensor(311679.5312, grad_fn=<AddBackward0>)\n",
      "tensor(308657.9062, grad_fn=<AddBackward0>)\n",
      "tensor(310253.9375, grad_fn=<AddBackward0>)\n"
     ]
    },
    {
     "name": "stderr",
     "output_type": "stream",
     "text": [
      "\r",
      "  1%|          | 9/1000 [00:16<29:46,  1.80s/it]"
     ]
    },
    {
     "name": "stdout",
     "output_type": "stream",
     "text": [
      "tensor(303542.8125, grad_fn=<AddBackward0>)\n",
      "tensor(329710.8125, grad_fn=<AddBackward0>)\n",
      "tensor(286497.1250, grad_fn=<AddBackward0>)\n",
      "tensor(309363.4375, grad_fn=<AddBackward0>)\n",
      "tensor(305278.8750, grad_fn=<AddBackward0>)\n",
      "tensor(281214.0312, grad_fn=<AddBackward0>)\n",
      "tensor(306927.0625, grad_fn=<AddBackward0>)\n",
      "tensor(311181.3125, grad_fn=<AddBackward0>)\n",
      "tensor(308151.2188, grad_fn=<AddBackward0>)\n",
      "tensor(309737.5000, grad_fn=<AddBackward0>)\n"
     ]
    },
    {
     "name": "stderr",
     "output_type": "stream",
     "text": [
      "\r",
      "  1%|          | 10/1000 [00:17<29:54,  1.81s/it]"
     ]
    },
    {
     "name": "stdout",
     "output_type": "stream",
     "text": [
      "tensor(303045.1250, grad_fn=<AddBackward0>)\n",
      "tensor(329161.2812, grad_fn=<AddBackward0>)\n",
      "tensor(286033.6562, grad_fn=<AddBackward0>)\n",
      "tensor(308860.1562, grad_fn=<AddBackward0>)\n",
      "tensor(304766.9375, grad_fn=<AddBackward0>)\n",
      "tensor(280752., grad_fn=<AddBackward0>)\n",
      "tensor(306408.0625, grad_fn=<AddBackward0>)\n",
      "tensor(310673.1875, grad_fn=<AddBackward0>)\n",
      "tensor(307637.1562, grad_fn=<AddBackward0>)\n",
      "tensor(309214.5000, grad_fn=<AddBackward0>)\n"
     ]
    },
    {
     "name": "stderr",
     "output_type": "stream",
     "text": [
      "\r",
      "  1%|          | 11/1000 [00:19<29:44,  1.80s/it]"
     ]
    },
    {
     "name": "stdout",
     "output_type": "stream",
     "text": [
      "tensor(302536.9375, grad_fn=<AddBackward0>)\n",
      "tensor(328600.0625, grad_fn=<AddBackward0>)\n",
      "tensor(285561.1875, grad_fn=<AddBackward0>)\n",
      "tensor(308345.3438, grad_fn=<AddBackward0>)\n",
      "tensor(304246.0938, grad_fn=<AddBackward0>)\n",
      "tensor(280282.1250, grad_fn=<AddBackward0>)\n",
      "tensor(305879.3750, grad_fn=<AddBackward0>)\n",
      "tensor(310154.4375, grad_fn=<AddBackward0>)\n",
      "tensor(307115., grad_fn=<AddBackward0>)\n",
      "tensor(308683.6250, grad_fn=<AddBackward0>)\n",
      "tensor(302018.5312, grad_fn=<AddBackward0>)\n"
     ]
    },
    {
     "name": "stderr",
     "output_type": "stream",
     "text": [
      "\r",
      "  1%|          | 12/1000 [00:21<29:54,  1.82s/it]"
     ]
    },
    {
     "name": "stdout",
     "output_type": "stream",
     "text": [
      "tensor(328026.7812, grad_fn=<AddBackward0>)\n",
      "tensor(285079.7500, grad_fn=<AddBackward0>)\n",
      "tensor(307819.2188, grad_fn=<AddBackward0>)\n",
      "tensor(303715.5000, grad_fn=<AddBackward0>)\n",
      "tensor(279804.0625, grad_fn=<AddBackward0>)\n",
      "tensor(305340.6875, grad_fn=<AddBackward0>)\n",
      "tensor(309624.8125, grad_fn=<AddBackward0>)\n",
      "tensor(306584.1875, grad_fn=<AddBackward0>)\n",
      "tensor(308144.1250, grad_fn=<AddBackward0>)\n",
      "tensor(301490.1250, grad_fn=<AddBackward0>)\n"
     ]
    },
    {
     "name": "stderr",
     "output_type": "stream",
     "text": [
      "\r",
      "  1%|▏         | 13/1000 [00:23<29:45,  1.81s/it]"
     ]
    },
    {
     "name": "stdout",
     "output_type": "stream",
     "text": [
      "tensor(327441.1562, grad_fn=<AddBackward0>)\n",
      "tensor(284589.5938, grad_fn=<AddBackward0>)\n",
      "tensor(307281.8125, grad_fn=<AddBackward0>)\n",
      "tensor(303174.5938, grad_fn=<AddBackward0>)\n",
      "tensor(279317.4375, grad_fn=<AddBackward0>)\n",
      "tensor(304791.2188, grad_fn=<AddBackward0>)\n",
      "tensor(309083.8750, grad_fn=<AddBackward0>)\n",
      "tensor(306043.8438, grad_fn=<AddBackward0>)\n",
      "tensor(307594.5938, grad_fn=<AddBackward0>)\n",
      "tensor(300951.2188, grad_fn=<AddBackward0>)\n"
     ]
    },
    {
     "name": "stderr",
     "output_type": "stream",
     "text": [
      "\r",
      "  1%|▏         | 14/1000 [00:25<29:41,  1.81s/it]"
     ]
    },
    {
     "name": "stdout",
     "output_type": "stream",
     "text": [
      "tensor(326842.1250, grad_fn=<AddBackward0>)\n",
      "tensor(284090.0625, grad_fn=<AddBackward0>)\n",
      "tensor(306731.9062, grad_fn=<AddBackward0>)\n",
      "tensor(302622.2188, grad_fn=<AddBackward0>)\n",
      "tensor(278821.0625, grad_fn=<AddBackward0>)\n",
      "tensor(304229.7188, grad_fn=<AddBackward0>)\n",
      "tensor(308530.0938, grad_fn=<AddBackward0>)\n",
      "tensor(305491.9688, grad_fn=<AddBackward0>)\n",
      "tensor(307032.7188, grad_fn=<AddBackward0>)\n"
     ]
    },
    {
     "name": "stderr",
     "output_type": "stream",
     "text": [
      "\r",
      "  2%|▏         | 15/1000 [00:26<29:30,  1.80s/it]"
     ]
    },
    {
     "name": "stdout",
     "output_type": "stream",
     "text": [
      "tensor(300399.6250, grad_fn=<AddBackward0>)\n",
      "tensor(326226.5938, grad_fn=<AddBackward0>)\n",
      "tensor(283579., grad_fn=<AddBackward0>)\n",
      "tensor(306166.6875, grad_fn=<AddBackward0>)\n",
      "tensor(302055.6875, grad_fn=<AddBackward0>)\n",
      "tensor(278311.9688, grad_fn=<AddBackward0>)\n",
      "tensor(303652.7500, grad_fn=<AddBackward0>)\n",
      "tensor(307959.8750, grad_fn=<AddBackward0>)\n",
      "tensor(304924.2500, grad_fn=<AddBackward0>)\n",
      "tensor(306453.7500, grad_fn=<AddBackward0>)\n"
     ]
    },
    {
     "name": "stderr",
     "output_type": "stream",
     "text": [
      "\r",
      "  2%|▏         | 16/1000 [00:28<29:25,  1.79s/it]"
     ]
    },
    {
     "name": "stdout",
     "output_type": "stream",
     "text": [
      "tensor(299830.5312, grad_fn=<AddBackward0>)\n",
      "tensor(325588.9375, grad_fn=<AddBackward0>)\n",
      "tensor(283050.9375, grad_fn=<AddBackward0>)\n",
      "tensor(305580.1875, grad_fn=<AddBackward0>)\n",
      "tensor(301469.1875, grad_fn=<AddBackward0>)\n",
      "tensor(277784.3125, grad_fn=<AddBackward0>)\n",
      "tensor(303053.6250, grad_fn=<AddBackward0>)\n",
      "tensor(307366.4375, grad_fn=<AddBackward0>)\n",
      "tensor(304332.6250, grad_fn=<AddBackward0>)\n",
      "tensor(305849.0625, grad_fn=<AddBackward0>)\n"
     ]
    },
    {
     "name": "stderr",
     "output_type": "stream",
     "text": [
      "\r",
      "  2%|▏         | 17/1000 [00:30<29:13,  1.78s/it]"
     ]
    },
    {
     "name": "stdout",
     "output_type": "stream",
     "text": [
      "tensor(299234.5000, grad_fn=<AddBackward0>)\n",
      "tensor(324919.0938, grad_fn=<AddBackward0>)\n",
      "tensor(282495.2500, grad_fn=<AddBackward0>)\n",
      "tensor(304962.0312, grad_fn=<AddBackward0>)\n",
      "tensor(300851.3125, grad_fn=<AddBackward0>)\n",
      "tensor(277227.5312, grad_fn=<AddBackward0>)\n",
      "tensor(302420.1875, grad_fn=<AddBackward0>)\n",
      "tensor(306737.4375, grad_fn=<AddBackward0>)\n",
      "tensor(303702.8438, grad_fn=<AddBackward0>)\n",
      "tensor(305204.0625, grad_fn=<AddBackward0>)\n"
     ]
    },
    {
     "name": "stderr",
     "output_type": "stream",
     "text": [
      "\r",
      "  2%|▏         | 18/1000 [00:32<29:22,  1.80s/it]"
     ]
    },
    {
     "name": "stdout",
     "output_type": "stream",
     "text": [
      "tensor(298595.2188, grad_fn=<AddBackward0>)\n",
      "tensor(324201.3438, grad_fn=<AddBackward0>)\n",
      "tensor(281894.0938, grad_fn=<AddBackward0>)\n",
      "tensor(304296., grad_fn=<AddBackward0>)\n",
      "tensor(300181.9688, grad_fn=<AddBackward0>)\n",
      "tensor(276625.0312, grad_fn=<AddBackward0>)\n",
      "tensor(301733., grad_fn=<AddBackward0>)\n",
      "tensor(306053.6250, grad_fn=<AddBackward0>)\n",
      "tensor(303013.1875, grad_fn=<AddBackward0>)\n",
      "tensor(304496.8750, grad_fn=<AddBackward0>)\n"
     ]
    },
    {
     "name": "stderr",
     "output_type": "stream",
     "text": [
      "\r",
      "  2%|▏         | 19/1000 [00:34<29:22,  1.80s/it]"
     ]
    },
    {
     "name": "stdout",
     "output_type": "stream",
     "text": [
      "tensor(297888.2188, grad_fn=<AddBackward0>)\n",
      "tensor(323414.5000, grad_fn=<AddBackward0>)\n",
      "tensor(281223.4688, grad_fn=<AddBackward0>)\n",
      "tensor(303560.1562, grad_fn=<AddBackward0>)\n",
      "tensor(299432.5625, grad_fn=<AddBackward0>)\n",
      "tensor(275955.7500, grad_fn=<AddBackward0>)\n",
      "tensor(300966.3438, grad_fn=<AddBackward0>)\n",
      "tensor(305289.9062, grad_fn=<AddBackward0>)\n",
      "tensor(302237.8750, grad_fn=<AddBackward0>)\n",
      "tensor(303700.9688, grad_fn=<AddBackward0>)\n"
     ]
    },
    {
     "name": "stderr",
     "output_type": "stream",
     "text": [
      "\r",
      "  2%|▏         | 20/1000 [00:35<29:04,  1.78s/it]"
     ]
    },
    {
     "name": "stdout",
     "output_type": "stream",
     "text": [
      "tensor(297087.2812, grad_fn=<AddBackward0>)\n",
      "tensor(322536.5938, grad_fn=<AddBackward0>)\n",
      "tensor(280461.7812, grad_fn=<AddBackward0>)\n",
      "tensor(302733.1875, grad_fn=<AddBackward0>)\n",
      "tensor(298576., grad_fn=<AddBackward0>)\n",
      "tensor(275202.3125, grad_fn=<AddBackward0>)\n",
      "tensor(300098.1875, grad_fn=<AddBackward0>)\n",
      "tensor(304424.0312, grad_fn=<AddBackward0>)\n",
      "tensor(301358.2812, grad_fn=<AddBackward0>)\n",
      "tensor(302794.8750, grad_fn=<AddBackward0>)\n"
     ]
    },
    {
     "name": "stderr",
     "output_type": "stream",
     "text": [
      "\r",
      "  2%|▏         | 21/1000 [00:37<29:01,  1.78s/it]"
     ]
    },
    {
     "name": "stdout",
     "output_type": "stream",
     "text": [
      "tensor(296178.1875, grad_fn=<AddBackward0>)\n",
      "tensor(321552.1875, grad_fn=<AddBackward0>)\n",
      "tensor(279600.9688, grad_fn=<AddBackward0>)\n",
      "tensor(301802.4375, grad_fn=<AddBackward0>)\n",
      "tensor(297601.8438, grad_fn=<AddBackward0>)\n",
      "tensor(274356.3125, grad_fn=<AddBackward0>)\n",
      "tensor(299119.9375, grad_fn=<AddBackward0>)\n",
      "tensor(303444.2812, grad_fn=<AddBackward0>)\n",
      "tensor(300366.8125, grad_fn=<AddBackward0>)\n",
      "tensor(301766.9375, grad_fn=<AddBackward0>)\n"
     ]
    },
    {
     "name": "stderr",
     "output_type": "stream",
     "text": [
      "\r",
      "  2%|▏         | 22/1000 [00:39<29:19,  1.80s/it]"
     ]
    },
    {
     "name": "stdout",
     "output_type": "stream",
     "text": [
      "tensor(295160.4062, grad_fn=<AddBackward0>)\n",
      "tensor(320448.4062, grad_fn=<AddBackward0>)\n",
      "tensor(278640.9062, grad_fn=<AddBackward0>)\n",
      "tensor(300759.9688, grad_fn=<AddBackward0>)\n",
      "tensor(296512.8125, grad_fn=<AddBackward0>)\n",
      "tensor(273408.1250, grad_fn=<AddBackward0>)\n",
      "tensor(298025.6250, grad_fn=<AddBackward0>)\n",
      "tensor(302342.4688, grad_fn=<AddBackward0>)\n",
      "tensor(299253.1875, grad_fn=<AddBackward0>)\n",
      "tensor(300607.9375, grad_fn=<AddBackward0>)\n"
     ]
    },
    {
     "name": "stderr",
     "output_type": "stream",
     "text": [
      "\r",
      "  2%|▏         | 23/1000 [00:41<28:53,  1.77s/it]"
     ]
    },
    {
     "name": "stdout",
     "output_type": "stream",
     "text": [
      "tensor(294032.4688, grad_fn=<AddBackward0>)\n",
      "tensor(319208.0938, grad_fn=<AddBackward0>)\n",
      "tensor(277572.1250, grad_fn=<AddBackward0>)\n",
      "tensor(299593.0312, grad_fn=<AddBackward0>)\n",
      "tensor(295311.5625, grad_fn=<AddBackward0>)\n",
      "tensor(272341.2500, grad_fn=<AddBackward0>)\n",
      "tensor(296804.1562, grad_fn=<AddBackward0>)\n",
      "tensor(301116., grad_fn=<AddBackward0>)\n",
      "tensor(298012.0312, grad_fn=<AddBackward0>)\n",
      "tensor(299319.1250, grad_fn=<AddBackward0>)\n"
     ]
    },
    {
     "name": "stderr",
     "output_type": "stream",
     "text": [
      "\r",
      "  2%|▏         | 24/1000 [00:42<28:51,  1.77s/it]"
     ]
    },
    {
     "name": "stdout",
     "output_type": "stream",
     "text": [
      "tensor(292796.2500, grad_fn=<AddBackward0>)\n",
      "tensor(317832.1250, grad_fn=<AddBackward0>)\n",
      "tensor(276384.5625, grad_fn=<AddBackward0>)\n",
      "tensor(298296.9688, grad_fn=<AddBackward0>)\n",
      "tensor(294007.5000, grad_fn=<AddBackward0>)\n",
      "tensor(271154., grad_fn=<AddBackward0>)\n",
      "tensor(295461.6875, grad_fn=<AddBackward0>)\n",
      "tensor(299778.5000, grad_fn=<AddBackward0>)\n",
      "tensor(296665.4375, grad_fn=<AddBackward0>)\n",
      "tensor(297929.7812, grad_fn=<AddBackward0>)\n"
     ]
    },
    {
     "name": "stderr",
     "output_type": "stream",
     "text": [
      "\r",
      "  2%|▎         | 25/1000 [00:44<28:52,  1.78s/it]"
     ]
    },
    {
     "name": "stdout",
     "output_type": "stream",
     "text": [
      "tensor(291468.5938, grad_fn=<AddBackward0>)\n",
      "tensor(316354.2500, grad_fn=<AddBackward0>)\n",
      "tensor(275105.1875, grad_fn=<AddBackward0>)\n",
      "tensor(296899.0312, grad_fn=<AddBackward0>)\n",
      "tensor(292624.5312, grad_fn=<AddBackward0>)\n",
      "tensor(269874.6562, grad_fn=<AddBackward0>)\n",
      "tensor(294031.5938, grad_fn=<AddBackward0>)\n",
      "tensor(298358.1875, grad_fn=<AddBackward0>)\n",
      "tensor(295254.2188, grad_fn=<AddBackward0>)\n",
      "tensor(296488.8750, grad_fn=<AddBackward0>)\n"
     ]
    },
    {
     "name": "stderr",
     "output_type": "stream",
     "text": [
      "\r",
      "  3%|▎         | 26/1000 [00:46<28:57,  1.78s/it]"
     ]
    },
    {
     "name": "stdout",
     "output_type": "stream",
     "text": [
      "tensor(290086.5625, grad_fn=<AddBackward0>)\n",
      "tensor(314822.3750, grad_fn=<AddBackward0>)\n",
      "tensor(273799.2500, grad_fn=<AddBackward0>)\n",
      "tensor(295460.9688, grad_fn=<AddBackward0>)\n",
      "tensor(291212.5938, grad_fn=<AddBackward0>)\n",
      "tensor(268569.0938, grad_fn=<AddBackward0>)\n",
      "tensor(292579.0625, grad_fn=<AddBackward0>)\n",
      "tensor(296920.0938, grad_fn=<AddBackward0>)\n",
      "tensor(293843.5000, grad_fn=<AddBackward0>)\n",
      "tensor(295056.2188, grad_fn=<AddBackward0>)\n"
     ]
    },
    {
     "name": "stderr",
     "output_type": "stream",
     "text": [
      "\r",
      "  3%|▎         | 27/1000 [00:48<28:40,  1.77s/it]"
     ]
    },
    {
     "name": "stdout",
     "output_type": "stream",
     "text": [
      "tensor(288708.8125, grad_fn=<AddBackward0>)\n",
      "tensor(313293.8750, grad_fn=<AddBackward0>)\n",
      "tensor(272520.8125, grad_fn=<AddBackward0>)\n",
      "tensor(294045.5312, grad_fn=<AddBackward0>)\n",
      "tensor(289826.8125, grad_fn=<AddBackward0>)\n",
      "tensor(267300.5312, grad_fn=<AddBackward0>)\n",
      "tensor(291166.9062, grad_fn=<AddBackward0>)\n",
      "tensor(295525.6250, grad_fn=<AddBackward0>)\n",
      "tensor(292477.7188, grad_fn=<AddBackward0>)\n",
      "tensor(293671.1875, grad_fn=<AddBackward0>)\n"
     ]
    },
    {
     "name": "stderr",
     "output_type": "stream",
     "text": [
      "\r",
      "  3%|▎         | 28/1000 [00:50<28:45,  1.77s/it]"
     ]
    },
    {
     "name": "stdout",
     "output_type": "stream",
     "text": [
      "tensor(287369.6875, grad_fn=<AddBackward0>)\n",
      "tensor(311805.1875, grad_fn=<AddBackward0>)\n",
      "tensor(271285.1875, grad_fn=<AddBackward0>)\n",
      "tensor(292677.2812, grad_fn=<AddBackward0>)\n",
      "tensor(288486.1875, grad_fn=<AddBackward0>)\n",
      "tensor(266083.1875, grad_fn=<AddBackward0>)\n",
      "tensor(289807.4375, grad_fn=<AddBackward0>)\n",
      "tensor(294182.3750, grad_fn=<AddBackward0>)\n",
      "tensor(291157.1250, grad_fn=<AddBackward0>)\n",
      "tensor(292332.7188, grad_fn=<AddBackward0>)\n"
     ]
    },
    {
     "name": "stderr",
     "output_type": "stream",
     "text": [
      "\r",
      "  3%|▎         | 29/1000 [00:51<28:37,  1.77s/it]"
     ]
    },
    {
     "name": "stdout",
     "output_type": "stream",
     "text": [
      "tensor(286069.6250, grad_fn=<AddBackward0>)\n",
      "tensor(310358.2812, grad_fn=<AddBackward0>)\n",
      "tensor(270086.5938, grad_fn=<AddBackward0>)\n",
      "tensor(291351.1875, grad_fn=<AddBackward0>)\n",
      "tensor(287183.5938, grad_fn=<AddBackward0>)\n",
      "tensor(264906.6250, grad_fn=<AddBackward0>)\n",
      "tensor(288488.6875, grad_fn=<AddBackward0>)\n",
      "tensor(292877.9688, grad_fn=<AddBackward0>)\n",
      "tensor(289870.6875, grad_fn=<AddBackward0>)\n",
      "tensor(291028.2500, grad_fn=<AddBackward0>)\n"
     ]
    },
    {
     "name": "stderr",
     "output_type": "stream",
     "text": [
      "\r",
      "  3%|▎         | 30/1000 [00:53<28:40,  1.77s/it]"
     ]
    },
    {
     "name": "stdout",
     "output_type": "stream",
     "text": [
      "tensor(284800.9375, grad_fn=<AddBackward0>)\n",
      "tensor(308944.9688, grad_fn=<AddBackward0>)\n",
      "tensor(268917.1562, grad_fn=<AddBackward0>)\n",
      "tensor(290057.9375, grad_fn=<AddBackward0>)\n",
      "tensor(285909.7188, grad_fn=<AddBackward0>)\n",
      "tensor(263760.5000, grad_fn=<AddBackward0>)\n",
      "tensor(287199.6250, grad_fn=<AddBackward0>)\n",
      "tensor(291602.2812, grad_fn=<AddBackward0>)\n",
      "tensor(288610.4375, grad_fn=<AddBackward0>)\n",
      "tensor(289749.0938, grad_fn=<AddBackward0>)\n"
     ]
    },
    {
     "name": "stderr",
     "output_type": "stream",
     "text": [
      "\r",
      "  3%|▎         | 31/1000 [00:55<28:20,  1.75s/it]"
     ]
    },
    {
     "name": "stdout",
     "output_type": "stream",
     "text": [
      "tensor(283557.6250, grad_fn=<AddBackward0>)\n",
      "tensor(307558.2188, grad_fn=<AddBackward0>)\n",
      "tensor(267771.4375, grad_fn=<AddBackward0>)\n",
      "tensor(288790.3750, grad_fn=<AddBackward0>)\n",
      "tensor(284658.6250, grad_fn=<AddBackward0>)\n",
      "tensor(262637.8438, grad_fn=<AddBackward0>)\n",
      "tensor(285933.3750, grad_fn=<AddBackward0>)\n",
      "tensor(290349.2188, grad_fn=<AddBackward0>)\n",
      "tensor(287371.3125, grad_fn=<AddBackward0>)\n",
      "tensor(288490.2500, grad_fn=<AddBackward0>)\n"
     ]
    },
    {
     "name": "stderr",
     "output_type": "stream",
     "text": [
      "\r",
      "  3%|▎         | 32/1000 [00:57<28:18,  1.75s/it]"
     ]
    },
    {
     "name": "stdout",
     "output_type": "stream",
     "text": [
      "tensor(282335.5938, grad_fn=<AddBackward0>)\n",
      "tensor(306193.0625, grad_fn=<AddBackward0>)\n",
      "tensor(266645.5312, grad_fn=<AddBackward0>)\n",
      "tensor(287543.7500, grad_fn=<AddBackward0>)\n",
      "tensor(283426.5000, grad_fn=<AddBackward0>)\n",
      "tensor(261534.4062, grad_fn=<AddBackward0>)\n",
      "tensor(284685.7500, grad_fn=<AddBackward0>)\n",
      "tensor(289114.8438, grad_fn=<AddBackward0>)\n",
      "tensor(286150.0312, grad_fn=<AddBackward0>)\n",
      "tensor(287248.5625, grad_fn=<AddBackward0>)\n"
     ]
    },
    {
     "name": "stderr",
     "output_type": "stream",
     "text": [
      "\r",
      "  3%|▎         | 33/1000 [00:58<28:23,  1.76s/it]"
     ]
    },
    {
     "name": "stdout",
     "output_type": "stream",
     "text": [
      "tensor(281131.8125, grad_fn=<AddBackward0>)\n",
      "tensor(304846., grad_fn=<AddBackward0>)\n",
      "tensor(265536.9375, grad_fn=<AddBackward0>)\n",
      "tensor(286314.7812, grad_fn=<AddBackward0>)\n",
      "tensor(282210.8750, grad_fn=<AddBackward0>)\n",
      "tensor(260447.5625, grad_fn=<AddBackward0>)\n",
      "tensor(283454.1250, grad_fn=<AddBackward0>)\n",
      "tensor(287896.6250, grad_fn=<AddBackward0>)\n",
      "tensor(284944.3750, grad_fn=<AddBackward0>)\n",
      "tensor(286021.9062, grad_fn=<AddBackward0>)\n"
     ]
    },
    {
     "name": "stderr",
     "output_type": "stream",
     "text": [
      "\r",
      "  3%|▎         | 34/1000 [01:00<27:51,  1.73s/it]"
     ]
    },
    {
     "name": "stdout",
     "output_type": "stream",
     "text": [
      "tensor(279944., grad_fn=<AddBackward0>)\n",
      "tensor(303514.6250, grad_fn=<AddBackward0>)\n",
      "tensor(264443.7500, grad_fn=<AddBackward0>)\n",
      "tensor(285101.3125, grad_fn=<AddBackward0>)\n",
      "tensor(281009.9062, grad_fn=<AddBackward0>)\n",
      "tensor(259375.4375, grad_fn=<AddBackward0>)\n",
      "tensor(282236.7500, grad_fn=<AddBackward0>)\n",
      "tensor(286693.0312, grad_fn=<AddBackward0>)\n",
      "tensor(283752.7812, grad_fn=<AddBackward0>)\n",
      "tensor(284809.0625, grad_fn=<AddBackward0>)\n"
     ]
    },
    {
     "name": "stderr",
     "output_type": "stream",
     "text": [
      "\r",
      "  4%|▎         | 35/1000 [01:02<28:03,  1.74s/it]"
     ]
    },
    {
     "name": "stdout",
     "output_type": "stream",
     "text": [
      "tensor(278770.7500, grad_fn=<AddBackward0>)\n",
      "tensor(302197.2500, grad_fn=<AddBackward0>)\n",
      "tensor(263364.7812, grad_fn=<AddBackward0>)\n",
      "tensor(283901.8438, grad_fn=<AddBackward0>)\n",
      "tensor(279822.5625, grad_fn=<AddBackward0>)\n",
      "tensor(258317.0312, grad_fn=<AddBackward0>)\n",
      "tensor(281032.5938, grad_fn=<AddBackward0>)\n",
      "tensor(285502.8750, grad_fn=<AddBackward0>)\n",
      "tensor(282574.2812, grad_fn=<AddBackward0>)\n",
      "tensor(283609.0938, grad_fn=<AddBackward0>)\n"
     ]
    },
    {
     "name": "stderr",
     "output_type": "stream",
     "text": [
      "\r",
      "  4%|▎         | 36/1000 [01:04<28:14,  1.76s/it]"
     ]
    },
    {
     "name": "stdout",
     "output_type": "stream",
     "text": [
      "tensor(277610.9688, grad_fn=<AddBackward0>)\n",
      "tensor(300892.7500, grad_fn=<AddBackward0>)\n",
      "tensor(262299.3125, grad_fn=<AddBackward0>)\n",
      "tensor(282715.5000, grad_fn=<AddBackward0>)\n",
      "tensor(278647.9375, grad_fn=<AddBackward0>)\n",
      "tensor(257271.7500, grad_fn=<AddBackward0>)\n",
      "tensor(279840.9688, grad_fn=<AddBackward0>)\n",
      "tensor(284325.4062, grad_fn=<AddBackward0>)\n",
      "tensor(281408.1875, grad_fn=<AddBackward0>)\n",
      "tensor(282421.4688, grad_fn=<AddBackward0>)\n"
     ]
    },
    {
     "name": "stderr",
     "output_type": "stream",
     "text": [
      "\r",
      "  4%|▎         | 37/1000 [01:05<28:17,  1.76s/it]"
     ]
    },
    {
     "name": "stdout",
     "output_type": "stream",
     "text": [
      "tensor(276464., grad_fn=<AddBackward0>)\n",
      "tensor(299600.5000, grad_fn=<AddBackward0>)\n",
      "tensor(261246.7656, grad_fn=<AddBackward0>)\n",
      "tensor(281541.7500, grad_fn=<AddBackward0>)\n",
      "tensor(277485.6562, grad_fn=<AddBackward0>)\n",
      "tensor(256239.1562, grad_fn=<AddBackward0>)\n",
      "tensor(278661.5000, grad_fn=<AddBackward0>)\n",
      "tensor(283160.3125, grad_fn=<AddBackward0>)\n",
      "tensor(280254.2500, grad_fn=<AddBackward0>)\n",
      "tensor(281245.8125, grad_fn=<AddBackward0>)\n"
     ]
    },
    {
     "name": "stderr",
     "output_type": "stream",
     "text": [
      "\r",
      "  4%|▍         | 38/1000 [01:07<27:40,  1.73s/it]"
     ]
    },
    {
     "name": "stdout",
     "output_type": "stream",
     "text": [
      "tensor(275329.5000, grad_fn=<AddBackward0>)\n",
      "tensor(298320.1250, grad_fn=<AddBackward0>)\n",
      "tensor(260206.9062, grad_fn=<AddBackward0>)\n",
      "tensor(280380.3125, grad_fn=<AddBackward0>)\n",
      "tensor(276335.4375, grad_fn=<AddBackward0>)\n",
      "tensor(255219.0625, grad_fn=<AddBackward0>)\n",
      "tensor(277494., grad_fn=<AddBackward0>)\n",
      "tensor(282007.3750, grad_fn=<AddBackward0>)\n",
      "tensor(279112.2188, grad_fn=<AddBackward0>)\n",
      "tensor(280082.0625, grad_fn=<AddBackward0>)\n"
     ]
    },
    {
     "name": "stderr",
     "output_type": "stream",
     "text": [
      "\r",
      "  4%|▍         | 39/1000 [01:09<27:31,  1.72s/it]"
     ]
    },
    {
     "name": "stdout",
     "output_type": "stream",
     "text": [
      "tensor(274207.3125, grad_fn=<AddBackward0>)\n",
      "tensor(297051.4062, grad_fn=<AddBackward0>)\n",
      "tensor(259179.7344, grad_fn=<AddBackward0>)\n",
      "tensor(279231.0625, grad_fn=<AddBackward0>)\n",
      "tensor(275197.2812, grad_fn=<AddBackward0>)\n",
      "tensor(254211.5312, grad_fn=<AddBackward0>)\n",
      "tensor(276338.5000, grad_fn=<AddBackward0>)\n",
      "tensor(280866.5938, grad_fn=<AddBackward0>)\n",
      "tensor(277982.2500, grad_fn=<AddBackward0>)\n",
      "tensor(278930.2500, grad_fn=<AddBackward0>)\n"
     ]
    },
    {
     "name": "stderr",
     "output_type": "stream",
     "text": [
      "  4%|▍         | 39/1000 [01:10<29:03,  1.81s/it]\n"
     ]
    },
    {
     "ename": "KeyboardInterrupt",
     "evalue": "",
     "output_type": "error",
     "traceback": [
      "\u001b[0;31m---------------------------------------------------------------------------\u001b[0m",
      "\u001b[0;31mKeyboardInterrupt\u001b[0m                         Traceback (most recent call last)",
      "\u001b[0;32m<ipython-input-3-4699550ad5a9>\u001b[0m in \u001b[0;36m<module>\u001b[0;34m()\u001b[0m\n\u001b[0;32m----> 1\u001b[0;31m \u001b[0m_sq_net\u001b[0m\u001b[0;34m(\u001b[0m\u001b[0;34m)\u001b[0m\u001b[0;34m\u001b[0m\u001b[0;34m\u001b[0m\u001b[0m\n\u001b[0m",
      "\u001b[0;32m<ipython-input-2-e76bf63934eb>\u001b[0m in \u001b[0;36m_sq_net\u001b[0;34m()\u001b[0m\n\u001b[1;32m     43\u001b[0m             \u001b[0moutput\u001b[0m \u001b[0;34m=\u001b[0m \u001b[0mnet\u001b[0m\u001b[0;34m(\u001b[0m\u001b[0mdata\u001b[0m\u001b[0;34m)\u001b[0m\u001b[0;34m\u001b[0m\u001b[0;34m\u001b[0m\u001b[0m\n\u001b[1;32m     44\u001b[0m             \u001b[0mj\u001b[0m      \u001b[0;34m=\u001b[0m \u001b[0mnet\u001b[0m\u001b[0;34m.\u001b[0m\u001b[0mjacobian\u001b[0m\u001b[0;34m(\u001b[0m\u001b[0mdata\u001b[0m\u001b[0;34m)\u001b[0m\u001b[0;34m\u001b[0m\u001b[0;34m\u001b[0m\u001b[0m\n\u001b[0;32m---> 45\u001b[0;31m             \u001b[0mh\u001b[0m      \u001b[0;34m=\u001b[0m \u001b[0mnet\u001b[0m\u001b[0;34m.\u001b[0m\u001b[0mhessian\u001b[0m\u001b[0;34m(\u001b[0m\u001b[0mdata\u001b[0m\u001b[0;34m)\u001b[0m\u001b[0;34m\u001b[0m\u001b[0;34m\u001b[0m\u001b[0m\n\u001b[0m\u001b[1;32m     46\u001b[0m             \u001b[0mloss1\u001b[0m \u001b[0;34m=\u001b[0m \u001b[0mcriterion\u001b[0m\u001b[0;34m(\u001b[0m\u001b[0moutput\u001b[0m\u001b[0;34m,\u001b[0m \u001b[0mtarget\u001b[0m\u001b[0;34m)\u001b[0m\u001b[0;34m\u001b[0m\u001b[0;34m\u001b[0m\u001b[0m\n\u001b[1;32m     47\u001b[0m             \u001b[0mloss2\u001b[0m \u001b[0;34m=\u001b[0m \u001b[0mtorch\u001b[0m\u001b[0;34m.\u001b[0m\u001b[0msum\u001b[0m\u001b[0;34m(\u001b[0m\u001b[0;34m(\u001b[0m\u001b[0mj\u001b[0m \u001b[0;34m-\u001b[0m \u001b[0mtarget1\u001b[0m\u001b[0;34m)\u001b[0m\u001b[0;34m**\u001b[0m\u001b[0;36m2\u001b[0m\u001b[0;34m)\u001b[0m\u001b[0;34m\u001b[0m\u001b[0;34m\u001b[0m\u001b[0m\n",
      "\u001b[0;32m/home/amit/LAAS_CNRS/Gepetto-Research/Sobolev/neuralnet.py\u001b[0m in \u001b[0;36mhessian\u001b[0;34m(self, x)\u001b[0m\n\u001b[1;32m     70\u001b[0m             \u001b[0;32mreturn\u001b[0m \u001b[0mtorch\u001b[0m\u001b[0;34m.\u001b[0m\u001b[0mautograd\u001b[0m\u001b[0;34m.\u001b[0m\u001b[0mfunctional\u001b[0m\u001b[0;34m.\u001b[0m\u001b[0mhessian\u001b[0m\u001b[0;34m(\u001b[0m\u001b[0mself\u001b[0m\u001b[0;34m.\u001b[0m\u001b[0mforward\u001b[0m\u001b[0;34m,\u001b[0m \u001b[0mx\u001b[0m\u001b[0;34m)\u001b[0m\u001b[0;34m.\u001b[0m\u001b[0msqueeze\u001b[0m\u001b[0;34m(\u001b[0m\u001b[0;34m)\u001b[0m\u001b[0;34m\u001b[0m\u001b[0;34m\u001b[0m\u001b[0m\n\u001b[1;32m     71\u001b[0m         \u001b[0;32melse\u001b[0m\u001b[0;34m:\u001b[0m\u001b[0;34m\u001b[0m\u001b[0;34m\u001b[0m\u001b[0m\n\u001b[0;32m---> 72\u001b[0;31m             \u001b[0mj\u001b[0m \u001b[0;34m=\u001b[0m \u001b[0;34m[\u001b[0m\u001b[0mtorch\u001b[0m\u001b[0;34m.\u001b[0m\u001b[0mautograd\u001b[0m\u001b[0;34m.\u001b[0m\u001b[0mfunctional\u001b[0m\u001b[0;34m.\u001b[0m\u001b[0mhessian\u001b[0m\u001b[0;34m(\u001b[0m\u001b[0mself\u001b[0m\u001b[0;34m.\u001b[0m\u001b[0mforward\u001b[0m\u001b[0;34m,\u001b[0m \u001b[0mx\u001b[0m\u001b[0;34m)\u001b[0m \u001b[0;32mfor\u001b[0m \u001b[0mx\u001b[0m \u001b[0;32min\u001b[0m \u001b[0mx\u001b[0m\u001b[0;34m]\u001b[0m\u001b[0;34m\u001b[0m\u001b[0;34m\u001b[0m\u001b[0m\n\u001b[0m\u001b[1;32m     73\u001b[0m             \u001b[0;32mreturn\u001b[0m \u001b[0mtorch\u001b[0m\u001b[0;34m.\u001b[0m\u001b[0mstack\u001b[0m\u001b[0;34m(\u001b[0m\u001b[0mj\u001b[0m\u001b[0;34m)\u001b[0m\u001b[0;34m.\u001b[0m\u001b[0msqueeze\u001b[0m\u001b[0;34m(\u001b[0m\u001b[0;34m)\u001b[0m\u001b[0;34m\u001b[0m\u001b[0;34m\u001b[0m\u001b[0m\n\u001b[1;32m     74\u001b[0m \u001b[0;34m\u001b[0m\u001b[0m\n",
      "\u001b[0;32m/home/amit/LAAS_CNRS/Gepetto-Research/Sobolev/neuralnet.py\u001b[0m in \u001b[0;36m<listcomp>\u001b[0;34m(.0)\u001b[0m\n\u001b[1;32m     70\u001b[0m             \u001b[0;32mreturn\u001b[0m \u001b[0mtorch\u001b[0m\u001b[0;34m.\u001b[0m\u001b[0mautograd\u001b[0m\u001b[0;34m.\u001b[0m\u001b[0mfunctional\u001b[0m\u001b[0;34m.\u001b[0m\u001b[0mhessian\u001b[0m\u001b[0;34m(\u001b[0m\u001b[0mself\u001b[0m\u001b[0;34m.\u001b[0m\u001b[0mforward\u001b[0m\u001b[0;34m,\u001b[0m \u001b[0mx\u001b[0m\u001b[0;34m)\u001b[0m\u001b[0;34m.\u001b[0m\u001b[0msqueeze\u001b[0m\u001b[0;34m(\u001b[0m\u001b[0;34m)\u001b[0m\u001b[0;34m\u001b[0m\u001b[0;34m\u001b[0m\u001b[0m\n\u001b[1;32m     71\u001b[0m         \u001b[0;32melse\u001b[0m\u001b[0;34m:\u001b[0m\u001b[0;34m\u001b[0m\u001b[0;34m\u001b[0m\u001b[0m\n\u001b[0;32m---> 72\u001b[0;31m             \u001b[0mj\u001b[0m \u001b[0;34m=\u001b[0m \u001b[0;34m[\u001b[0m\u001b[0mtorch\u001b[0m\u001b[0;34m.\u001b[0m\u001b[0mautograd\u001b[0m\u001b[0;34m.\u001b[0m\u001b[0mfunctional\u001b[0m\u001b[0;34m.\u001b[0m\u001b[0mhessian\u001b[0m\u001b[0;34m(\u001b[0m\u001b[0mself\u001b[0m\u001b[0;34m.\u001b[0m\u001b[0mforward\u001b[0m\u001b[0;34m,\u001b[0m \u001b[0mx\u001b[0m\u001b[0;34m)\u001b[0m \u001b[0;32mfor\u001b[0m \u001b[0mx\u001b[0m \u001b[0;32min\u001b[0m \u001b[0mx\u001b[0m\u001b[0;34m]\u001b[0m\u001b[0;34m\u001b[0m\u001b[0;34m\u001b[0m\u001b[0m\n\u001b[0m\u001b[1;32m     73\u001b[0m             \u001b[0;32mreturn\u001b[0m \u001b[0mtorch\u001b[0m\u001b[0;34m.\u001b[0m\u001b[0mstack\u001b[0m\u001b[0;34m(\u001b[0m\u001b[0mj\u001b[0m\u001b[0;34m)\u001b[0m\u001b[0;34m.\u001b[0m\u001b[0msqueeze\u001b[0m\u001b[0;34m(\u001b[0m\u001b[0;34m)\u001b[0m\u001b[0;34m\u001b[0m\u001b[0;34m\u001b[0m\u001b[0m\n\u001b[1;32m     74\u001b[0m \u001b[0;34m\u001b[0m\u001b[0m\n",
      "\u001b[0;32m/home/amit/.local/lib/python3.6/site-packages/torch/autograd/functional.py\u001b[0m in \u001b[0;36mhessian\u001b[0;34m(func, inputs, create_graph, strict)\u001b[0m\n\u001b[1;32m    539\u001b[0m         \u001b[0;32mreturn\u001b[0m \u001b[0mjac\u001b[0m\u001b[0;34m\u001b[0m\u001b[0;34m\u001b[0m\u001b[0m\n\u001b[1;32m    540\u001b[0m \u001b[0;34m\u001b[0m\u001b[0m\n\u001b[0;32m--> 541\u001b[0;31m     \u001b[0mres\u001b[0m \u001b[0;34m=\u001b[0m \u001b[0mjacobian\u001b[0m\u001b[0;34m(\u001b[0m\u001b[0mjac_func\u001b[0m\u001b[0;34m,\u001b[0m \u001b[0minputs\u001b[0m\u001b[0;34m,\u001b[0m \u001b[0mcreate_graph\u001b[0m\u001b[0;34m=\u001b[0m\u001b[0mcreate_graph\u001b[0m\u001b[0;34m,\u001b[0m \u001b[0mstrict\u001b[0m\u001b[0;34m=\u001b[0m\u001b[0mstrict\u001b[0m\u001b[0;34m)\u001b[0m\u001b[0;34m\u001b[0m\u001b[0;34m\u001b[0m\u001b[0m\n\u001b[0m\u001b[1;32m    542\u001b[0m     \u001b[0;32mreturn\u001b[0m \u001b[0m_tuple_postprocess\u001b[0m\u001b[0;34m(\u001b[0m\u001b[0mres\u001b[0m\u001b[0;34m,\u001b[0m \u001b[0;34m(\u001b[0m\u001b[0mis_inputs_tuple\u001b[0m\u001b[0;34m,\u001b[0m \u001b[0mis_inputs_tuple\u001b[0m\u001b[0;34m)\u001b[0m\u001b[0;34m)\u001b[0m\u001b[0;34m\u001b[0m\u001b[0;34m\u001b[0m\u001b[0m\n\u001b[1;32m    543\u001b[0m \u001b[0;34m\u001b[0m\u001b[0m\n",
      "\u001b[0;32m/home/amit/.local/lib/python3.6/site-packages/torch/autograd/functional.py\u001b[0m in \u001b[0;36mjacobian\u001b[0;34m(func, inputs, create_graph, strict)\u001b[0m\n\u001b[1;32m    425\u001b[0m         \u001b[0mjac_i\u001b[0m \u001b[0;34m=\u001b[0m \u001b[0mtuple\u001b[0m\u001b[0;34m(\u001b[0m\u001b[0;34m[\u001b[0m\u001b[0;34m]\u001b[0m \u001b[0;32mfor\u001b[0m \u001b[0m_\u001b[0m \u001b[0;32min\u001b[0m \u001b[0mrange\u001b[0m\u001b[0;34m(\u001b[0m\u001b[0mlen\u001b[0m\u001b[0;34m(\u001b[0m\u001b[0minputs\u001b[0m\u001b[0;34m)\u001b[0m\u001b[0;34m)\u001b[0m\u001b[0;34m)\u001b[0m\u001b[0;34m\u001b[0m\u001b[0;34m\u001b[0m\u001b[0m\n\u001b[1;32m    426\u001b[0m         \u001b[0;32mfor\u001b[0m \u001b[0mj\u001b[0m \u001b[0;32min\u001b[0m \u001b[0mrange\u001b[0m\u001b[0;34m(\u001b[0m\u001b[0mout\u001b[0m\u001b[0;34m.\u001b[0m\u001b[0mnelement\u001b[0m\u001b[0;34m(\u001b[0m\u001b[0;34m)\u001b[0m\u001b[0;34m)\u001b[0m\u001b[0;34m:\u001b[0m\u001b[0;34m\u001b[0m\u001b[0;34m\u001b[0m\u001b[0m\n\u001b[0;32m--> 427\u001b[0;31m             \u001b[0mvj\u001b[0m \u001b[0;34m=\u001b[0m \u001b[0m_autograd_grad\u001b[0m\u001b[0;34m(\u001b[0m\u001b[0;34m(\u001b[0m\u001b[0mout\u001b[0m\u001b[0;34m.\u001b[0m\u001b[0mreshape\u001b[0m\u001b[0;34m(\u001b[0m\u001b[0;34m-\u001b[0m\u001b[0;36m1\u001b[0m\u001b[0;34m)\u001b[0m\u001b[0;34m[\u001b[0m\u001b[0mj\u001b[0m\u001b[0;34m]\u001b[0m\u001b[0;34m,\u001b[0m\u001b[0;34m)\u001b[0m\u001b[0;34m,\u001b[0m \u001b[0minputs\u001b[0m\u001b[0;34m,\u001b[0m \u001b[0mretain_graph\u001b[0m\u001b[0;34m=\u001b[0m\u001b[0;32mTrue\u001b[0m\u001b[0;34m,\u001b[0m \u001b[0mcreate_graph\u001b[0m\u001b[0;34m=\u001b[0m\u001b[0mcreate_graph\u001b[0m\u001b[0;34m)\u001b[0m\u001b[0;34m\u001b[0m\u001b[0;34m\u001b[0m\u001b[0m\n\u001b[0m\u001b[1;32m    428\u001b[0m \u001b[0;34m\u001b[0m\u001b[0m\n\u001b[1;32m    429\u001b[0m             \u001b[0;32mfor\u001b[0m \u001b[0mel_idx\u001b[0m\u001b[0;34m,\u001b[0m \u001b[0;34m(\u001b[0m\u001b[0mjac_i_el\u001b[0m\u001b[0;34m,\u001b[0m \u001b[0mvj_el\u001b[0m\u001b[0;34m,\u001b[0m \u001b[0minp_el\u001b[0m\u001b[0;34m)\u001b[0m \u001b[0;32min\u001b[0m \u001b[0menumerate\u001b[0m\u001b[0;34m(\u001b[0m\u001b[0mzip\u001b[0m\u001b[0;34m(\u001b[0m\u001b[0mjac_i\u001b[0m\u001b[0;34m,\u001b[0m \u001b[0mvj\u001b[0m\u001b[0;34m,\u001b[0m \u001b[0minputs\u001b[0m\u001b[0;34m)\u001b[0m\u001b[0;34m)\u001b[0m\u001b[0;34m:\u001b[0m\u001b[0;34m\u001b[0m\u001b[0;34m\u001b[0m\u001b[0m\n",
      "\u001b[0;32m/home/amit/.local/lib/python3.6/site-packages/torch/autograd/functional.py\u001b[0m in \u001b[0;36m_autograd_grad\u001b[0;34m(outputs, inputs, grad_outputs, create_graph, retain_graph)\u001b[0m\n\u001b[1;32m    144\u001b[0m     \u001b[0;32melse\u001b[0m\u001b[0;34m:\u001b[0m\u001b[0;34m\u001b[0m\u001b[0;34m\u001b[0m\u001b[0m\n\u001b[1;32m    145\u001b[0m         return torch.autograd.grad(new_outputs, inputs, new_grad_outputs, allow_unused=True,\n\u001b[0;32m--> 146\u001b[0;31m                                    create_graph=create_graph, retain_graph=retain_graph)\n\u001b[0m\u001b[1;32m    147\u001b[0m \u001b[0;34m\u001b[0m\u001b[0m\n\u001b[1;32m    148\u001b[0m \u001b[0;32mdef\u001b[0m \u001b[0m_fill_in_zeros\u001b[0m\u001b[0;34m(\u001b[0m\u001b[0mgrads\u001b[0m\u001b[0;34m,\u001b[0m \u001b[0mrefs\u001b[0m\u001b[0;34m,\u001b[0m \u001b[0mstrict\u001b[0m\u001b[0;34m,\u001b[0m \u001b[0mcreate_graph\u001b[0m\u001b[0;34m,\u001b[0m \u001b[0mstage\u001b[0m\u001b[0;34m)\u001b[0m\u001b[0;34m:\u001b[0m\u001b[0;34m\u001b[0m\u001b[0;34m\u001b[0m\u001b[0m\n",
      "\u001b[0;32m/home/amit/.local/lib/python3.6/site-packages/torch/autograd/__init__.py\u001b[0m in \u001b[0;36mgrad\u001b[0;34m(outputs, inputs, grad_outputs, retain_graph, create_graph, only_inputs, allow_unused)\u001b[0m\n\u001b[1;32m    156\u001b[0m     return Variable._execution_engine.run_backward(\n\u001b[1;32m    157\u001b[0m         \u001b[0moutputs\u001b[0m\u001b[0;34m,\u001b[0m \u001b[0mgrad_outputs\u001b[0m\u001b[0;34m,\u001b[0m \u001b[0mretain_graph\u001b[0m\u001b[0;34m,\u001b[0m \u001b[0mcreate_graph\u001b[0m\u001b[0;34m,\u001b[0m\u001b[0;34m\u001b[0m\u001b[0;34m\u001b[0m\u001b[0m\n\u001b[0;32m--> 158\u001b[0;31m         inputs, allow_unused)\n\u001b[0m\u001b[1;32m    159\u001b[0m \u001b[0;34m\u001b[0m\u001b[0m\n\u001b[1;32m    160\u001b[0m \u001b[0;34m\u001b[0m\u001b[0m\n",
      "\u001b[0;31mKeyboardInterrupt\u001b[0m: "
     ]
    }
   ],
   "source": [
    "_sq_net()"
   ]
  },
  {
   "cell_type": "code",
   "execution_count": null,
   "metadata": {},
   "outputs": [],
   "source": []
  }
 ],
 "metadata": {
  "kernelspec": {
   "display_name": "Python 3",
   "language": "python",
   "name": "python3"
  },
  "language_info": {
   "codemirror_mode": {
    "name": "ipython",
    "version": 3
   },
   "file_extension": ".py",
   "mimetype": "text/x-python",
   "name": "python",
   "nbconvert_exporter": "python",
   "pygments_lexer": "ipython3",
   "version": "3.6.9"
  }
 },
 "nbformat": 4,
 "nbformat_minor": 2
}
